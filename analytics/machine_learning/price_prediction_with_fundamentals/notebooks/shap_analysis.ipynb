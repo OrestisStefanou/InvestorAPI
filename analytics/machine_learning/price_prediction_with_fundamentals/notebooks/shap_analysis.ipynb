{
 "cells": [
  {
   "cell_type": "code",
   "execution_count": 1,
   "metadata": {},
   "outputs": [
    {
     "name": "stderr",
     "output_type": "stream",
     "text": [
      "IProgress not found. Please update jupyter and ipywidgets. See https://ipywidgets.readthedocs.io/en/stable/user_install.html\n"
     ]
    }
   ],
   "source": [
    "import shap\n",
    "import joblib\n",
    "\n",
    "import datetime as dt\n",
    "import sqlite3\n",
    "\n",
    "from sklearn.metrics import accuracy_score, confusion_matrix\n",
    "import matplotlib.pyplot as plt\n",
    "import seaborn as sns\n",
    "from sklearn.ensemble import RandomForestClassifier\n",
    "import numpy as np\n",
    "from sklearn.preprocessing import (\n",
    "    OneHotEncoder,\n",
    ")\n",
    "from sklearn.pipeline import make_pipeline\n",
    "from sklearn.compose import make_column_transformer\n",
    "from analytics.machine_learning.price_prediction_with_fundamentals import utils\n",
    "import pandas as pd"
   ]
  },
  {
   "cell_type": "code",
   "execution_count": 3,
   "metadata": {},
   "outputs": [
    {
     "name": "stdout",
     "output_type": "stream",
     "text": [
      "Target value counts\n",
      "1    80412\n",
      "0    77928\n",
      "Name: next_three_months_pct_change_range, dtype: int64\n",
      "Test set target value counts\n",
      "0    4329\n",
      "1    2343\n",
      "Name: next_three_months_pct_change_range, dtype: int64\n"
     ]
    }
   ],
   "source": [
    "db_conn = sqlite3.connect('/Users/orestis/MyProjects/InvestorAPI/app/database/ibd.db')\n",
    "\n",
    "query = '''\n",
    "    SELECT * \n",
    "    FROM price_prediction_dataset_v2\n",
    "    WHERE DATE(Date) <= date('now', '-3 months')\n",
    "    ORDER BY DATE(Date)\n",
    "'''\n",
    "\n",
    "dataset = pd.read_sql(query, db_conn)\n",
    "dataset.dropna(inplace=True)\n",
    "\n",
    "# Create categorical target\n",
    "bins = [-float('inf'), 0, float('inf')]\n",
    "labels = ['down', 'up']\n",
    "label_mapping = {0: 'down', 1: 'up'}\n",
    "\n",
    "dataset['next_three_months_pct_change_range'] = pd.cut(\n",
    "    dataset['price_pct_change_next_three_months'],\n",
    "    bins=bins,\n",
    "    labels=[0, 1],\n",
    "    right=False\n",
    ")\n",
    "\n",
    "print(\"Target value counts\")\n",
    "print(dataset['next_three_months_pct_change_range'].value_counts())\n",
    "\n",
    "train_set, test_set = utils.split_data_to_train_and_test(\n",
    "    df=dataset,\n",
    "    cutoff_date=dt.datetime(2023,8,1),\n",
    "    cutoff_date_column_name='Date'\n",
    ")\n",
    "\n",
    "print(\"Test set target value counts\")\n",
    "print(test_set['next_three_months_pct_change_range'].value_counts())\n",
    "\n",
    "cols_to_drop = ['symbol', 'Date', 'price_pct_change_next_six_months', 'price_pct_change_next_three_months', 'price_pct_change_next_month', 'next_three_months_pct_change_range']\n",
    "target_col = 'next_three_months_pct_change_range'\n",
    "\n",
    "y_test = test_set[target_col]\n",
    "X_test = test_set.drop(cols_to_drop, axis=1)\n",
    "\n",
    "rf_three_months_model = joblib.load('/Users/orestis/MyProjects/InvestorAPI/analytics/machine_learning/price_prediction_with_fundamentals/ml_models/rf_three_months_prediction_model.joblib') \n",
    "rf_classifier = rf_three_months_model.steps[1][1]\n",
    "column_transformer = rf_three_months_model.steps[0][1]\n"
   ]
  },
  {
   "cell_type": "code",
   "execution_count": 4,
   "metadata": {},
   "outputs": [],
   "source": [
    "explainer = shap.TreeExplainer(rf_classifier)\n",
    "features = column_transformer.get_feature_names_out()\n",
    "\n",
    "shap_values = explainer.shap_values(column_transformer.transform(X_test))\n",
    "shap.summary_plot(shap_values,column_transformer.transform(X_test), feature_names=features)"
   ]
  },
  {
   "cell_type": "code",
   "execution_count": null,
   "metadata": {},
   "outputs": [],
   "source": []
  }
 ],
 "metadata": {
  "kernelspec": {
   "display_name": "Python 3 (ipykernel)",
   "language": "python",
   "name": "python3"
  },
  "language_info": {
   "codemirror_mode": {
    "name": "ipython",
    "version": 3
   },
   "file_extension": ".py",
   "mimetype": "text/x-python",
   "name": "python",
   "nbconvert_exporter": "python",
   "pygments_lexer": "ipython3",
   "version": "3.11.0"
  }
 },
 "nbformat": 4,
 "nbformat_minor": 2
}
