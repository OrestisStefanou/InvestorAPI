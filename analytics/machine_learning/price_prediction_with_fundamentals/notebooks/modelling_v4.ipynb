{
 "cells": [
  {
   "cell_type": "code",
   "execution_count": 1,
   "metadata": {},
   "outputs": [],
   "source": [
    "import datetime as dt\n",
    "\n",
    "import pandas as pd\n",
    "from sklearn.metrics import mean_absolute_percentage_error, r2_score, mean_absolute_error\n",
    "from sklearn.preprocessing import (\n",
    "    OneHotEncoder,\n",
    ")\n",
    "from sklearn.pipeline import make_pipeline\n",
    "from sklearn.compose import make_column_transformer\n",
    "\n",
    "from analytics.machine_learning.price_prediction_with_fundamentals import utils"
   ]
  },
  {
   "cell_type": "markdown",
   "metadata": {},
   "source": [
    "# Random Forrest"
   ]
  },
  {
   "cell_type": "code",
   "execution_count": 2,
   "metadata": {},
   "outputs": [
    {
     "name": "stdout",
     "output_type": "stream",
     "text": [
      "Mean absolute error: 0.02\n"
     ]
    }
   ],
   "source": [
    "from sklearn.ensemble import RandomForestRegressor\n",
    "\n",
    "dataset = utils.get_features(features_categories=['arctan_pct_change'])\n",
    "\n",
    "train_set, test_set = utils.split_data_to_train_and_test(\n",
    "    df=dataset,\n",
    "    cutoff_date=dt.datetime(2023,6,1)\n",
    ")\n",
    "\n",
    "cols_to_drop = ['symbol', 'fiscal_date_ending', 'price_avg_pct_change_next_three_months']\n",
    "target_col = 'price_avg_pct_change_next_three_months'\n",
    "\n",
    "y_train = train_set[target_col]\n",
    "X_train = train_set.drop(cols_to_drop, axis=1)\n",
    "\n",
    "y_test = test_set[target_col]\n",
    "X_test = test_set.drop(cols_to_drop, axis=1)\n",
    "\n",
    "column_transformer = make_column_transformer(\n",
    "    (\n",
    "        OneHotEncoder(), ['sector']\n",
    "    ),\n",
    "    remainder='passthrough'\n",
    ")\n",
    "\n",
    "random_forrest = RandomForestRegressor(n_estimators=100)\n",
    "random_forrest_regressor = make_pipeline(\n",
    "    column_transformer,\n",
    "    random_forrest\n",
    ")\n",
    "\n",
    "random_forrest_regressor.fit(X_train, y_train)\n",
    "y_pred_random_forrest = random_forrest_regressor.predict(X_test)\n",
    "\n",
    "print(\"Mean absolute error: %.2f\" % mean_absolute_error(y_test, y_pred_random_forrest))"
   ]
  },
  {
   "cell_type": "code",
   "execution_count": 27,
   "metadata": {},
   "outputs": [
    {
     "data": {
      "text/plain": [
       "{'columntransformer': ColumnTransformer(remainder='passthrough',\n",
       "                   transformers=[('onehotencoder', OneHotEncoder(), ['sector'])]),\n",
       " 'randomforestregressor': RandomForestRegressor()}"
      ]
     },
     "execution_count": 27,
     "metadata": {},
     "output_type": "execute_result"
    }
   ],
   "source": [
    "random_forrest_regressor.named_steps"
   ]
  },
  {
   "cell_type": "code",
   "execution_count": 28,
   "metadata": {},
   "outputs": [
    {
     "data": {
      "text/plain": [
       "[('remainder__price_avg_pct_change_three_months', 0.20945009427850544),\n",
       " ('remainder__price_volatility_three_months', 0.13415223412601202),\n",
       " ('remainder__gross_profit_arctan_pct_change', 0.04793211263613009),\n",
       " ('remainder__payments_for_repurchase_of_equity_arctan_pct_change',\n",
       "  0.041327137760405454),\n",
       " ('remainder__operating_cashflow_arctan_pct_change', 0.0382234404450389),\n",
       " ('remainder__cashflow_from_investment_arctan_pct_change',\n",
       "  0.03522573261405776),\n",
       " ('remainder__cashflow_from_financing_arctan_pct_change',\n",
       "  0.029562971378163307),\n",
       " ('remainder__property_plant_equipment_arctan_pct_change',\n",
       "  0.027551993416335643),\n",
       " ('remainder__total_assets_arctan_pct_change', 0.026958764258755853),\n",
       " ('remainder__capital_expenditures_arctan_pct_change', 0.02645145927180378),\n",
       " ('remainder__avg_treasury_yield', 0.02639081423152141),\n",
       " ('remainder__avg_interest_rate', 0.026312321986542635),\n",
       " ('remainder__proceeds_from_issuance_of_long_term_debt_and_capital_securities_net_arctan_pct_change',\n",
       "  0.0241841634735963),\n",
       " ('remainder__cash_and_cash_equivalents_at_carrying_value_arctan_pct_change',\n",
       "  0.023595484181857432),\n",
       " ('remainder__long_term_debt_arctan_pct_change', 0.0234388268691251),\n",
       " ('remainder__net_interest_income_arctan_pct_change', 0.02311533227239321),\n",
       " ('remainder__total_current_liabilities_arctan_pct_change',\n",
       "  0.022783444290018853),\n",
       " ('remainder__total_revenue_arctan_pct_change', 0.02250094243284482),\n",
       " ('remainder__inventory_arctan_pct_change', 0.022411274900770387),\n",
       " ('remainder__avg_unemployment_rate', 0.022337232883526233),\n",
       " ('remainder__total_liabilities_arctan_pct_change', 0.021483664994186746),\n",
       " ('remainder__total_shareholder_equity_arctan_pct_change',\n",
       "  0.015535202848205587),\n",
       " ('remainder__net_income_arctan_pct_change', 0.015492604377492692),\n",
       " ('remainder__ebitda_arctan_pct_change', 0.014835217548680533),\n",
       " ('remainder__operating_income_arctan_pct_change', 0.01420604489887555),\n",
       " ('remainder__total_current_assets_arctan_pct_change', 0.013832999593811922),\n",
       " ('remainder__current_net_receivables_arctan_pct_change',\n",
       "  0.011884857705215747),\n",
       " ('remainder__dividend_payout_arctan_pct_change', 0.008422411001107964),\n",
       " ('onehotencoder__sector_FINANCE', 0.006986241441295496),\n",
       " ('onehotencoder__sector_ENERGY & TRANSPORTATION', 0.006973157193849582),\n",
       " ('onehotencoder__sector_TRADE & SERVICES', 0.0042639496377275335),\n",
       " ('onehotencoder__sector_TECHNOLOGY', 0.003441462376331872),\n",
       " ('remainder__inflation', 0.002941155362547418),\n",
       " ('onehotencoder__sector_REAL ESTATE & CONSTRUCTION', 0.0027266759834919194),\n",
       " ('onehotencoder__sector_LIFE SCIENCES', 0.0020063904126415284),\n",
       " ('onehotencoder__sector_MANUFACTURING', 0.0010621102937580038),\n",
       " ('onehotencoder__sector_', 7.662337517124292e-08)]"
      ]
     },
     "execution_count": 28,
     "metadata": {},
     "output_type": "execute_result"
    }
   ],
   "source": [
    "utils.get_feature_importance_sorted(\n",
    "    feature_importance_scores=random_forrest_regressor.named_steps['randomforestregressor'].feature_importances_,\n",
    "    feature_names=random_forrest_regressor.named_steps['columntransformer'].get_feature_names_out()\n",
    ")"
   ]
  },
  {
   "cell_type": "markdown",
   "metadata": {},
   "source": [
    "# Lasso Regression"
   ]
  },
  {
   "cell_type": "code",
   "execution_count": 2,
   "metadata": {},
   "outputs": [
    {
     "name": "stdout",
     "output_type": "stream",
     "text": [
      "Mean absolute error: 0.02\n"
     ]
    }
   ],
   "source": [
    "from sklearn.linear_model import Lasso\n",
    "\n",
    "dataset = utils.get_features(features_categories=['arctan_pct_change'])\n",
    "\n",
    "train_set, test_set = utils.split_data_to_train_and_test(\n",
    "    df=dataset,\n",
    "    cutoff_date=dt.datetime(2023,6,1)\n",
    ")\n",
    "\n",
    "cols_to_drop = ['symbol', 'fiscal_date_ending', 'price_avg_pct_change_next_three_months']\n",
    "target_col = 'price_avg_pct_change_next_three_months'\n",
    "\n",
    "y_train = train_set[target_col]\n",
    "X_train = train_set.drop(cols_to_drop, axis=1)\n",
    "\n",
    "y_test = test_set[target_col]\n",
    "X_test = test_set.drop(cols_to_drop, axis=1)\n",
    "\n",
    "column_transformer = make_column_transformer(\n",
    "    (\n",
    "        OneHotEncoder(), ['sector']\n",
    "    ),\n",
    "    remainder='passthrough'\n",
    ")\n",
    "\n",
    "lasso_regressor = make_pipeline(\n",
    "    column_transformer,\n",
    "    Lasso()\n",
    ")\n",
    "\n",
    "lasso_regressor.fit(X_train, y_train)\n",
    "y_pred_lasso = lasso_regressor.predict(X_test)\n",
    "\n",
    "print(\"Mean absolute error: %.2f\" % mean_absolute_error(y_test, y_pred_lasso))"
   ]
  },
  {
   "cell_type": "markdown",
   "metadata": {},
   "source": [
    "# XGBoost"
   ]
  },
  {
   "cell_type": "code",
   "execution_count": 2,
   "metadata": {},
   "outputs": [
    {
     "name": "stdout",
     "output_type": "stream",
     "text": [
      "Mean absolute error: 0.02\n"
     ]
    }
   ],
   "source": [
    "import xgboost as xgb\n",
    "\n",
    "dataset = utils.get_features(features_categories=['arctan_pct_change'])\n",
    "\n",
    "train_set, test_set = utils.split_data_to_train_and_test(\n",
    "    df=dataset,\n",
    "    cutoff_date=dt.datetime(2023,6,1)\n",
    ")\n",
    "\n",
    "cols_to_drop = ['symbol', 'fiscal_date_ending', 'price_avg_pct_change_next_three_months']\n",
    "target_col = 'price_avg_pct_change_next_three_months'\n",
    "\n",
    "y_train = train_set[target_col]\n",
    "X_train = train_set.drop(cols_to_drop, axis=1)\n",
    "\n",
    "y_test = test_set[target_col]\n",
    "X_test = test_set.drop(cols_to_drop, axis=1)\n",
    "\n",
    "column_transformer = make_column_transformer(\n",
    "    (\n",
    "        OneHotEncoder(), ['sector']\n",
    "    ),\n",
    "    remainder='passthrough'\n",
    ")\n",
    "\n",
    "xgb_regressor = make_pipeline(\n",
    "    column_transformer,\n",
    "    xgb.XGBRegressor(\n",
    "        objective = 'reg:absoluteerror',\n",
    "        n_estimators = 100,\n",
    "        learning_rate = 0.1,\n",
    "        # booster='dart',\n",
    "    )\n",
    ")\n",
    "\n",
    "xgb_regressor.fit(X_train, y_train)\n",
    "y_pred_xgb = xgb_regressor.predict(X_test)\n",
    "\n",
    "print(\"Mean absolute error: %.2f\" % mean_absolute_error(y_test, y_pred_xgb))"
   ]
  }
 ],
 "metadata": {
  "kernelspec": {
   "display_name": "Python 3 (ipykernel)",
   "language": "python",
   "name": "python3"
  },
  "language_info": {
   "codemirror_mode": {
    "name": "ipython",
    "version": 3
   },
   "file_extension": ".py",
   "mimetype": "text/x-python",
   "name": "python",
   "nbconvert_exporter": "python",
   "pygments_lexer": "ipython3",
   "version": "3.11.0"
  }
 },
 "nbformat": 4,
 "nbformat_minor": 2
}
