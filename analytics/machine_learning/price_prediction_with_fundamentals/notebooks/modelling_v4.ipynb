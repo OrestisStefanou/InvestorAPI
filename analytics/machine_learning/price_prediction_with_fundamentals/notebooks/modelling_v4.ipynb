{
 "cells": [
  {
   "cell_type": "code",
   "execution_count": 1,
   "metadata": {},
   "outputs": [],
   "source": [
    "import datetime as dt\n",
    "\n",
    "import pandas as pd\n",
    "from sklearn.metrics import mean_absolute_percentage_error, r2_score, mean_absolute_error\n",
    "from sklearn.preprocessing import (\n",
    "    OneHotEncoder,\n",
    "    StandardScaler\n",
    ")\n",
    "from sklearn.pipeline import make_pipeline\n",
    "from sklearn.compose import make_column_transformer\n",
    "\n",
    "from analytics.machine_learning.price_prediction_with_fundamentals import utils"
   ]
  },
  {
   "cell_type": "markdown",
   "metadata": {},
   "source": [
    "# Random Forrest"
   ]
  },
  {
   "cell_type": "code",
   "execution_count": 2,
   "metadata": {},
   "outputs": [
    {
     "name": "stdout",
     "output_type": "stream",
     "text": [
      "Mean absolute error: 6.01\n",
      "Coefficient of determination: 0.98\n",
      "Mean absolute pct error: 0.13\n"
     ]
    }
   ],
   "source": [
    "from sklearn.ensemble import RandomForestRegressor\n",
    "\n",
    "dataset = utils.get_features(features_categories=['arctan_pct_change'], target='avg_next_three_months_price')\n",
    "\n",
    "train_set, test_set = utils.split_data_to_train_and_test(\n",
    "    df=dataset,\n",
    "    cutoff_date=dt.datetime(2023,6,1)\n",
    ")\n",
    "\n",
    "cols_to_drop = ['symbol', 'fiscal_date_ending', 'avg_next_three_months_price']\n",
    "target_col = 'avg_next_three_months_price'\n",
    "\n",
    "y_train = train_set[target_col]\n",
    "X_train = train_set.drop(cols_to_drop, axis=1)\n",
    "\n",
    "y_test = test_set[target_col]\n",
    "X_test = test_set.drop(cols_to_drop, axis=1)\n",
    "\n",
    "column_transformer = make_column_transformer(\n",
    "    (\n",
    "        OneHotEncoder(), ['sector']\n",
    "    ),\n",
    "    remainder='passthrough'\n",
    ")\n",
    "\n",
    "random_forrest = RandomForestRegressor(n_estimators=100)\n",
    "random_forrest_regressor = make_pipeline(\n",
    "    column_transformer,\n",
    "    random_forrest\n",
    ")\n",
    "\n",
    "random_forrest_regressor.fit(X_train, y_train)\n",
    "y_pred_random_forrest = random_forrest_regressor.predict(X_test)\n",
    "\n",
    "print(\"Mean absolute error: %.2f\" % mean_absolute_error(y_test, y_pred_random_forrest))\n",
    "print(\"Coefficient of determination: %.2f\" % r2_score(y_test, y_pred_random_forrest))\n",
    "print(\"Mean absolute pct error: %.2f\" % mean_absolute_percentage_error(y_test, y_pred_random_forrest))"
   ]
  },
  {
   "cell_type": "code",
   "execution_count": 3,
   "metadata": {},
   "outputs": [
    {
     "data": {
      "text/plain": [
       "[('remainder__avg_three_months_price', 0.9733832082597829),\n",
       " ('remainder__price_volatility_three_months', 0.0038380903835893393),\n",
       " ('remainder__avg_natural_gas_price', 0.002119791604677019),\n",
       " ('remainder__cashflow_from_investment_arctan_pct_change',\n",
       "  0.001301497045028639),\n",
       " ('remainder__avg_oil_price', 0.001231882734403403),\n",
       " ('remainder__capital_expenditures_arctan_pct_change', 0.0011500059204233),\n",
       " ('remainder__total_assets_arctan_pct_change', 0.0010191249237280627),\n",
       " ('remainder__property_plant_equipment_arctan_pct_change',\n",
       "  0.0010142223554987359),\n",
       " ('remainder__total_shareholder_equity_arctan_pct_change',\n",
       "  0.0009927523267590724),\n",
       " ('remainder__avg_treasury_yield', 0.0009089359259042175),\n",
       " ('remainder__total_current_liabilities_arctan_pct_change',\n",
       "  0.0008701669464561718),\n",
       " ('remainder__inventory_arctan_pct_change', 0.0008165697774997011),\n",
       " ('remainder__total_liabilities_arctan_pct_change', 0.0008125340612381433),\n",
       " ('remainder__net_interest_income_arctan_pct_change', 0.0007620787148779904),\n",
       " ('remainder__cashflow_from_financing_arctan_pct_change',\n",
       "  0.000717966475551447),\n",
       " ('remainder__total_current_assets_arctan_pct_change', 0.0007138281044638306),\n",
       " ('remainder__operating_income_arctan_pct_change', 0.0006849750712774413),\n",
       " ('remainder__avg_global_commodities_index_value', 0.0006774636979408705),\n",
       " ('remainder__total_revenue_arctan_pct_change', 0.0006758484191390664),\n",
       " ('remainder__net_income_arctan_pct_change', 0.0006647914772233709),\n",
       " ('remainder__ebitda_arctan_pct_change', 0.0006442567902269912),\n",
       " ('remainder__long_term_debt_arctan_pct_change', 0.0006179726455276202),\n",
       " ('remainder__cash_and_cash_equivalents_at_carrying_value_arctan_pct_change',\n",
       "  0.0005358675976021742),\n",
       " ('remainder__gross_profit_arctan_pct_change', 0.0005186567364729339),\n",
       " ('remainder__avg_unemployment_rate', 0.0004692934607780669),\n",
       " ('remainder__payments_for_repurchase_of_equity_arctan_pct_change',\n",
       "  0.00044008938923110824),\n",
       " ('remainder__current_net_receivables_arctan_pct_change',\n",
       "  0.0003923085455537036),\n",
       " ('remainder__avg_interest_rate', 0.00035952736205972606),\n",
       " ('remainder__operating_cashflow_arctan_pct_change', 0.00033864711802182606),\n",
       " ('remainder__dividend_payout_arctan_pct_change', 0.00032829769854826753),\n",
       " ('onehotencoder__sector_REAL ESTATE & CONSTRUCTION', 0.00024523070009626046),\n",
       " ('remainder__inflation', 0.00017297175719497952),\n",
       " ('onehotencoder__sector_MANUFACTURING', 0.0001684959543844148),\n",
       " ('remainder__proceeds_from_issuance_of_long_term_debt_and_capital_securities_net_arctan_pct_change',\n",
       "  9.559463335371898e-05),\n",
       " ('onehotencoder__sector_TECHNOLOGY', 8.692817730225168e-05),\n",
       " ('onehotencoder__sector_LIFE SCIENCES', 8.14841719018257e-05),\n",
       " ('onehotencoder__sector_TRADE & SERVICES', 5.701139702591061e-05),\n",
       " ('onehotencoder__sector_FINANCE', 5.2522572955000606e-05),\n",
       " ('onehotencoder__sector_ENERGY & TRANSPORTATION', 3.91090643044077e-05),\n",
       " ('onehotencoder__sector_', 1.9962725357937455e-12)]"
      ]
     },
     "execution_count": 3,
     "metadata": {},
     "output_type": "execute_result"
    }
   ],
   "source": [
    "utils.get_feature_importance_sorted(\n",
    "    feature_importance_scores=random_forrest_regressor.named_steps['randomforestregressor'].feature_importances_,\n",
    "    feature_names=random_forrest_regressor.named_steps['columntransformer'].get_feature_names_out()\n",
    ")"
   ]
  },
  {
   "cell_type": "markdown",
   "metadata": {},
   "source": [
    "# Lasso Regression"
   ]
  },
  {
   "cell_type": "code",
   "execution_count": 3,
   "metadata": {},
   "outputs": [
    {
     "name": "stdout",
     "output_type": "stream",
     "text": [
      "Mean absolute error: 5.79\n",
      "Coefficient of determination: 0.99\n",
      "Mean absolute pct error: 0.12\n"
     ]
    }
   ],
   "source": [
    "from sklearn.linear_model import Lasso\n",
    "\n",
    "dataset = utils.get_features(features_categories=['arctan_pct_change'], target='avg_next_three_months_price')\n",
    "\n",
    "train_set, test_set = utils.split_data_to_train_and_test(\n",
    "    df=dataset,\n",
    "    cutoff_date=dt.datetime(2023,6,1)\n",
    ")\n",
    "\n",
    "cols_to_drop = ['symbol', 'fiscal_date_ending', 'avg_next_three_months_price', 'avg_global_commodities_index_value', 'avg_oil_price', 'avg_natural_gas_price']\n",
    "target_col = 'avg_next_three_months_price'\n",
    "\n",
    "y_train = train_set[target_col]\n",
    "X_train = train_set.drop(cols_to_drop, axis=1)\n",
    "\n",
    "y_test = test_set[target_col]\n",
    "X_test = test_set.drop(cols_to_drop, axis=1)\n",
    "\n",
    "column_transformer = make_column_transformer(\n",
    "    (\n",
    "        OneHotEncoder(), ['sector']\n",
    "    ),\n",
    "    remainder='passthrough'\n",
    ")\n",
    "\n",
    "lasso_regressor = make_pipeline(\n",
    "    column_transformer,\n",
    "    Lasso()\n",
    ")\n",
    "\n",
    "lasso_regressor.fit(X_train, y_train)\n",
    "y_pred_lasso = lasso_regressor.predict(X_test)\n",
    "\n",
    "print(\"Mean absolute error: %.2f\" % mean_absolute_error(y_test, y_pred_lasso))\n",
    "print(\"Coefficient of determination: %.2f\" % r2_score(y_test, y_pred_lasso))\n",
    "print(\"Mean absolute pct error: %.2f\" % mean_absolute_percentage_error(y_test, y_pred_lasso))"
   ]
  },
  {
   "cell_type": "markdown",
   "metadata": {},
   "source": [
    "# XGBoost"
   ]
  },
  {
   "cell_type": "code",
   "execution_count": 2,
   "metadata": {},
   "outputs": [
    {
     "name": "stdout",
     "output_type": "stream",
     "text": [
      "Mean absolute error: 8.02\n",
      "Coefficient of determination: 0.72\n",
      "Mean absolute pct error: 0.13\n"
     ]
    }
   ],
   "source": [
    "import xgboost as xgb\n",
    "\n",
    "dataset = utils.get_features(features_categories=['arctan_pct_change'], target='avg_next_three_months_price')\n",
    "\n",
    "train_set, test_set = utils.split_data_to_train_and_test(\n",
    "    df=dataset,\n",
    "    cutoff_date=dt.datetime(2023,6,1)\n",
    ")\n",
    "\n",
    "cols_to_drop = ['symbol', 'fiscal_date_ending', 'avg_next_three_months_price']\n",
    "target_col = 'avg_next_three_months_price'\n",
    "\n",
    "y_train = train_set[target_col]\n",
    "X_train = train_set.drop(cols_to_drop, axis=1)\n",
    "\n",
    "y_test = test_set[target_col]\n",
    "X_test = test_set.drop(cols_to_drop, axis=1)\n",
    "\n",
    "column_transformer = make_column_transformer(\n",
    "    (\n",
    "        OneHotEncoder(), ['sector']\n",
    "    ),\n",
    "    remainder='passthrough'\n",
    ")\n",
    "\n",
    "xgb_regressor = make_pipeline(\n",
    "    column_transformer,\n",
    "    xgb.XGBRegressor(\n",
    "        objective = 'reg:absoluteerror',\n",
    "        n_estimators = 100,\n",
    "        learning_rate = 0.1,\n",
    "        # booster='dart',\n",
    "    )\n",
    ")\n",
    "\n",
    "xgb_regressor.fit(X_train, y_train)\n",
    "y_pred_xgb = xgb_regressor.predict(X_test)\n",
    "\n",
    "print(\"Mean absolute error: %.2f\" % mean_absolute_error(y_test, y_pred_xgb))\n",
    "print(\"Coefficient of determination: %.2f\" % r2_score(y_test, y_pred_xgb))\n",
    "print(\"Mean absolute pct error: %.2f\" % mean_absolute_percentage_error(y_test, y_pred_xgb))"
   ]
  }
 ],
 "metadata": {
  "kernelspec": {
   "display_name": "Python 3 (ipykernel)",
   "language": "python",
   "name": "python3"
  },
  "language_info": {
   "codemirror_mode": {
    "name": "ipython",
    "version": 3
   },
   "file_extension": ".py",
   "mimetype": "text/x-python",
   "name": "python",
   "nbconvert_exporter": "python",
   "pygments_lexer": "ipython3",
   "version": "3.11.5"
  }
 },
 "nbformat": 4,
 "nbformat_minor": 2
}
