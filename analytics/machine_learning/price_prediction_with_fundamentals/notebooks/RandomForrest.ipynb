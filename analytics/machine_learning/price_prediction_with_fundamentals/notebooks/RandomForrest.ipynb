{
 "cells": [
  {
   "cell_type": "code",
   "execution_count": 1,
   "metadata": {},
   "outputs": [],
   "source": [
    "import pandas as pd\n",
    "from sklearn.metrics import mean_absolute_percentage_error, r2_score, mean_absolute_error\n",
    "\n",
    "from analytics.machine_learning.price_prediction_with_fundamentals import utils"
   ]
  },
  {
   "cell_type": "code",
   "execution_count": 2,
   "metadata": {},
   "outputs": [],
   "source": [
    "dataset = utils.get_dataset()"
   ]
  },
  {
   "cell_type": "code",
   "execution_count": 5,
   "metadata": {},
   "outputs": [
    {
     "data": {
      "image/png": "[encoded data removed]",
      "text/plain": [
       "<Figure size 1000x600 with 1 Axes>"
      ]
     },
     "metadata": {},
     "output_type": "display_data"
    }
   ],
   "source": [
    "import matplotlib.pyplot as plt\n",
    "import seaborn as sns\n",
    "\n",
    "# Define your custom bin ranges\n",
    "zero_to_thousand_step_10 = [\n",
    "    i * 10 for i in range(110)\n",
    "]\n",
    "custom_bins = [*zero_to_thousand_step_10, dataset['price'].max()]\n",
    "\n",
    "# Create a histogram with custom bins\n",
    "plt.figure(figsize=(10, 6))\n",
    "sns.histplot(data=dataset, x='price', bins=custom_bins, kde=True)\n",
    "plt.title('Price Distribution')\n",
    "plt.xlabel('Price')\n",
    "plt.ylabel('Frequency')\n",
    "plt.show()"
   ]
  },
  {
   "cell_type": "code",
   "execution_count": 6,
   "metadata": {},
   "outputs": [
    {
     "data": {
      "text/plain": [
       "count    57105.000000\n",
       "mean        67.289579\n",
       "std        150.624749\n",
       "min          0.107500\n",
       "25%         15.430000\n",
       "50%         33.755000\n",
       "75%         71.875000\n",
       "max       6341.885000\n",
       "Name: price, dtype: float64"
      ]
     },
     "execution_count": 6,
     "metadata": {},
     "output_type": "execute_result"
    }
   ],
   "source": [
    "dataset['price'].describe()"
   ]
  },
  {
   "cell_type": "code",
   "execution_count": 3,
   "metadata": {},
   "outputs": [],
   "source": [
    "import datetime as dt\n",
    "\n",
    "train_set, test_set = utils.split_data_to_train_and_test(\n",
    "    df=dataset,\n",
    "    cutoff_date=dt.datetime(2023,6,1)\n",
    ")"
   ]
  },
  {
   "cell_type": "code",
   "execution_count": 4,
   "metadata": {},
   "outputs": [],
   "source": [
    "y_train = train_set[['price', 'sector']]\n",
    "X_train = train_set.drop(['price'], axis=1)\n",
    "\n",
    "y_test = test_set[['price', 'sector']]\n",
    "X_test = test_set.drop(['price'], axis=1)"
   ]
  },
  {
   "cell_type": "code",
   "execution_count": 5,
   "metadata": {},
   "outputs": [],
   "source": [
    "from sklearn.preprocessing import (\n",
    "    OneHotEncoder,\n",
    ")\n",
    "\n",
    "one_hot_encoder = OneHotEncoder()\n",
    "\n",
    "X_train_transformed = utils.transform_input(\n",
    "    X=X_train,\n",
    "    one_hot_encoder=one_hot_encoder,\n",
    "    fit=True\n",
    ")\n",
    "\n",
    "X_test_transformed = utils.transform_input(\n",
    "    X=X_test,\n",
    "    one_hot_encoder=one_hot_encoder,\n",
    "    fit=False\n",
    ")"
   ]
  },
  {
   "cell_type": "code",
   "execution_count": 16,
   "metadata": {},
   "outputs": [],
   "source": [
    "import joblib\n",
    "\n",
    "# Number of estimators = 100\n",
    "random_forest_regr = joblib.load('random_forest_regr.sav')\n",
    "\n",
    "# evaluate model \n",
    "y_pred_rf = random_forest_regr.predict(X_test_transformed)"
   ]
  },
  {
   "cell_type": "code",
   "execution_count": 9,
   "metadata": {},
   "outputs": [],
   "source": [
    "from sklearn.ensemble import RandomForestRegressor\n",
    "\n",
    "random_forest_regr = RandomForestRegressor(n_estimators=100)\n",
    "\n",
    "random_forest_regr.fit(X_train_transformed, y_train['price'])\n",
    "\n",
    "# Make predictions using the testing set\n",
    "y_pred_rf = pd.Series(random_forest_regr.predict(X_test_transformed))"
   ]
  },
  {
   "cell_type": "code",
   "execution_count": 10,
   "metadata": {},
   "outputs": [
    {
     "name": "stdout",
     "output_type": "stream",
     "text": [
      "Mean absolute error: 18.35\n",
      "Coefficient of determination: 0.90\n",
      "Mean absolute pct error: 0.72\n"
     ]
    }
   ],
   "source": [
    "from sklearn.metrics import mean_absolute_percentage_error, r2_score, mean_absolute_error\n",
    "\n",
    "# The mean squared error\n",
    "print(\"Mean absolute error: %.2f\" % mean_absolute_error(y_test['price'], y_pred_rf))\n",
    "# The coefficient of determination: 1 is perfect prediction\n",
    "print(\"Coefficient of determination: %.2f\" % r2_score(y_test['price'], y_pred_rf))\n",
    "print(\"Mean absolute pct error: %.2f\" % mean_absolute_percentage_error(y_test['price'], y_pred_rf))"
   ]
  },
  {
   "cell_type": "code",
   "execution_count": 8,
   "metadata": {},
   "outputs": [
    {
     "data": {
      "text/plain": [
       "{'TECHNOLOGY': 32.54268704879244,\n",
       " 'MANUFACTURING': 30.711455817019658,\n",
       " 'LIFE SCIENCES': 36.40464011648828,\n",
       " 'TRADE & SERVICES': 29.74714490921403,\n",
       " 'FINANCE': 27.47139117874766,\n",
       " 'ENERGY & TRANSPORTATION': 28.468662080148853,\n",
       " 'REAL ESTATE & CONSTRUCTION': 23.751855200992235}"
      ]
     },
     "execution_count": 8,
     "metadata": {},
     "output_type": "execute_result"
    }
   ],
   "source": [
    "utils.calculate_avg_pct_loss_per_sector(\n",
    "    y_pred=y_pred_rf,\n",
    "    y_actual=y_test['price'],\n",
    "    sector_series=y_test['sector']\n",
    ")"
   ]
  },
  {
   "cell_type": "code",
   "execution_count": 9,
   "metadata": {},
   "outputs": [
    {
     "data": {
      "text/plain": [
       "{'400 - 600': 39.83016990066644,\n",
       " '0 - 50': 34.15036097547034,\n",
       " '50 - 100': 20.895870528238806,\n",
       " '100 - 200': 24.148268658709036,\n",
       " '200 - 400': 24.035328557678646,\n",
       " '1000+': 24.290625655601747,\n",
       " '600 - 1000': 28.605168921479883}"
      ]
     },
     "execution_count": 9,
     "metadata": {},
     "output_type": "execute_result"
    }
   ],
   "source": [
    "utils.calculate_avg_pct_loss_per_price_bucket(\n",
    "    y_pred=y_pred_rf,\n",
    "    y_actual=y_test['price'],\n",
    "    buckets=[\n",
    "        (0,50),\n",
    "        (50,100),\n",
    "        (100,200),\n",
    "        (200,400),\n",
    "        (400,600),\n",
    "        (600, 1000)\n",
    "    ]\n",
    ")"
   ]
  },
  {
   "cell_type": "code",
   "execution_count": 10,
   "metadata": {},
   "outputs": [
    {
     "data": {
      "text/plain": [
       "[('common_stock_shares_outstanding', 0.28877196567917107),\n",
       " ('research_and_development', 0.09225133613334029),\n",
       " ('treasury_stock', 0.04862095058769071),\n",
       " ('profit_loss', 0.04222061705278597),\n",
       " ('inventory', 0.034951244747860204),\n",
       " ('comprehensive_income_net_of_tax', 0.03244449963824051),\n",
       " ('retained_earnings', 0.02636152768656096),\n",
       " ('proceeds_from_operating_activities', 0.023580156522672653),\n",
       " ('operating_cashflow', 0.016974487926839327),\n",
       " ('total_current_assets', 0.01456341031145768),\n",
       " ('depreciation_and_amortization', 0.014350104280962946),\n",
       " ('current_accounts_payable', 0.013421365908955216),\n",
       " ('total_current_liabilities', 0.012911863524421682),\n",
       " ('selling_general_and_administrative', 0.01271098538996993),\n",
       " ('total_shareholder_equity', 0.012289001909574857),\n",
       " ('common_stock', 0.012262883961405069),\n",
       " ('depreciation_depletion_and_amortization', 0.011670625431909082),\n",
       " ('capital_lease_obligations', 0.010823830489005074),\n",
       " ('cash_and_short_term_investments', 0.009457513596784598),\n",
       " ('goodwill', 0.008952740626527967),\n",
       " ('capital_expenditures', 0.008721339475502958),\n",
       " ('payments_for_repurchase_of_equity', 0.008421945055365665),\n",
       " ('proceeds_from_repurchase_of_equity', 0.008358979917552332),\n",
       " ('gross_profit', 0.008164673043757517),\n",
       " ('cost_of_revenue', 0.008012505404688348),\n",
       " ('sector_REAL ESTATE & CONSTRUCTION', 0.007405598067212622),\n",
       " ('deferred_revenue', 0.007391716741705329),\n",
       " ('payments_for_repurchase_of_common_stock', 0.006989000300281182),\n",
       " ('net_interest_income', 0.006937124493176687),\n",
       " ('interest_and_debt_expense', 0.006731846096900421),\n",
       " ('total_liabilities', 0.006705482373685096),\n",
       " ('cash_and_cash_equivalents_at_carrying_value', 0.005960690766008113),\n",
       " ('operating_income', 0.005944206872221803),\n",
       " ('other_non_current_liabilities', 0.005608759153737082),\n",
       " ('depreciation', 0.005217414897447346),\n",
       " ('investment_income_net', 0.005124618105610193),\n",
       " ('other_non_operating_income', 0.004817190767663901),\n",
       " ('long_term_debt_noncurrent', 0.0048016962648122444),\n",
       " ('property_plant_equipment', 0.00471586725166703),\n",
       " ('net_income', 0.004689472341229081),\n",
       " ('total_non_current_assets', 0.004649833198787024),\n",
       " ('other_current_liabilities', 0.004267120354140688),\n",
       " ('investments', 0.004193121613544336),\n",
       " ('short_long_term_debt_total', 0.004175724115507398),\n",
       " ('short_term_investments', 0.004078316982100273),\n",
       " ('intangible_assets', 0.00405019372762171),\n",
       " ('total_revenue', 0.004029287037976783),\n",
       " ('operating_expenses', 0.003881366446858721),\n",
       " ('change_in_operating_liabilities', 0.003782828456970912),\n",
       " ('total_non_current_liabilities', 0.0037574780996312124),\n",
       " ('dividend_payout', 0.003615393006784522),\n",
       " ('total_assets', 0.0036002979398427706),\n",
       " ('dividend_payout_common_stock', 0.0035816149337067698),\n",
       " ('cost_of_goods_and_services_sold', 0.003464182828543923),\n",
       " ('non_interest_income', 0.0034581546496244586),\n",
       " ('interest_income', 0.0033937216142408337),\n",
       " ('other_non_current_assets', 0.0032855964988774767),\n",
       " ('intangible_assets_excluding_goodwill', 0.0031541994013403307),\n",
       " ('long_term_investments', 0.003047248259781374),\n",
       " ('ebitda', 0.002738989141025298),\n",
       " ('accumulated_depreciation_amortization_ppe', 0.0026941378535892207),\n",
       " ('cashflow_from_investment', 0.0025382092886696893),\n",
       " ('current_net_receivables', 0.002429163384695146),\n",
       " ('sector_ENERGY & TRANSPORTATION', 0.0024237403827930912),\n",
       " ('avg_treasury_yield', 0.0022224449424780635),\n",
       " ('long_term_debt', 0.0022215118848141224),\n",
       " ('other_current_assets', 0.0022057650456080357),\n",
       " ('payments_for_operating_activities', 0.002156139354433781),\n",
       " ('interest_expense', 0.0020818457195671256),\n",
       " ('income_before_tax', 0.0020267918937718335),\n",
       " ('income_tax_expense', 0.0019683723749858275),\n",
       " ('short_term_debt', 0.0019127645208840407),\n",
       " ('change_in_operating_assets', 0.0017736747754265605),\n",
       " ('avg_interest_rate', 0.0017435449139451375),\n",
       " ('inflation', 0.0017209299921178297),\n",
       " ('cashflow_from_financing', 0.001635399714760328),\n",
       " ('avg_oil_price', 0.001569137084553196),\n",
       " ('avg_global_commodities_index_value', 0.001531565904114872),\n",
       " ('net_income_from_continuing_operations', 0.0015072482293084707),\n",
       " ('sector_LIFE SCIENCES', 0.0014776084983329368),\n",
       " ('change_in_inventory', 0.0013744911933494452),\n",
       " ('sector_TRADE & SERVICES', 0.001347492699793898),\n",
       " ('change_in_receivables', 0.0013240118544457012),\n",
       " ('change_in_cash_and_cash_equivalents', 0.0013162045486245846),\n",
       " ('current_long_term_debt', 0.001279058400400323),\n",
       " ('proceeds_from_issuance_of_long_term_debt_and_capital_securities_net',\n",
       "  0.0011842398162341056),\n",
       " ('ebit', 0.0011677659946631995),\n",
       " ('proceeds_from_issuance_of_common_stock', 0.0010261576927539863),\n",
       " ('sector_TECHNOLOGY', 0.0009979846948090115),\n",
       " ('avg_unemployment_rate', 0.0009338327581012412),\n",
       " ('current_debt', 0.0009317442279549931),\n",
       " ('change_in_exchange_rate', 0.000756892410912642),\n",
       " ('avg_natural_gas_price', 0.0006517362639253926),\n",
       " ('proceeds_from_repayments_of_short_term_debt', 0.000558207624268046),\n",
       " ('sector_MANUFACTURING', 0.00029668908626606454),\n",
       " ('sector_FINANCE', 0.00024690206525474254),\n",
       " ('dividend_payout_preferred_stock', 0.00014858869890721493),\n",
       " ('proceeds_from_sale_of_treasury_stock', 7.854238441835705e-05),\n",
       " ('payments_for_repurchase_of_preferred_stock', 1.356880649922626e-05),\n",
       " ('proceeds_from_issuance_of_preferred_stock', 9.9859163010349e-06)]"
      ]
     },
     "execution_count": 10,
     "metadata": {},
     "output_type": "execute_result"
    }
   ],
   "source": [
    "utils.get_feature_importance_sorted(\n",
    "    feature_importance_scores=random_forest_regr.feature_importances_,\n",
    "    feature_names=random_forest_regr.feature_names_in_\n",
    ")"
   ]
  },
  {
   "cell_type": "markdown",
   "metadata": {},
   "source": [
    "## Train random forrest with different hyperparameters"
   ]
  },
  {
   "cell_type": "code",
   "execution_count": 15,
   "metadata": {},
   "outputs": [
    {
     "name": "stdout",
     "output_type": "stream",
     "text": [
      "Mean absolute error: 33.69\n",
      "Coefficient of determination: 0.82\n",
      "Mean absolute pct error: 1.46\n"
     ]
    }
   ],
   "source": [
    "from sklearn.ensemble import RandomForestRegressor\n",
    "\n",
    "random_forest_regr_v2 = RandomForestRegressor(n_estimators=100, max_depth=10)\n",
    "\n",
    "random_forest_regr_v2.fit(X_train_transformed, y_train['price'])\n",
    "\n",
    "# Make predictions using the testing set\n",
    "y_pred_rf_v2 = pd.Series(random_forest_regr_v2.predict(X_test_transformed))"
   ]
  },
  {
   "cell_type": "code",
   "execution_count": 19,
   "metadata": {},
   "outputs": [
    {
     "name": "stdout",
     "output_type": "stream",
     "text": [
      "Mean absolute error: 33.69\n",
      "Coefficient of determination: 0.82\n",
      "Mean absolute pct error: 1.46\n"
     ]
    }
   ],
   "source": [
    "# The mean squared error\n",
    "print(\"Mean absolute error: %.2f\" % mean_absolute_error(y_test['price'], y_pred_rf_v2))\n",
    "# The coefficient of determination: 1 is perfect prediction\n",
    "print(\"Coefficient of determination: %.2f\" % r2_score(y_test['price'], y_pred_rf_v2))\n",
    "print(\"Mean absolute pct error: %.2f\" % mean_absolute_percentage_error(y_test['price'], y_pred_rf_v2))"
   ]
  },
  {
   "cell_type": "markdown",
   "metadata": {},
   "source": [
    "## Train with data from specific sector"
   ]
  },
  {
   "cell_type": "code",
   "execution_count": 3,
   "metadata": {},
   "outputs": [],
   "source": [
    "dataset = utils.get_dataset(sector='TECHNOLOGY')\n",
    "\n",
    "import datetime as dt\n",
    "\n",
    "train_set, test_set = utils.split_data_to_train_and_test(\n",
    "    df=dataset,\n",
    "    cutoff_date=dt.datetime(2023,6,1)\n",
    ")\n",
    "\n",
    "y_train = train_set[['price', 'sector']]\n",
    "X_train = train_set.drop(['price'], axis=1)\n",
    "\n",
    "y_test = test_set[['price', 'sector']]\n",
    "X_test = test_set.drop(['price'], axis=1)\n",
    "\n",
    "from sklearn.preprocessing import (\n",
    "    OneHotEncoder,\n",
    ")\n",
    "\n",
    "one_hot_encoder = OneHotEncoder()\n",
    "\n",
    "X_train_transformed = utils.transform_input(\n",
    "    X=X_train,\n",
    "    one_hot_encoder=one_hot_encoder,\n",
    "    fit=True\n",
    ")\n",
    "\n",
    "X_test_transformed = utils.transform_input(\n",
    "    X=X_test,\n",
    "    one_hot_encoder=one_hot_encoder,\n",
    "    fit=False\n",
    ")"
   ]
  },
  {
   "cell_type": "code",
   "execution_count": 4,
   "metadata": {},
   "outputs": [],
   "source": [
    "from sklearn.ensemble import RandomForestRegressor\n",
    "\n",
    "random_forest_regr_tech = RandomForestRegressor(n_estimators=100)\n",
    "\n",
    "random_forest_regr_tech.fit(X_train_transformed, y_train['price'])\n",
    "\n",
    "# Make predictions using the testing set\n",
    "y_pred_rf_tech = pd.Series(random_forest_regr_tech.predict(X_test_transformed))\n"
   ]
  },
  {
   "cell_type": "code",
   "execution_count": 5,
   "metadata": {},
   "outputs": [
    {
     "name": "stdout",
     "output_type": "stream",
     "text": [
      "Mean absolute error: 18.26\n",
      "Coefficient of determination: 0.90\n",
      "Mean absolute pct error: 0.72\n"
     ]
    }
   ],
   "source": [
    "# The mean squared error\n",
    "print(\"Mean absolute error: %.2f\" % mean_absolute_error(y_test['price'], y_pred_rf_tech))\n",
    "# The coefficient of determination: 1 is perfect prediction\n",
    "print(\"Coefficient of determination: %.2f\" % r2_score(y_test['price'], y_pred_rf_tech))\n",
    "print(\"Mean absolute pct error: %.2f\" % mean_absolute_percentage_error(y_test['price'], y_pred_rf_tech))"
   ]
  },
  {
   "cell_type": "markdown",
   "metadata": {},
   "source": [
    "## Try to train the model with only a subset of features"
   ]
  },
  {
   "cell_type": "markdown",
   "metadata": {},
   "source": [
    "### Features decided from CorrelationAnalysis notebook"
   ]
  },
  {
   "cell_type": "code",
   "execution_count": 10,
   "metadata": {},
   "outputs": [],
   "source": [
    "features_subset = [\n",
    "    'total_revenue',\n",
    "    'selling_general_and_administrative',\n",
    "    'operating_expenses',\n",
    "    'investment_income_net',\n",
    "    'interest_expense',\n",
    "    'non_interest_income',\n",
    "    'other_non_operating_income',\n",
    "    'depreciation',\n",
    "    'income_tax_expense',\n",
    "    'interest_and_debt_expense',\n",
    "    'comprehensive_income_net_of_tax',\n",
    "    'net_income',\n",
    "    'total_current_assets',\n",
    "    'cash_and_short_term_investments',\n",
    "    'current_net_receivables',\n",
    "    'accumulated_depreciation_amortization_ppe',\n",
    "    'goodwill',\n",
    "    'investments',\n",
    "    'long_term_investments',\n",
    "    'short_term_investments',\n",
    "    'other_current_assets',\n",
    "    'other_non_current_assets',\n",
    "    'total_liabilities',\n",
    "    'total_current_liabilities',\n",
    "    'current_accounts_payable',\n",
    "    'deferred_revenue',\n",
    "    'current_debt',\n",
    "    'short_term_debt',\n",
    "    'total_non_current_liabilities',\n",
    "    'capital_lease_obligations',\n",
    "    'long_term_debt',\n",
    "    'current_long_term_debt',\n",
    "    'long_term_debt_noncurrent',\n",
    "    'other_current_liabilities',\n",
    "    'other_non_current_liabilities',\n",
    "    'treasury_stock',\n",
    "    'retained_earnings',\n",
    "    'common_stock',\n",
    "    'common_stock_shares_outstanding',\n",
    "    'operating_cashflow',\n",
    "    'proceeds_from_operating_activities',\n",
    "    'change_in_operating_liabilities',\n",
    "    'change_in_operating_assets',\n",
    "    'change_in_receivables',\n",
    "    'profit_loss',\n",
    "    'proceeds_from_repayments_of_short_term_debt',\n",
    "    'payments_for_repurchase_of_preferred_stock',\n",
    "    'dividend_payout',\n",
    "    'dividend_payout_preferred_stock',\n",
    "    'proceeds_from_issuance_of_common_stock',\n",
    "    'proceeds_from_issuance_of_long_term_debt_and_capital_securities_net',\n",
    "    'proceeds_from_issuance_of_preferred_stock',\n",
    "    'proceeds_from_repurchase_of_equity',\n",
    "    'proceeds_from_sale_of_treasury_stock',\n",
    "    'change_in_cash_and_cash_equivalents',\n",
    "    'change_in_exchange_rate',\n",
    "    'avg_interest_rate',\n",
    "    'avg_treasury_yield',\n",
    "    'avg_natural_gas_price',\n",
    "    'avg_unemployment_rate',\n",
    "    'inflation',\n",
    "    'symbol', \n",
    "    'reported_currency',\n",
    "    'fiscal_date_ending',\n",
    "    'sector',\n",
    "    'price'\n",
    "]"
   ]
  },
  {
   "cell_type": "code",
   "execution_count": 11,
   "metadata": {},
   "outputs": [],
   "source": [
    "dataset = utils.get_dataset()\n",
    "\n",
    "dataset = dataset[features_subset]\n",
    "\n",
    "import datetime as dt\n",
    "\n",
    "train_set, test_set = utils.split_data_to_train_and_test(\n",
    "    df=dataset,\n",
    "    cutoff_date=dt.datetime(2023,6,1)\n",
    ")\n",
    "\n",
    "y_train = train_set[['price', 'sector']]\n",
    "X_train = train_set.drop(['price'], axis=1)\n",
    "\n",
    "y_test = test_set[['price', 'sector']]\n",
    "X_test = test_set.drop(['price'], axis=1)\n",
    "\n",
    "from sklearn.preprocessing import (\n",
    "    OneHotEncoder,\n",
    ")\n",
    "\n",
    "one_hot_encoder = OneHotEncoder()\n",
    "\n",
    "X_train_transformed = utils.transform_input(\n",
    "    X=X_train,\n",
    "    one_hot_encoder=one_hot_encoder,\n",
    "    fit=True\n",
    ")\n",
    "\n",
    "X_test_transformed = utils.transform_input(\n",
    "    X=X_test,\n",
    "    one_hot_encoder=one_hot_encoder,\n",
    "    fit=False\n",
    ")"
   ]
  },
  {
   "cell_type": "code",
   "execution_count": 12,
   "metadata": {},
   "outputs": [
    {
     "name": "stdout",
     "output_type": "stream",
     "text": [
      "<class 'pandas.core.frame.DataFrame'>\n",
      "RangeIndex: 53947 entries, 0 to 53946\n",
      "Data columns (total 68 columns):\n",
      " #   Column                                                               Non-Null Count  Dtype  \n",
      "---  ------                                                               --------------  -----  \n",
      " 0   total_revenue                                                        53947 non-null  float64\n",
      " 1   selling_general_and_administrative                                   53947 non-null  float64\n",
      " 2   operating_expenses                                                   53947 non-null  float64\n",
      " 3   investment_income_net                                                53947 non-null  float64\n",
      " 4   interest_expense                                                     53947 non-null  float64\n",
      " 5   non_interest_income                                                  53947 non-null  float64\n",
      " 6   other_non_operating_income                                           53947 non-null  float64\n",
      " 7   depreciation                                                         53947 non-null  float64\n",
      " 8   income_tax_expense                                                   53947 non-null  float64\n",
      " 9   interest_and_debt_expense                                            53947 non-null  float64\n",
      " 10  comprehensive_income_net_of_tax                                      53947 non-null  float64\n",
      " 11  net_income                                                           53947 non-null  float64\n",
      " 12  total_current_assets                                                 53947 non-null  float64\n",
      " 13  cash_and_short_term_investments                                      53947 non-null  float64\n",
      " 14  current_net_receivables                                              53947 non-null  float64\n",
      " 15  accumulated_depreciation_amortization_ppe                            53947 non-null  float64\n",
      " 16  goodwill                                                             53947 non-null  float64\n",
      " 17  investments                                                          53947 non-null  float64\n",
      " 18  long_term_investments                                                53947 non-null  float64\n",
      " 19  short_term_investments                                               53947 non-null  float64\n",
      " 20  other_current_assets                                                 53947 non-null  float64\n",
      " 21  other_non_current_assets                                             53947 non-null  float64\n",
      " 22  total_liabilities                                                    53947 non-null  float64\n",
      " 23  total_current_liabilities                                            53947 non-null  float64\n",
      " 24  current_accounts_payable                                             53947 non-null  float64\n",
      " 25  deferred_revenue                                                     53947 non-null  float64\n",
      " 26  current_debt                                                         53947 non-null  float64\n",
      " 27  short_term_debt                                                      53947 non-null  float64\n",
      " 28  total_non_current_liabilities                                        53947 non-null  float64\n",
      " 29  capital_lease_obligations                                            53947 non-null  float64\n",
      " 30  long_term_debt                                                       53947 non-null  float64\n",
      " 31  current_long_term_debt                                               53947 non-null  float64\n",
      " 32  long_term_debt_noncurrent                                            53947 non-null  float64\n",
      " 33  other_current_liabilities                                            53947 non-null  float64\n",
      " 34  other_non_current_liabilities                                        53947 non-null  float64\n",
      " 35  treasury_stock                                                       53947 non-null  float64\n",
      " 36  retained_earnings                                                    53947 non-null  float64\n",
      " 37  common_stock                                                         53947 non-null  float64\n",
      " 38  common_stock_shares_outstanding                                      53947 non-null  float64\n",
      " 39  operating_cashflow                                                   53947 non-null  float64\n",
      " 40  proceeds_from_operating_activities                                   53947 non-null  float64\n",
      " 41  change_in_operating_liabilities                                      53947 non-null  float64\n",
      " 42  change_in_operating_assets                                           53947 non-null  float64\n",
      " 43  change_in_receivables                                                53947 non-null  float64\n",
      " 44  profit_loss                                                          53947 non-null  float64\n",
      " 45  proceeds_from_repayments_of_short_term_debt                          53947 non-null  float64\n",
      " 46  payments_for_repurchase_of_preferred_stock                           53947 non-null  float64\n",
      " 47  dividend_payout                                                      53947 non-null  float64\n",
      " 48  dividend_payout_preferred_stock                                      53947 non-null  float64\n",
      " 49  proceeds_from_issuance_of_common_stock                               53947 non-null  float64\n",
      " 50  proceeds_from_issuance_of_long_term_debt_and_capital_securities_net  53947 non-null  float64\n",
      " 51  proceeds_from_issuance_of_preferred_stock                            53947 non-null  float64\n",
      " 52  proceeds_from_repurchase_of_equity                                   53947 non-null  float64\n",
      " 53  proceeds_from_sale_of_treasury_stock                                 53947 non-null  float64\n",
      " 54  change_in_cash_and_cash_equivalents                                  53947 non-null  float64\n",
      " 55  change_in_exchange_rate                                              53947 non-null  float64\n",
      " 56  avg_interest_rate                                                    53947 non-null  float64\n",
      " 57  avg_treasury_yield                                                   53947 non-null  float64\n",
      " 58  avg_natural_gas_price                                                53947 non-null  float64\n",
      " 59  avg_unemployment_rate                                                53947 non-null  float64\n",
      " 60  inflation                                                            53947 non-null  float64\n",
      " 61  sector_ENERGY & TRANSPORTATION                                       53947 non-null  float64\n",
      " 62  sector_FINANCE                                                       53947 non-null  float64\n",
      " 63  sector_LIFE SCIENCES                                                 53947 non-null  float64\n",
      " 64  sector_MANUFACTURING                                                 53947 non-null  float64\n",
      " 65  sector_REAL ESTATE & CONSTRUCTION                                    53947 non-null  float64\n",
      " 66  sector_TECHNOLOGY                                                    53947 non-null  float64\n",
      " 67  sector_TRADE & SERVICES                                              53947 non-null  float64\n",
      "dtypes: float64(68)\n",
      "memory usage: 28.0 MB\n"
     ]
    }
   ],
   "source": [
    "X_train_transformed.info()"
   ]
  },
  {
   "cell_type": "code",
   "execution_count": 13,
   "metadata": {},
   "outputs": [],
   "source": [
    "from sklearn.ensemble import RandomForestRegressor\n",
    "\n",
    "random_forest_regr= RandomForestRegressor(n_estimators=100)\n",
    "\n",
    "random_forest_regr.fit(X_train_transformed, y_train['price'])\n",
    "\n",
    "# Make predictions using the testing set\n",
    "y_pred_rf = pd.Series(random_forest_regr.predict(X_test_transformed))"
   ]
  },
  {
   "cell_type": "code",
   "execution_count": 14,
   "metadata": {},
   "outputs": [
    {
     "name": "stdout",
     "output_type": "stream",
     "text": [
      "Mean absolute error: 19.25\n",
      "Coefficient of determination: 0.91\n",
      "Mean absolute pct error: 0.79\n"
     ]
    }
   ],
   "source": [
    "# The mean squared error\n",
    "print(\"Mean absolute error: %.2f\" % mean_absolute_error(y_test['price'], y_pred_rf))\n",
    "# The coefficient of determination: 1 is perfect prediction\n",
    "print(\"Coefficient of determination: %.2f\" % r2_score(y_test['price'], y_pred_rf))\n",
    "print(\"Mean absolute pct error: %.2f\" % mean_absolute_percentage_error(y_test['price'], y_pred_rf))"
   ]
  },
  {
   "cell_type": "code",
   "execution_count": 15,
   "metadata": {},
   "outputs": [
    {
     "data": {
      "text/plain": [
       "{'TECHNOLOGY': 34.86406304157199,\n",
       " 'MANUFACTURING': 32.71657919403849,\n",
       " 'LIFE SCIENCES': 37.8590692126793,\n",
       " 'TRADE & SERVICES': 30.782997534568498,\n",
       " 'FINANCE': 28.071381014665338,\n",
       " 'ENERGY & TRANSPORTATION': 27.562690071889914,\n",
       " 'REAL ESTATE & CONSTRUCTION': 24.950181874080798}"
      ]
     },
     "execution_count": 15,
     "metadata": {},
     "output_type": "execute_result"
    }
   ],
   "source": [
    "utils.calculate_avg_pct_loss_per_sector(\n",
    "    y_pred=y_pred_rf,\n",
    "    y_actual=y_test['price'],\n",
    "    sector_series=y_test['sector']\n",
    ")"
   ]
  },
  {
   "cell_type": "markdown",
   "metadata": {},
   "source": [
    "## Use subset of features based on Mutual Information notebook"
   ]
  },
  {
   "cell_type": "code",
   "execution_count": 6,
   "metadata": {},
   "outputs": [],
   "source": [
    "sorted_features = [\n",
    "    'symbol', \n",
    "    'reported_currency',\n",
    "    'fiscal_date_ending',\n",
    "    'sector',\n",
    "    'price',\n",
    "    'profit_loss',\n",
    "    'comprehensive_income_net_of_tax',\n",
    "    'retained_earnings',\n",
    "    'net_income',\n",
    "    'income_before_tax',\n",
    "    'ebit',\n",
    "    'net_income_from_continuing_operations',\n",
    "    'gross_profit',\n",
    "    'total_revenue',\n",
    "    'operating_income',\n",
    "    'total_shareholder_equity',\n",
    "    'ebitda',\n",
    "    'total_current_assets',\n",
    "    'non_interest_income',\n",
    "    'operating_expenses',\n",
    "    'current_net_receivables',\n",
    "    'other_non_current_assets',\n",
    "    'change_in_cash_and_cash_equivalents',\n",
    "    'income_tax_expense',\n",
    "    'total_assets',\n",
    "    'total_current_liabilities',\n",
    "    'selling_general_and_administrative',\n",
    "    'payments_for_repurchase_of_common_stock',\n",
    "    'long_term_debt_noncurrent',\n",
    "    'payments_for_repurchase_of_equity',\n",
    "    'total_liabilities',\n",
    "    'intangible_assets',\n",
    "    'current_accounts_payable',\n",
    "    'total_non_current_assets',\n",
    "    'change_in_operating_liabilities',\n",
    "    'accumulated_depreciation_amortization_ppe',\n",
    "    'property_plant_equipment',\n",
    "    'other_current_liabilities',\n",
    "    'change_in_operating_assets',\n",
    "    'proceeds_from_repurchase_of_equity',\n",
    "    'other_non_current_liabilities',\n",
    "    'net_interest_income',\n",
    "    'common_stock',\n",
    "    'goodwill',\n",
    "    'total_non_current_liabilities',\n",
    "    'short_long_term_debt_total',\n",
    "    'change_in_receivables',\n",
    "    'interest_and_debt_expense',\n",
    "    'other_current_assets',\n",
    "    'depreciation_and_amortization',\n",
    "    'intangible_assets_excluding_goodwill',\n",
    "    'depreciation',\n",
    "    'current_debt',\n",
    "    'deferred_revenue',\n",
    "    'investments',\n",
    "    'interest_expense',\n",
    "    'other_non_operating_income',\n",
    "    'cash_and_short_term_investments',\n",
    "    'cash_and_cash_equivalents_at_carrying_value',\n",
    "    'cost_of_revenue',\n",
    "    'operating_cashflow',\n",
    "    'short_term_debt',\n",
    "    'payments_for_operating_activities',\n",
    "    'treasury_stock',\n",
    "    'long_term_investments',\n",
    "    'research_and_development',\n",
    "    'investment_income_net',\n",
    "    'cost_of_goods_and_services_sold',\n",
    "    'capital_lease_obligations',\n",
    "    'dividend_payout_preferred_stock',\n",
    "    'inventory',\n",
    "    'cashflow_from_financing',\n",
    "    'long_term_debt',\n",
    "    'interest_income',\n",
    "    'avg_treasury_yield',\n",
    "    'avg_interest_rate',\n",
    "    'avg_natural_gas_price',\n",
    "    'avg_oil_price',\n",
    "    'proceeds_from_repayments_of_short_term_debt',\n",
    "    'change_in_exchange_rate',\n",
    "    'avg_global_commodities_index_value',\n",
    "    'short_term_investments',\n",
    "    'cashflow_from_investment',\n",
    "    'sector_REAL ESTATE & CONSTRUCTION',\n",
    "    'dividend_payout',\n",
    "    'dividend_payout_common_stock',\n",
    "    'avg_unemployment_rate',\n",
    "    'capital_expenditures',\n",
    "    'inflation',\n",
    "    'depreciation_depletion_and_amortization',\n",
    "    'proceeds_from_issuance_of_long_term_debt_and_capital_securities_net',\n",
    "    'current_long_term_debt',\n",
    "    'sector_ENERGY & TRANSPORTATION',\n",
    "    'change_in_inventory',\n",
    "    'sector_FINANCE',\n",
    "    'common_stock_shares_outstanding',\n",
    "    'proceeds_from_operating_activities',\n",
    "    'sector_TRADE & SERVICES',\n",
    "    'proceeds_from_issuance_of_common_stock',\n",
    "    'sector_TECHNOLOGY',\n",
    "    'proceeds_from_sale_of_treasury_stock',\n",
    "    'sector_MANUFACTURING',\n",
    "    'sector_LIFE SCIENCES',\n",
    "    'proceeds_from_issuance_of_preferred_stock',\n",
    "    'payments_for_repurchase_of_preferred_stock',\n",
    "]"
   ]
  },
  {
   "cell_type": "code",
   "execution_count": 7,
   "metadata": {},
   "outputs": [
    {
     "data": {
      "text/plain": [
       "105"
      ]
     },
     "execution_count": 7,
     "metadata": {},
     "output_type": "execute_result"
    }
   ],
   "source": [
    "len(sorted_features)"
   ]
  },
  {
   "cell_type": "code",
   "execution_count": 8,
   "metadata": {},
   "outputs": [],
   "source": [
    "dataset = utils.get_dataset()\n",
    "\n",
    "# Keep only the top 50\n",
    "dataset = dataset[sorted_features[:55]] # 55 because of symbol, price, fiscal_date_ending, reported_currency\n",
    "\n",
    "import datetime as dt\n",
    "\n",
    "train_set, test_set = utils.split_data_to_train_and_test(\n",
    "    df=dataset,\n",
    "    cutoff_date=dt.datetime(2023,6,1)\n",
    ")\n",
    "\n",
    "y_train = train_set[['price', 'sector']]\n",
    "X_train = train_set.drop(['price'], axis=1)\n",
    "\n",
    "y_test = test_set[['price', 'sector']]\n",
    "X_test = test_set.drop(['price'], axis=1)\n",
    "\n",
    "from sklearn.preprocessing import (\n",
    "    OneHotEncoder,\n",
    ")\n",
    "\n",
    "one_hot_encoder = OneHotEncoder()\n",
    "\n",
    "X_train_transformed = utils.transform_input(\n",
    "    X=X_train,\n",
    "    one_hot_encoder=one_hot_encoder,\n",
    "    fit=True\n",
    ")\n",
    "\n",
    "X_test_transformed = utils.transform_input(\n",
    "    X=X_test,\n",
    "    one_hot_encoder=one_hot_encoder,\n",
    "    fit=False\n",
    ")"
   ]
  },
  {
   "cell_type": "code",
   "execution_count": 9,
   "metadata": {},
   "outputs": [],
   "source": [
    "from sklearn.ensemble import RandomForestRegressor\n",
    "\n",
    "random_forest_regr= RandomForestRegressor(n_estimators=100)\n",
    "\n",
    "random_forest_regr.fit(X_train_transformed, y_train['price'])\n",
    "\n",
    "# Make predictions using the testing set\n",
    "y_pred_rf = pd.Series(random_forest_regr.predict(X_test_transformed))"
   ]
  },
  {
   "cell_type": "code",
   "execution_count": 10,
   "metadata": {},
   "outputs": [
    {
     "name": "stdout",
     "output_type": "stream",
     "text": [
      "Mean absolute error: 25.76\n",
      "Coefficient of determination: 0.80\n",
      "Mean absolute pct error: 1.18\n"
     ]
    }
   ],
   "source": [
    "# The mean squared error\n",
    "print(\"Mean absolute error: %.2f\" % mean_absolute_error(y_test['price'], y_pred_rf))\n",
    "# The coefficient of determination: 1 is perfect prediction\n",
    "print(\"Coefficient of determination: %.2f\" % r2_score(y_test['price'], y_pred_rf))\n",
    "print(\"Mean absolute pct error: %.2f\" % mean_absolute_percentage_error(y_test['price'], y_pred_rf))"
   ]
  },
  {
   "cell_type": "code",
   "execution_count": null,
   "metadata": {},
   "outputs": [],
   "source": []
  }
 ],
 "metadata": {
  "kernelspec": {
   "display_name": "Python 3 (ipykernel)",
   "language": "python",
   "name": "python3"
  },
  "language_info": {
   "codemirror_mode": {
    "name": "ipython",
    "version": 3
   },
   "file_extension": ".py",
   "mimetype": "text/x-python",
   "name": "python",
   "nbconvert_exporter": "python",
   "pygments_lexer": "ipython3",
   "version": "3.11.0"
  }
 },
 "nbformat": 4,
 "nbformat_minor": 2
}
