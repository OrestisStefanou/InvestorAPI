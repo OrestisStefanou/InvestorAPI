{
 "cells": [
  {
   "cell_type": "code",
   "execution_count": 1,
   "metadata": {},
   "outputs": [],
   "source": [
    "import datetime as dt\n",
    "\n",
    "import pandas as pd\n",
    "from sklearn.metrics import mean_absolute_percentage_error, r2_score, mean_absolute_error\n",
    "from sklearn.preprocessing import (\n",
    "    OneHotEncoder,\n",
    "    MinMaxScaler,\n",
    "    StandardScaler\n",
    ")\n",
    "from sklearn.pipeline import make_pipeline\n",
    "from sklearn.compose import make_column_transformer\n",
    "\n",
    "from analytics.machine_learning.price_prediction_with_fundamentals import utils"
   ]
  },
  {
   "cell_type": "markdown",
   "metadata": {},
   "source": [
    "# Random Forrest"
   ]
  },
  {
   "cell_type": "code",
   "execution_count": 2,
   "metadata": {},
   "outputs": [
    {
     "name": "stdout",
     "output_type": "stream",
     "text": [
      "Mean absolute error: 6.26\n",
      "Coefficient of determination: 0.97\n",
      "Mean absolute pct error: 0.13\n"
     ]
    }
   ],
   "source": [
    "from sklearn.ensemble import RandomForestRegressor\n",
    "\n",
    "dataset = utils.get_dataset()\n",
    "\n",
    "train_set, test_set = utils.split_data_to_train_and_test(\n",
    "    df=dataset,\n",
    "    cutoff_date=dt.datetime(2023,6,1)\n",
    ")\n",
    "\n",
    "cols_to_drop = ['symbol', 'fiscal_date_ending', 'avg_next_three_months_price']\n",
    "\n",
    "y_train = train_set[['avg_next_three_months_price', 'sector']]\n",
    "X_train = train_set.drop(cols_to_drop, axis=1)\n",
    "\n",
    "y_test = test_set[['avg_next_three_months_price', 'sector']]\n",
    "X_test = test_set.drop(cols_to_drop, axis=1)\n",
    "\n",
    "column_transformer = make_column_transformer(\n",
    "    (\n",
    "        OneHotEncoder(), ['sector']\n",
    "    ),\n",
    "    (\n",
    "        StandardScaler(),\n",
    "        ~X_train.columns.isin(['sector'])\n",
    "    ),\n",
    "    remainder='passthrough'\n",
    ")\n",
    "\n",
    "random_forrest_regressor = make_pipeline(\n",
    "    column_transformer,\n",
    "    RandomForestRegressor(n_estimators=100)\n",
    ")\n",
    "\n",
    "random_forrest_regressor.fit(X_train, y_train['avg_next_three_months_price'])\n",
    "y_pred_random_forrest = random_forrest_regressor.predict(X_test)\n",
    "\n",
    "print(\"Mean absolute error: %.2f\" % mean_absolute_error(y_test['avg_next_three_months_price'], y_pred_random_forrest))\n",
    "print(\"Coefficient of determination: %.2f\" % r2_score(y_test['avg_next_three_months_price'], y_pred_random_forrest))\n",
    "print(\"Mean absolute pct error: %.2f\" % mean_absolute_percentage_error(y_test['avg_next_three_months_price'], y_pred_random_forrest))\n"
   ]
  },
  {
   "cell_type": "markdown",
   "metadata": {},
   "source": [
    "# Lasso Regression"
   ]
  },
  {
   "cell_type": "code",
   "execution_count": 2,
   "metadata": {},
   "outputs": [
    {
     "name": "stdout",
     "output_type": "stream",
     "text": [
      "Mean absolute error: 6.01\n",
      "Coefficient of determination: 0.99\n",
      "Mean absolute pct error: 0.12\n"
     ]
    }
   ],
   "source": [
    "from sklearn.linear_model import Lasso\n",
    "\n",
    "dataset = utils.get_dataset()\n",
    "\n",
    "train_set, test_set = utils.split_data_to_train_and_test(\n",
    "    df=dataset,\n",
    "    cutoff_date=dt.datetime(2023,6,1)\n",
    ")\n",
    "\n",
    "cols_to_drop = ['symbol', 'fiscal_date_ending', 'avg_next_three_months_price']\n",
    "\n",
    "\n",
    "y_train = train_set[['avg_next_three_months_price', 'sector']]\n",
    "X_train = train_set.drop(cols_to_drop, axis=1)\n",
    "\n",
    "y_test = test_set[['avg_next_three_months_price', 'sector']]\n",
    "X_test = test_set.drop(cols_to_drop, axis=1)\n",
    "\n",
    "\n",
    "column_transformer = make_column_transformer(\n",
    "    (\n",
    "        OneHotEncoder(), ['sector']\n",
    "    ),\n",
    "    (\n",
    "        StandardScaler(),\n",
    "        ~X_train.columns.isin(['sector'])\n",
    "    ),\n",
    "    remainder='passthrough'\n",
    ")\n",
    "\n",
    "lasso_reg = make_pipeline(\n",
    "    column_transformer,\n",
    "    Lasso(max_iter=3000, alpha=1)\n",
    ")\n",
    "\n",
    "lasso_reg.fit(X_train, y_train['avg_next_three_months_price'])\n",
    "y_pred_lasso_reg =  lasso_reg.predict(X_test)\n",
    "\n",
    "print(\"Mean absolute error: %.2f\" % mean_absolute_error(y_test['avg_next_three_months_price'], y_pred_lasso_reg))\n",
    "print(\"Coefficient of determination: %.2f\" % r2_score(y_test['avg_next_three_months_price'], y_pred_lasso_reg))\n",
    "print(\"Mean absolute pct error: %.2f\" % mean_absolute_percentage_error(y_test['avg_next_three_months_price'], y_pred_lasso_reg))"
   ]
  },
  {
   "cell_type": "code",
   "execution_count": null,
   "metadata": {},
   "outputs": [],
   "source": []
  }
 ],
 "metadata": {
  "kernelspec": {
   "display_name": "Python 3 (ipykernel)",
   "language": "python",
   "name": "python3"
  },
  "language_info": {
   "codemirror_mode": {
    "name": "ipython",
    "version": 3
   },
   "file_extension": ".py",
   "mimetype": "text/x-python",
   "name": "python",
   "nbconvert_exporter": "python",
   "pygments_lexer": "ipython3",
   "version": "3.11.0"
  }
 },
 "nbformat": 4,
 "nbformat_minor": 2
}
