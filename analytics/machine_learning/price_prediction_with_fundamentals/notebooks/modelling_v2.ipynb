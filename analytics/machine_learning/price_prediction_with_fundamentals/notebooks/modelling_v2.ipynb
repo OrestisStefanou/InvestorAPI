{
 "cells": [
  {
   "cell_type": "code",
   "execution_count": 1,
   "metadata": {},
   "outputs": [],
   "source": [
    "import datetime as dt\n",
    "\n",
    "import pandas as pd\n",
    "from sklearn.metrics import mean_absolute_percentage_error, r2_score, mean_absolute_error\n",
    "from sklearn.preprocessing import (\n",
    "    OneHotEncoder,\n",
    "    MinMaxScaler\n",
    ")\n",
    "from sklearn.neighbors import KNeighborsRegressor\n",
    "\n",
    "from analytics.machine_learning.price_prediction_with_fundamentals import utils"
   ]
  },
  {
   "cell_type": "code",
   "execution_count": 2,
   "metadata": {},
   "outputs": [],
   "source": [
    "dataset = utils.get_dataset(only_value_change_columns=True)"
   ]
  },
  {
   "cell_type": "code",
   "execution_count": 3,
   "metadata": {},
   "outputs": [],
   "source": [
    "train_set, test_set = utils.split_data_to_train_and_test(\n",
    "    df=dataset,\n",
    "    cutoff_date=dt.datetime(2023,6,1)\n",
    ")"
   ]
  },
  {
   "cell_type": "code",
   "execution_count": 4,
   "metadata": {},
   "outputs": [],
   "source": [
    "y_train = train_set[['avg_next_three_months_price', 'sector']]\n",
    "X_train = train_set.drop(['avg_next_three_months_price'], axis=1)\n",
    "\n",
    "y_test = test_set[['avg_next_three_months_price', 'sector']]\n",
    "X_test = test_set.drop(['avg_next_three_months_price'], axis=1)"
   ]
  },
  {
   "cell_type": "code",
   "execution_count": 5,
   "metadata": {},
   "outputs": [],
   "source": [
    "one_hot_encoder = OneHotEncoder()\n",
    "# scaler = MinMaxScaler(feature_range=(0, 1))\n",
    "\n",
    "X_train_transformed = utils.transform_input(\n",
    "    X=X_train,\n",
    "    one_hot_encoder=one_hot_encoder,\n",
    "    # scaler=scaler,\n",
    "    fit=True\n",
    ")\n",
    "\n",
    "X_test_transformed = utils.transform_input(\n",
    "    X=X_test,\n",
    "    one_hot_encoder=one_hot_encoder,\n",
    "    # scaler=scaler,\n",
    "    fit=False\n",
    ")"
   ]
  },
  {
   "cell_type": "code",
   "execution_count": 6,
   "metadata": {},
   "outputs": [],
   "source": [
    "neigh_regressor = KNeighborsRegressor(\n",
    "    n_neighbors=10,\n",
    "    weights='distance'\n",
    ")\n",
    "\n",
    "neigh_regressor.fit(X_train_transformed, y_train['avg_next_three_months_price'])\n",
    "y_pred_neigh_regressor = pd.Series(neigh_regressor.predict(X_test_transformed))"
   ]
  },
  {
   "cell_type": "code",
   "execution_count": 7,
   "metadata": {},
   "outputs": [
    {
     "name": "stdout",
     "output_type": "stream",
     "text": [
      "Mean absolute error: 53.22\n",
      "Coefficient of determination: 0.11\n",
      "Mean absolute pct error: 2.32\n"
     ]
    }
   ],
   "source": [
    "print(\"Mean absolute error: %.2f\" % mean_absolute_error(y_test['avg_next_three_months_price'], y_pred_neigh_regressor))\n",
    "print(\"Coefficient of determination: %.2f\" % r2_score(y_test['avg_next_three_months_price'], y_pred_neigh_regressor))\n",
    "print(\"Mean absolute pct error: %.2f\" % mean_absolute_percentage_error(y_test['avg_next_three_months_price'], y_pred_neigh_regressor))"
   ]
  },
  {
   "cell_type": "code",
   "execution_count": 8,
   "metadata": {},
   "outputs": [],
   "source": [
    "from sklearn.neighbors import RadiusNeighborsRegressor\n",
    "\n",
    "radius_regressor = RadiusNeighborsRegressor(radius=1.0, weights='distance')\n",
    "\n",
    "radius_regressor.fit(X_train_transformed, y_train['avg_next_three_months_price'])\n",
    "y_pred_radius_regressor = pd.Series(neigh_regressor.predict(X_test_transformed))"
   ]
  },
  {
   "cell_type": "code",
   "execution_count": 9,
   "metadata": {},
   "outputs": [
    {
     "name": "stdout",
     "output_type": "stream",
     "text": [
      "Mean absolute error: 53.22\n",
      "Coefficient of determination: 0.11\n",
      "Mean absolute pct error: 2.32\n"
     ]
    }
   ],
   "source": [
    "print(\"Mean absolute error: %.2f\" % mean_absolute_error(y_test['avg_next_three_months_price'], y_pred_radius_regressor))\n",
    "print(\"Coefficient of determination: %.2f\" % r2_score(y_test['avg_next_three_months_price'], y_pred_radius_regressor))\n",
    "print(\"Mean absolute pct error: %.2f\" % mean_absolute_percentage_error(y_test['avg_next_three_months_price'], y_pred_radius_regressor))"
   ]
  },
  {
   "cell_type": "code",
   "execution_count": 42,
   "metadata": {},
   "outputs": [
    {
     "name": "stderr",
     "output_type": "stream",
     "text": [
      "/Users/orestis/MyProjects/InvestorAPI/env/lib/python3.11/site-packages/sklearn/svm/_base.py:1250: ConvergenceWarning: Liblinear failed to converge, increase the number of iterations.\n",
      "  warnings.warn(\n"
     ]
    }
   ],
   "source": [
    "from sklearn.svm import LinearSVR\n",
    "\n",
    "from sklearn.pipeline import make_pipeline\n",
    "from sklearn.preprocessing import StandardScaler\n",
    "\n",
    "\n",
    "sv_regr = make_pipeline(\n",
    "    StandardScaler(),\n",
    "    LinearSVR(\n",
    "        dual=\"auto\",\n",
    "        random_state=0, \n",
    "        tol=1e-20,\n",
    "        C=0.1,\n",
    "        max_iter=20000,\n",
    "        #loss=\"squared_epsilon_insensitive\"\n",
    "        epsilon=0.5\n",
    "    )\n",
    ")\n",
    "sv_regr.fit(X_train_transformed, y_train['avg_next_three_months_price'])\n",
    "\n",
    "y_pred_sv_regr =  sv_regr.predict(X_test_transformed)"
   ]
  },
  {
   "cell_type": "code",
   "execution_count": 43,
   "metadata": {},
   "outputs": [
    {
     "name": "stdout",
     "output_type": "stream",
     "text": [
      "Mean absolute error: 6.54\n",
      "Coefficient of determination: 0.99\n",
      "Mean absolute pct error: 0.16\n"
     ]
    }
   ],
   "source": [
    "print(\"Mean absolute error: %.2f\" % mean_absolute_error(y_test['avg_next_three_months_price'], y_pred_sv_regr))\n",
    "print(\"Coefficient of determination: %.2f\" % r2_score(y_test['avg_next_three_months_price'], y_pred_sv_regr))\n",
    "print(\"Mean absolute pct error: %.2f\" % mean_absolute_percentage_error(y_test['avg_next_three_months_price'], y_pred_sv_regr))"
   ]
  },
  {
   "cell_type": "code",
   "execution_count": 48,
   "metadata": {},
   "outputs": [],
   "source": [
    "from sklearn.svm import SVR\n",
    "\n",
    "svr = make_pipeline(\n",
    "    StandardScaler(),\n",
    "    SVR(C=10.0, epsilon=0.2, gamma=1)\n",
    ")\n",
    "\n",
    "svr.fit(X_train_transformed, y_train['avg_next_three_months_price'])\n",
    "\n",
    "y_pred_svr =  sv_regr.predict(X_test_transformed)"
   ]
  },
  {
   "cell_type": "code",
   "execution_count": 49,
   "metadata": {},
   "outputs": [
    {
     "name": "stdout",
     "output_type": "stream",
     "text": [
      "Mean absolute error: 6.54\n",
      "Coefficient of determination: 0.99\n",
      "Mean absolute pct error: 0.16\n"
     ]
    }
   ],
   "source": [
    "print(\"Mean absolute error: %.2f\" % mean_absolute_error(y_test['avg_next_three_months_price'], y_pred_svr))\n",
    "print(\"Coefficient of determination: %.2f\" % r2_score(y_test['avg_next_three_months_price'], y_pred_svr))\n",
    "print(\"Mean absolute pct error: %.2f\" % mean_absolute_percentage_error(y_test['avg_next_three_months_price'], y_pred_svr))"
   ]
  },
  {
   "cell_type": "markdown",
   "metadata": {},
   "source": [
    "Mean absolute error: 6.54\n",
    "Coefficient of determination: 0.99\n",
    "Mean absolute pct error: 0.16"
   ]
  },
  {
   "cell_type": "code",
   "execution_count": 51,
   "metadata": {},
   "outputs": [
    {
     "data": {
      "text/plain": [
       "{'MANUFACTURING': 14.393864563411435,\n",
       " 'LIFE SCIENCES': 21.954672141013774,\n",
       " 'TRADE & SERVICES': 15.369934686894256,\n",
       " 'TECHNOLOGY': 15.930359353501624,\n",
       " 'FINANCE': 13.336949526436971,\n",
       " 'ENERGY & TRANSPORTATION': 14.565012829236514,\n",
       " 'REAL ESTATE & CONSTRUCTION': 15.77024103385572}"
      ]
     },
     "execution_count": 51,
     "metadata": {},
     "output_type": "execute_result"
    }
   ],
   "source": [
    "utils.calculate_avg_pct_loss_per_sector(\n",
    "    y_pred=y_test['avg_next_three_months_price'],\n",
    "    y_actual=y_pred_svr,\n",
    "    sector_series=y_test['sector']\n",
    ")"
   ]
  },
  {
   "cell_type": "code",
   "execution_count": null,
   "metadata": {},
   "outputs": [],
   "source": []
  }
 ],
 "metadata": {
  "kernelspec": {
   "display_name": "Python 3 (ipykernel)",
   "language": "python",
   "name": "python3"
  },
  "language_info": {
   "codemirror_mode": {
    "name": "ipython",
    "version": 3
   },
   "file_extension": ".py",
   "mimetype": "text/x-python",
   "name": "python",
   "nbconvert_exporter": "python",
   "pygments_lexer": "ipython3",
   "version": "3.11.0"
  }
 },
 "nbformat": 4,
 "nbformat_minor": 2
}
