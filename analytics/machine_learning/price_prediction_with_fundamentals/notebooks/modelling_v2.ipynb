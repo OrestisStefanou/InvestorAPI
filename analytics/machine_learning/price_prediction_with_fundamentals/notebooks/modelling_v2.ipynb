{
 "cells": [
  {
   "cell_type": "code",
   "execution_count": 1,
   "metadata": {},
   "outputs": [],
   "source": [
    "import datetime as dt\n",
    "\n",
    "import pandas as pd\n",
    "from sklearn.metrics import mean_absolute_percentage_error, r2_score, mean_absolute_error\n",
    "from sklearn.preprocessing import (\n",
    "    OneHotEncoder,\n",
    "    MinMaxScaler,\n",
    "    StandardScaler\n",
    ")\n",
    "from sklearn.pipeline import make_pipeline\n",
    "from sklearn.compose import make_column_transformer\n",
    "from sklearn.neighbors import KNeighborsRegressor\n",
    "\n",
    "from analytics.machine_learning.price_prediction_with_fundamentals import utils"
   ]
  },
  {
   "cell_type": "code",
   "execution_count": 2,
   "metadata": {},
   "outputs": [],
   "source": [
    "dataset = utils.get_dataset(only_value_change_columns=True)"
   ]
  },
  {
   "cell_type": "code",
   "execution_count": 3,
   "metadata": {},
   "outputs": [],
   "source": [
    "train_set, test_set = utils.split_data_to_train_and_test(\n",
    "    df=dataset,\n",
    "    cutoff_date=dt.datetime(2023,6,1)\n",
    ")"
   ]
  },
  {
   "cell_type": "code",
   "execution_count": 5,
   "metadata": {},
   "outputs": [],
   "source": [
    "cols_to_drop = ['symbol', 'fiscal_date_ending', 'reported_currency', 'avg_next_three_months_price']\n",
    "\n",
    "y_train = train_set[['avg_next_three_months_price', 'sector']]\n",
    "X_train = train_set.drop(cols_to_drop, axis=1)\n",
    "\n",
    "y_test = test_set[['avg_next_three_months_price', 'sector']]\n",
    "X_test = test_set.drop(cols_to_drop, axis=1)"
   ]
  },
  {
   "cell_type": "code",
   "execution_count": 13,
   "metadata": {},
   "outputs": [],
   "source": [
    "categorical_features = ['sector']\n",
    "numerical_features = ~X_train.columns.isin(categorical_features)\n",
    "\n",
    "preprocessor = make_column_transformer(\n",
    "    (OneHotEncoder(), categorical_features),\n",
    "    (StandardScaler(), ['total_revenue_value_change', 'total_liabilities_value_change']),\n",
    "    remainder='passthrough'\n",
    ")\n"
   ]
  },
  {
   "cell_type": "code",
   "execution_count": 11,
   "metadata": {},
   "outputs": [
    {
     "data": {
      "text/html": [
       "<div>\n",
       "<style scoped>\n",
       "    .dataframe tbody tr th:only-of-type {\n",
       "        vertical-align: middle;\n",
       "    }\n",
       "\n",
       "    .dataframe tbody tr th {\n",
       "        vertical-align: top;\n",
       "    }\n",
       "\n",
       "    .dataframe thead th {\n",
       "        text-align: right;\n",
       "    }\n",
       "</style>\n",
       "<table border=\"1\" class=\"dataframe\">\n",
       "  <thead>\n",
       "    <tr style=\"text-align: right;\">\n",
       "      <th></th>\n",
       "      <th>sector</th>\n",
       "      <th>total_revenue_value_change</th>\n",
       "      <th>total_liabilities_value_change</th>\n",
       "    </tr>\n",
       "  </thead>\n",
       "  <tbody>\n",
       "    <tr>\n",
       "      <th>0</th>\n",
       "      <td>LIFE SCIENCES</td>\n",
       "      <td>-4.042930e+05</td>\n",
       "      <td>-9493442.0</td>\n",
       "    </tr>\n",
       "    <tr>\n",
       "      <th>1</th>\n",
       "      <td>LIFE SCIENCES</td>\n",
       "      <td>-1.968819e+06</td>\n",
       "      <td>-1271845.0</td>\n",
       "    </tr>\n",
       "    <tr>\n",
       "      <th>2</th>\n",
       "      <td>LIFE SCIENCES</td>\n",
       "      <td>3.667197e+06</td>\n",
       "      <td>527701.0</td>\n",
       "    </tr>\n",
       "    <tr>\n",
       "      <th>3</th>\n",
       "      <td>LIFE SCIENCES</td>\n",
       "      <td>-1.454008e+06</td>\n",
       "      <td>318380.0</td>\n",
       "    </tr>\n",
       "    <tr>\n",
       "      <th>4</th>\n",
       "      <td>LIFE SCIENCES</td>\n",
       "      <td>1.302600e+04</td>\n",
       "      <td>-103763.0</td>\n",
       "    </tr>\n",
       "    <tr>\n",
       "      <th>...</th>\n",
       "      <td>...</td>\n",
       "      <td>...</td>\n",
       "      <td>...</td>\n",
       "    </tr>\n",
       "    <tr>\n",
       "      <th>48764</th>\n",
       "      <td>MANUFACTURING</td>\n",
       "      <td>3.193900e+09</td>\n",
       "      <td>-77400000.0</td>\n",
       "    </tr>\n",
       "    <tr>\n",
       "      <th>48765</th>\n",
       "      <td>TECHNOLOGY</td>\n",
       "      <td>4.840000e+05</td>\n",
       "      <td>1136000.0</td>\n",
       "    </tr>\n",
       "    <tr>\n",
       "      <th>48766</th>\n",
       "      <td>TECHNOLOGY</td>\n",
       "      <td>1.510000e+07</td>\n",
       "      <td>-64844000.0</td>\n",
       "    </tr>\n",
       "    <tr>\n",
       "      <th>48767</th>\n",
       "      <td>TRADE &amp; SERVICES</td>\n",
       "      <td>-4.186700e+07</td>\n",
       "      <td>1393000.0</td>\n",
       "    </tr>\n",
       "    <tr>\n",
       "      <th>48768</th>\n",
       "      <td>TRADE &amp; SERVICES</td>\n",
       "      <td>9.685000e+06</td>\n",
       "      <td>493000.0</td>\n",
       "    </tr>\n",
       "  </tbody>\n",
       "</table>\n",
       "<p>48769 rows × 3 columns</p>\n",
       "</div>"
      ],
      "text/plain": [
       "                 sector  total_revenue_value_change  \\\n",
       "0         LIFE SCIENCES               -4.042930e+05   \n",
       "1         LIFE SCIENCES               -1.968819e+06   \n",
       "2         LIFE SCIENCES                3.667197e+06   \n",
       "3         LIFE SCIENCES               -1.454008e+06   \n",
       "4         LIFE SCIENCES                1.302600e+04   \n",
       "...                 ...                         ...   \n",
       "48764     MANUFACTURING                3.193900e+09   \n",
       "48765        TECHNOLOGY                4.840000e+05   \n",
       "48766        TECHNOLOGY                1.510000e+07   \n",
       "48767  TRADE & SERVICES               -4.186700e+07   \n",
       "48768  TRADE & SERVICES                9.685000e+06   \n",
       "\n",
       "       total_liabilities_value_change  \n",
       "0                          -9493442.0  \n",
       "1                          -1271845.0  \n",
       "2                            527701.0  \n",
       "3                            318380.0  \n",
       "4                           -103763.0  \n",
       "...                               ...  \n",
       "48764                     -77400000.0  \n",
       "48765                       1136000.0  \n",
       "48766                     -64844000.0  \n",
       "48767                       1393000.0  \n",
       "48768                        493000.0  \n",
       "\n",
       "[48769 rows x 3 columns]"
      ]
     },
     "execution_count": 11,
     "metadata": {},
     "output_type": "execute_result"
    }
   ],
   "source": [
    "X_train[['sector', 'total_revenue_value_change', 'total_liabilities_value_change']]"
   ]
  },
  {
   "cell_type": "code",
   "execution_count": 14,
   "metadata": {},
   "outputs": [
    {
     "data": {
      "text/plain": [
       "array([ 0.        ,  0.        ,  1.        ,  0.        ,  0.        ,\n",
       "        0.        ,  0.        , -0.00743135, -0.00641379])"
      ]
     },
     "execution_count": 14,
     "metadata": {},
     "output_type": "execute_result"
    }
   ],
   "source": [
    "preprocessor.fit_transform(X_train[['sector', 'total_revenue_value_change', 'total_liabilities_value_change']])[0]"
   ]
  },
  {
   "cell_type": "code",
   "execution_count": 6,
   "metadata": {},
   "outputs": [
    {
     "ename": "ValueError",
     "evalue": "Shape mismatch: if categories is an array, it has to be of shape (n_features,).",
     "output_type": "error",
     "traceback": [
      "\u001b[0;31m---------------------------------------------------------------------------\u001b[0m",
      "\u001b[0;31mValueError\u001b[0m                                Traceback (most recent call last)",
      "\u001b[1;32m/Users/orestis/MyProjects/InvestorAPI/analytics/machine_learning/price_prediction_with_fundamentals/notebooks/modelling_v2.ipynb Cell 6\u001b[0m line \u001b[0;36m1\n\u001b[1;32m      <a href='vscode-notebook-cell:/Users/orestis/MyProjects/InvestorAPI/analytics/machine_learning/price_prediction_with_fundamentals/notebooks/modelling_v2.ipynb#W5sZmlsZQ%3D%3D?line=0'>1</a>\u001b[0m \u001b[39mfrom\u001b[39;00m \u001b[39msklearn\u001b[39;00m\u001b[39m.\u001b[39;00m\u001b[39mpipeline\u001b[39;00m \u001b[39mimport\u001b[39;00m make_pipeline\n\u001b[1;32m      <a href='vscode-notebook-cell:/Users/orestis/MyProjects/InvestorAPI/analytics/machine_learning/price_prediction_with_fundamentals/notebooks/modelling_v2.ipynb#W5sZmlsZQ%3D%3D?line=3'>4</a>\u001b[0m neigh_regressor \u001b[39m=\u001b[39m make_pipeline(\n\u001b[1;32m      <a href='vscode-notebook-cell:/Users/orestis/MyProjects/InvestorAPI/analytics/machine_learning/price_prediction_with_fundamentals/notebooks/modelling_v2.ipynb#W5sZmlsZQ%3D%3D?line=4'>5</a>\u001b[0m     OneHotEncoder(categories\u001b[39m=\u001b[39m[\u001b[39m'\u001b[39m\u001b[39msector\u001b[39m\u001b[39m'\u001b[39m]),\n\u001b[1;32m      <a href='vscode-notebook-cell:/Users/orestis/MyProjects/InvestorAPI/analytics/machine_learning/price_prediction_with_fundamentals/notebooks/modelling_v2.ipynb#W5sZmlsZQ%3D%3D?line=5'>6</a>\u001b[0m     StandardScaler(),\n\u001b[0;32m   (...)\u001b[0m\n\u001b[1;32m     <a href='vscode-notebook-cell:/Users/orestis/MyProjects/InvestorAPI/analytics/machine_learning/price_prediction_with_fundamentals/notebooks/modelling_v2.ipynb#W5sZmlsZQ%3D%3D?line=9'>10</a>\u001b[0m     )\n\u001b[1;32m     <a href='vscode-notebook-cell:/Users/orestis/MyProjects/InvestorAPI/analytics/machine_learning/price_prediction_with_fundamentals/notebooks/modelling_v2.ipynb#W5sZmlsZQ%3D%3D?line=10'>11</a>\u001b[0m )\n\u001b[0;32m---> <a href='vscode-notebook-cell:/Users/orestis/MyProjects/InvestorAPI/analytics/machine_learning/price_prediction_with_fundamentals/notebooks/modelling_v2.ipynb#W5sZmlsZQ%3D%3D?line=13'>14</a>\u001b[0m neigh_regressor\u001b[39m.\u001b[39;49mfit(X_train, y_train[\u001b[39m'\u001b[39;49m\u001b[39mavg_next_three_months_price\u001b[39;49m\u001b[39m'\u001b[39;49m])\n\u001b[1;32m     <a href='vscode-notebook-cell:/Users/orestis/MyProjects/InvestorAPI/analytics/machine_learning/price_prediction_with_fundamentals/notebooks/modelling_v2.ipynb#W5sZmlsZQ%3D%3D?line=14'>15</a>\u001b[0m y_pred_neigh_regressor \u001b[39m=\u001b[39m pd\u001b[39m.\u001b[39mSeries(neigh_regressor\u001b[39m.\u001b[39mpredict(X_test))\n",
      "File \u001b[0;32m~/MyProjects/InvestorAPI/env/lib/python3.11/site-packages/sklearn/base.py:1152\u001b[0m, in \u001b[0;36m_fit_context.<locals>.decorator.<locals>.wrapper\u001b[0;34m(estimator, *args, **kwargs)\u001b[0m\n\u001b[1;32m   1145\u001b[0m     estimator\u001b[39m.\u001b[39m_validate_params()\n\u001b[1;32m   1147\u001b[0m \u001b[39mwith\u001b[39;00m config_context(\n\u001b[1;32m   1148\u001b[0m     skip_parameter_validation\u001b[39m=\u001b[39m(\n\u001b[1;32m   1149\u001b[0m         prefer_skip_nested_validation \u001b[39mor\u001b[39;00m global_skip_validation\n\u001b[1;32m   1150\u001b[0m     )\n\u001b[1;32m   1151\u001b[0m ):\n\u001b[0;32m-> 1152\u001b[0m     \u001b[39mreturn\u001b[39;00m fit_method(estimator, \u001b[39m*\u001b[39;49margs, \u001b[39m*\u001b[39;49m\u001b[39m*\u001b[39;49mkwargs)\n",
      "File \u001b[0;32m~/MyProjects/InvestorAPI/env/lib/python3.11/site-packages/sklearn/pipeline.py:423\u001b[0m, in \u001b[0;36mPipeline.fit\u001b[0;34m(self, X, y, **fit_params)\u001b[0m\n\u001b[1;32m    397\u001b[0m \u001b[39m\u001b[39m\u001b[39m\"\"\"Fit the model.\u001b[39;00m\n\u001b[1;32m    398\u001b[0m \n\u001b[1;32m    399\u001b[0m \u001b[39mFit all the transformers one after the other and transform the\u001b[39;00m\n\u001b[0;32m   (...)\u001b[0m\n\u001b[1;32m    420\u001b[0m \u001b[39m    Pipeline with fitted steps.\u001b[39;00m\n\u001b[1;32m    421\u001b[0m \u001b[39m\"\"\"\u001b[39;00m\n\u001b[1;32m    422\u001b[0m fit_params_steps \u001b[39m=\u001b[39m \u001b[39mself\u001b[39m\u001b[39m.\u001b[39m_check_fit_params(\u001b[39m*\u001b[39m\u001b[39m*\u001b[39mfit_params)\n\u001b[0;32m--> 423\u001b[0m Xt \u001b[39m=\u001b[39m \u001b[39mself\u001b[39;49m\u001b[39m.\u001b[39;49m_fit(X, y, \u001b[39m*\u001b[39;49m\u001b[39m*\u001b[39;49mfit_params_steps)\n\u001b[1;32m    424\u001b[0m \u001b[39mwith\u001b[39;00m _print_elapsed_time(\u001b[39m\"\u001b[39m\u001b[39mPipeline\u001b[39m\u001b[39m\"\u001b[39m, \u001b[39mself\u001b[39m\u001b[39m.\u001b[39m_log_message(\u001b[39mlen\u001b[39m(\u001b[39mself\u001b[39m\u001b[39m.\u001b[39msteps) \u001b[39m-\u001b[39m \u001b[39m1\u001b[39m)):\n\u001b[1;32m    425\u001b[0m     \u001b[39mif\u001b[39;00m \u001b[39mself\u001b[39m\u001b[39m.\u001b[39m_final_estimator \u001b[39m!=\u001b[39m \u001b[39m\"\u001b[39m\u001b[39mpassthrough\u001b[39m\u001b[39m\"\u001b[39m:\n",
      "File \u001b[0;32m~/MyProjects/InvestorAPI/env/lib/python3.11/site-packages/sklearn/pipeline.py:377\u001b[0m, in \u001b[0;36mPipeline._fit\u001b[0;34m(self, X, y, **fit_params_steps)\u001b[0m\n\u001b[1;32m    375\u001b[0m     cloned_transformer \u001b[39m=\u001b[39m clone(transformer)\n\u001b[1;32m    376\u001b[0m \u001b[39m# Fit or load from cache the current transformer\u001b[39;00m\n\u001b[0;32m--> 377\u001b[0m X, fitted_transformer \u001b[39m=\u001b[39m fit_transform_one_cached(\n\u001b[1;32m    378\u001b[0m     cloned_transformer,\n\u001b[1;32m    379\u001b[0m     X,\n\u001b[1;32m    380\u001b[0m     y,\n\u001b[1;32m    381\u001b[0m     \u001b[39mNone\u001b[39;49;00m,\n\u001b[1;32m    382\u001b[0m     message_clsname\u001b[39m=\u001b[39;49m\u001b[39m\"\u001b[39;49m\u001b[39mPipeline\u001b[39;49m\u001b[39m\"\u001b[39;49m,\n\u001b[1;32m    383\u001b[0m     message\u001b[39m=\u001b[39;49m\u001b[39mself\u001b[39;49m\u001b[39m.\u001b[39;49m_log_message(step_idx),\n\u001b[1;32m    384\u001b[0m     \u001b[39m*\u001b[39;49m\u001b[39m*\u001b[39;49mfit_params_steps[name],\n\u001b[1;32m    385\u001b[0m )\n\u001b[1;32m    386\u001b[0m \u001b[39m# Replace the transformer of the step with the fitted\u001b[39;00m\n\u001b[1;32m    387\u001b[0m \u001b[39m# transformer. This is necessary when loading the transformer\u001b[39;00m\n\u001b[1;32m    388\u001b[0m \u001b[39m# from the cache.\u001b[39;00m\n\u001b[1;32m    389\u001b[0m \u001b[39mself\u001b[39m\u001b[39m.\u001b[39msteps[step_idx] \u001b[39m=\u001b[39m (name, fitted_transformer)\n",
      "File \u001b[0;32m~/MyProjects/InvestorAPI/env/lib/python3.11/site-packages/joblib/memory.py:353\u001b[0m, in \u001b[0;36mNotMemorizedFunc.__call__\u001b[0;34m(self, *args, **kwargs)\u001b[0m\n\u001b[1;32m    352\u001b[0m \u001b[39mdef\u001b[39;00m \u001b[39m__call__\u001b[39m(\u001b[39mself\u001b[39m, \u001b[39m*\u001b[39margs, \u001b[39m*\u001b[39m\u001b[39m*\u001b[39mkwargs):\n\u001b[0;32m--> 353\u001b[0m     \u001b[39mreturn\u001b[39;00m \u001b[39mself\u001b[39;49m\u001b[39m.\u001b[39;49mfunc(\u001b[39m*\u001b[39;49margs, \u001b[39m*\u001b[39;49m\u001b[39m*\u001b[39;49mkwargs)\n",
      "File \u001b[0;32m~/MyProjects/InvestorAPI/env/lib/python3.11/site-packages/sklearn/pipeline.py:957\u001b[0m, in \u001b[0;36m_fit_transform_one\u001b[0;34m(transformer, X, y, weight, message_clsname, message, **fit_params)\u001b[0m\n\u001b[1;32m    955\u001b[0m \u001b[39mwith\u001b[39;00m _print_elapsed_time(message_clsname, message):\n\u001b[1;32m    956\u001b[0m     \u001b[39mif\u001b[39;00m \u001b[39mhasattr\u001b[39m(transformer, \u001b[39m\"\u001b[39m\u001b[39mfit_transform\u001b[39m\u001b[39m\"\u001b[39m):\n\u001b[0;32m--> 957\u001b[0m         res \u001b[39m=\u001b[39m transformer\u001b[39m.\u001b[39;49mfit_transform(X, y, \u001b[39m*\u001b[39;49m\u001b[39m*\u001b[39;49mfit_params)\n\u001b[1;32m    958\u001b[0m     \u001b[39melse\u001b[39;00m:\n\u001b[1;32m    959\u001b[0m         res \u001b[39m=\u001b[39m transformer\u001b[39m.\u001b[39mfit(X, y, \u001b[39m*\u001b[39m\u001b[39m*\u001b[39mfit_params)\u001b[39m.\u001b[39mtransform(X)\n",
      "File \u001b[0;32m~/MyProjects/InvestorAPI/env/lib/python3.11/site-packages/sklearn/utils/_set_output.py:157\u001b[0m, in \u001b[0;36m_wrap_method_output.<locals>.wrapped\u001b[0;34m(self, X, *args, **kwargs)\u001b[0m\n\u001b[1;32m    155\u001b[0m \u001b[39m@wraps\u001b[39m(f)\n\u001b[1;32m    156\u001b[0m \u001b[39mdef\u001b[39;00m \u001b[39mwrapped\u001b[39m(\u001b[39mself\u001b[39m, X, \u001b[39m*\u001b[39margs, \u001b[39m*\u001b[39m\u001b[39m*\u001b[39mkwargs):\n\u001b[0;32m--> 157\u001b[0m     data_to_wrap \u001b[39m=\u001b[39m f(\u001b[39mself\u001b[39;49m, X, \u001b[39m*\u001b[39;49margs, \u001b[39m*\u001b[39;49m\u001b[39m*\u001b[39;49mkwargs)\n\u001b[1;32m    158\u001b[0m     \u001b[39mif\u001b[39;00m \u001b[39misinstance\u001b[39m(data_to_wrap, \u001b[39mtuple\u001b[39m):\n\u001b[1;32m    159\u001b[0m         \u001b[39m# only wrap the first output for cross decomposition\u001b[39;00m\n\u001b[1;32m    160\u001b[0m         return_tuple \u001b[39m=\u001b[39m (\n\u001b[1;32m    161\u001b[0m             _wrap_data_with_container(method, data_to_wrap[\u001b[39m0\u001b[39m], X, \u001b[39mself\u001b[39m),\n\u001b[1;32m    162\u001b[0m             \u001b[39m*\u001b[39mdata_to_wrap[\u001b[39m1\u001b[39m:],\n\u001b[1;32m    163\u001b[0m         )\n",
      "File \u001b[0;32m~/MyProjects/InvestorAPI/env/lib/python3.11/site-packages/sklearn/base.py:919\u001b[0m, in \u001b[0;36mTransformerMixin.fit_transform\u001b[0;34m(self, X, y, **fit_params)\u001b[0m\n\u001b[1;32m    916\u001b[0m     \u001b[39mreturn\u001b[39;00m \u001b[39mself\u001b[39m\u001b[39m.\u001b[39mfit(X, \u001b[39m*\u001b[39m\u001b[39m*\u001b[39mfit_params)\u001b[39m.\u001b[39mtransform(X)\n\u001b[1;32m    917\u001b[0m \u001b[39melse\u001b[39;00m:\n\u001b[1;32m    918\u001b[0m     \u001b[39m# fit method of arity 2 (supervised transformation)\u001b[39;00m\n\u001b[0;32m--> 919\u001b[0m     \u001b[39mreturn\u001b[39;00m \u001b[39mself\u001b[39;49m\u001b[39m.\u001b[39;49mfit(X, y, \u001b[39m*\u001b[39;49m\u001b[39m*\u001b[39;49mfit_params)\u001b[39m.\u001b[39mtransform(X)\n",
      "File \u001b[0;32m~/MyProjects/InvestorAPI/env/lib/python3.11/site-packages/sklearn/base.py:1152\u001b[0m, in \u001b[0;36m_fit_context.<locals>.decorator.<locals>.wrapper\u001b[0;34m(estimator, *args, **kwargs)\u001b[0m\n\u001b[1;32m   1145\u001b[0m     estimator\u001b[39m.\u001b[39m_validate_params()\n\u001b[1;32m   1147\u001b[0m \u001b[39mwith\u001b[39;00m config_context(\n\u001b[1;32m   1148\u001b[0m     skip_parameter_validation\u001b[39m=\u001b[39m(\n\u001b[1;32m   1149\u001b[0m         prefer_skip_nested_validation \u001b[39mor\u001b[39;00m global_skip_validation\n\u001b[1;32m   1150\u001b[0m     )\n\u001b[1;32m   1151\u001b[0m ):\n\u001b[0;32m-> 1152\u001b[0m     \u001b[39mreturn\u001b[39;00m fit_method(estimator, \u001b[39m*\u001b[39;49margs, \u001b[39m*\u001b[39;49m\u001b[39m*\u001b[39;49mkwargs)\n",
      "File \u001b[0;32m~/MyProjects/InvestorAPI/env/lib/python3.11/site-packages/sklearn/preprocessing/_encoders.py:985\u001b[0m, in \u001b[0;36mOneHotEncoder.fit\u001b[0;34m(self, X, y)\u001b[0m\n\u001b[1;32m    975\u001b[0m     warnings\u001b[39m.\u001b[39mwarn(\n\u001b[1;32m    976\u001b[0m         (\n\u001b[1;32m    977\u001b[0m             \u001b[39m\"\u001b[39m\u001b[39m`sparse` was renamed to `sparse_output` in version 1.2 and \u001b[39m\u001b[39m\"\u001b[39m\n\u001b[0;32m   (...)\u001b[0m\n\u001b[1;32m    981\u001b[0m         \u001b[39mFutureWarning\u001b[39;00m,\n\u001b[1;32m    982\u001b[0m     )\n\u001b[1;32m    983\u001b[0m     \u001b[39mself\u001b[39m\u001b[39m.\u001b[39msparse_output \u001b[39m=\u001b[39m \u001b[39mself\u001b[39m\u001b[39m.\u001b[39msparse\n\u001b[0;32m--> 985\u001b[0m \u001b[39mself\u001b[39;49m\u001b[39m.\u001b[39;49m_fit(\n\u001b[1;32m    986\u001b[0m     X,\n\u001b[1;32m    987\u001b[0m     handle_unknown\u001b[39m=\u001b[39;49m\u001b[39mself\u001b[39;49m\u001b[39m.\u001b[39;49mhandle_unknown,\n\u001b[1;32m    988\u001b[0m     force_all_finite\u001b[39m=\u001b[39;49m\u001b[39m\"\u001b[39;49m\u001b[39mallow-nan\u001b[39;49m\u001b[39m\"\u001b[39;49m,\n\u001b[1;32m    989\u001b[0m )\n\u001b[1;32m    990\u001b[0m \u001b[39mself\u001b[39m\u001b[39m.\u001b[39m_set_drop_idx()\n\u001b[1;32m    991\u001b[0m \u001b[39mself\u001b[39m\u001b[39m.\u001b[39m_n_features_outs \u001b[39m=\u001b[39m \u001b[39mself\u001b[39m\u001b[39m.\u001b[39m_compute_n_features_outs()\n",
      "File \u001b[0;32m~/MyProjects/InvestorAPI/env/lib/python3.11/site-packages/sklearn/preprocessing/_encoders.py:85\u001b[0m, in \u001b[0;36m_BaseEncoder._fit\u001b[0;34m(self, X, handle_unknown, force_all_finite, return_counts, return_and_ignore_missing_for_infrequent)\u001b[0m\n\u001b[1;32m     83\u001b[0m \u001b[39mif\u001b[39;00m \u001b[39mself\u001b[39m\u001b[39m.\u001b[39mcategories \u001b[39m!=\u001b[39m \u001b[39m\"\u001b[39m\u001b[39mauto\u001b[39m\u001b[39m\"\u001b[39m:\n\u001b[1;32m     84\u001b[0m     \u001b[39mif\u001b[39;00m \u001b[39mlen\u001b[39m(\u001b[39mself\u001b[39m\u001b[39m.\u001b[39mcategories) \u001b[39m!=\u001b[39m n_features:\n\u001b[0;32m---> 85\u001b[0m         \u001b[39mraise\u001b[39;00m \u001b[39mValueError\u001b[39;00m(\n\u001b[1;32m     86\u001b[0m             \u001b[39m\"\u001b[39m\u001b[39mShape mismatch: if categories is an array,\u001b[39m\u001b[39m\"\u001b[39m\n\u001b[1;32m     87\u001b[0m             \u001b[39m\"\u001b[39m\u001b[39m it has to be of shape (n_features,).\u001b[39m\u001b[39m\"\u001b[39m\n\u001b[1;32m     88\u001b[0m         )\n\u001b[1;32m     90\u001b[0m \u001b[39mself\u001b[39m\u001b[39m.\u001b[39mcategories_ \u001b[39m=\u001b[39m []\n\u001b[1;32m     91\u001b[0m category_counts \u001b[39m=\u001b[39m []\n",
      "\u001b[0;31mValueError\u001b[0m: Shape mismatch: if categories is an array, it has to be of shape (n_features,)."
     ]
    }
   ],
   "source": [
    "from sklearn.pipeline import make_pipeline\n",
    "\n",
    "\n",
    "neigh_regressor = make_pipeline(\n",
    "    OneHotEncoder(categories=['sector']),\n",
    "    StandardScaler(),\n",
    "    KNeighborsRegressor(\n",
    "        n_neighbors=10,\n",
    "        weights='distance'\n",
    "    )\n",
    ")\n",
    "\n",
    "\n",
    "neigh_regressor.fit(X_train, y_train['avg_next_three_months_price'])\n",
    "y_pred_neigh_regressor = pd.Series(neigh_regressor.predict(X_test))"
   ]
  },
  {
   "cell_type": "code",
   "execution_count": 7,
   "metadata": {},
   "outputs": [
    {
     "name": "stdout",
     "output_type": "stream",
     "text": [
      "Mean absolute error: 53.22\n",
      "Coefficient of determination: 0.11\n",
      "Mean absolute pct error: 2.32\n"
     ]
    }
   ],
   "source": [
    "print(\"Mean absolute error: %.2f\" % mean_absolute_error(y_test['avg_next_three_months_price'], y_pred_neigh_regressor))\n",
    "print(\"Coefficient of determination: %.2f\" % r2_score(y_test['avg_next_three_months_price'], y_pred_neigh_regressor))\n",
    "print(\"Mean absolute pct error: %.2f\" % mean_absolute_percentage_error(y_test['avg_next_three_months_price'], y_pred_neigh_regressor))"
   ]
  },
  {
   "cell_type": "code",
   "execution_count": 8,
   "metadata": {},
   "outputs": [],
   "source": [
    "from sklearn.neighbors import RadiusNeighborsRegressor\n",
    "\n",
    "radius_regressor = RadiusNeighborsRegressor(radius=1.0, weights='distance')\n",
    "\n",
    "radius_regressor.fit(X_train_transformed, y_train['avg_next_three_months_price'])\n",
    "y_pred_radius_regressor = pd.Series(neigh_regressor.predict(X_test_transformed))"
   ]
  },
  {
   "cell_type": "code",
   "execution_count": 9,
   "metadata": {},
   "outputs": [
    {
     "name": "stdout",
     "output_type": "stream",
     "text": [
      "Mean absolute error: 53.22\n",
      "Coefficient of determination: 0.11\n",
      "Mean absolute pct error: 2.32\n"
     ]
    }
   ],
   "source": [
    "print(\"Mean absolute error: %.2f\" % mean_absolute_error(y_test['avg_next_three_months_price'], y_pred_radius_regressor))\n",
    "print(\"Coefficient of determination: %.2f\" % r2_score(y_test['avg_next_three_months_price'], y_pred_radius_regressor))\n",
    "print(\"Mean absolute pct error: %.2f\" % mean_absolute_percentage_error(y_test['avg_next_three_months_price'], y_pred_radius_regressor))"
   ]
  },
  {
   "cell_type": "code",
   "execution_count": 42,
   "metadata": {},
   "outputs": [
    {
     "name": "stderr",
     "output_type": "stream",
     "text": [
      "/Users/orestis/MyProjects/InvestorAPI/env/lib/python3.11/site-packages/sklearn/svm/_base.py:1250: ConvergenceWarning: Liblinear failed to converge, increase the number of iterations.\n",
      "  warnings.warn(\n"
     ]
    }
   ],
   "source": [
    "from sklearn.svm import LinearSVR\n",
    "\n",
    "from sklearn.pipeline import make_pipeline\n",
    "from sklearn.preprocessing import StandardScaler\n",
    "\n",
    "\n",
    "sv_regr = make_pipeline(\n",
    "    StandardScaler(),\n",
    "    LinearSVR(\n",
    "        dual=\"auto\",\n",
    "        random_state=0, \n",
    "        tol=1e-20,\n",
    "        C=0.1,\n",
    "        max_iter=20000,\n",
    "        #loss=\"squared_epsilon_insensitive\"\n",
    "        epsilon=0.5\n",
    "    )\n",
    ")\n",
    "sv_regr.fit(X_train_transformed, y_train['avg_next_three_months_price'])\n",
    "\n",
    "y_pred_sv_regr =  sv_regr.predict(X_test_transformed)"
   ]
  },
  {
   "cell_type": "code",
   "execution_count": 43,
   "metadata": {},
   "outputs": [
    {
     "name": "stdout",
     "output_type": "stream",
     "text": [
      "Mean absolute error: 6.54\n",
      "Coefficient of determination: 0.99\n",
      "Mean absolute pct error: 0.16\n"
     ]
    }
   ],
   "source": [
    "print(\"Mean absolute error: %.2f\" % mean_absolute_error(y_test['avg_next_three_months_price'], y_pred_sv_regr))\n",
    "print(\"Coefficient of determination: %.2f\" % r2_score(y_test['avg_next_three_months_price'], y_pred_sv_regr))\n",
    "print(\"Mean absolute pct error: %.2f\" % mean_absolute_percentage_error(y_test['avg_next_three_months_price'], y_pred_sv_regr))"
   ]
  },
  {
   "cell_type": "code",
   "execution_count": 14,
   "metadata": {},
   "outputs": [],
   "source": [
    "from sklearn.svm import SVR\n",
    "\n",
    "svr = make_pipeline(\n",
    "    StandardScaler(),\n",
    "    SVR(kernel='linear')\n",
    ")\n",
    "\n",
    "svr.fit(X_train_transformed, y_train['avg_next_three_months_price'])\n",
    "\n",
    "y_pred_svr =  svr.predict(X_test_transformed)"
   ]
  },
  {
   "cell_type": "code",
   "execution_count": 15,
   "metadata": {},
   "outputs": [
    {
     "name": "stdout",
     "output_type": "stream",
     "text": [
      "Mean absolute error: 6.25\n",
      "Coefficient of determination: 0.99\n",
      "Mean absolute pct error: 0.17\n"
     ]
    }
   ],
   "source": [
    "print(\"Mean absolute error: %.2f\" % mean_absolute_error(y_test['avg_next_three_months_price'], y_pred_svr))\n",
    "print(\"Coefficient of determination: %.2f\" % r2_score(y_test['avg_next_three_months_price'], y_pred_svr))\n",
    "print(\"Mean absolute pct error: %.2f\" % mean_absolute_percentage_error(y_test['avg_next_three_months_price'], y_pred_svr))"
   ]
  },
  {
   "cell_type": "markdown",
   "metadata": {},
   "source": [
    "Mean absolute error: 6.54\n",
    "Coefficient of determination: 0.99\n",
    "Mean absolute pct error: 0.16"
   ]
  },
  {
   "cell_type": "code",
   "execution_count": 16,
   "metadata": {},
   "outputs": [
    {
     "data": {
      "text/plain": [
       "{'MANUFACTURING': 15.246270784732788,\n",
       " 'LIFE SCIENCES': 23.35996424172644,\n",
       " 'TRADE & SERVICES': 16.32714793982479,\n",
       " 'TECHNOLOGY': 16.270693934188213,\n",
       " 'FINANCE': 13.240326329463228,\n",
       " 'ENERGY & TRANSPORTATION': 14.727300861959604,\n",
       " 'REAL ESTATE & CONSTRUCTION': 14.98303908659845}"
      ]
     },
     "execution_count": 16,
     "metadata": {},
     "output_type": "execute_result"
    }
   ],
   "source": [
    "utils.calculate_avg_pct_loss_per_sector(\n",
    "    y_pred=y_test['avg_next_three_months_price'],\n",
    "    y_actual=y_pred_svr,\n",
    "    sector_series=y_test['sector']\n",
    ")"
   ]
  },
  {
   "cell_type": "code",
   "execution_count": 7,
   "metadata": {},
   "outputs": [],
   "source": [
    "from sklearn.linear_model import SGDRegressor\n",
    "\n",
    "from sklearn.linear_model import SGDRegressor\n",
    "from sklearn.pipeline import make_pipeline\n",
    "from sklearn.preprocessing import StandardScaler\n",
    "\n",
    "sgd_reg = make_pipeline(\n",
    "    StandardScaler(),\n",
    "    SGDRegressor(max_iter=1000, tol=1e-3)\n",
    ")\n",
    "\n",
    "sgd_reg.fit(X_train_transformed, y_train['avg_next_three_months_price'])\n",
    "y_pred_sgd_reg =  sgd_reg.predict(X_test_transformed)"
   ]
  },
  {
   "cell_type": "code",
   "execution_count": 8,
   "metadata": {},
   "outputs": [
    {
     "name": "stdout",
     "output_type": "stream",
     "text": [
      "Mean absolute error: 13407242157.96\n",
      "Coefficient of determination: -3142959443303778816.00\n",
      "Mean absolute pct error: 1613277416.36\n"
     ]
    }
   ],
   "source": [
    "print(\"Mean absolute error: %.2f\" % mean_absolute_error(y_test['avg_next_three_months_price'], y_pred_sgd_reg))\n",
    "print(\"Coefficient of determination: %.2f\" % r2_score(y_test['avg_next_three_months_price'], y_pred_sgd_reg))\n",
    "print(\"Mean absolute pct error: %.2f\" % mean_absolute_percentage_error(y_test['avg_next_three_months_price'], y_pred_sgd_reg))"
   ]
  },
  {
   "cell_type": "code",
   "execution_count": 20,
   "metadata": {},
   "outputs": [],
   "source": [
    "from sklearn.linear_model import Ridge\n",
    "\n",
    "ridge_reg = make_pipeline(\n",
    "    StandardScaler(),\n",
    "    Ridge()\n",
    ")\n",
    "\n",
    "ridge_reg.fit(X_train_transformed, y_train['avg_next_three_months_price'])\n",
    "y_pred_ridge_reg =  ridge_reg.predict(X_test_transformed)"
   ]
  },
  {
   "cell_type": "code",
   "execution_count": 21,
   "metadata": {},
   "outputs": [
    {
     "name": "stdout",
     "output_type": "stream",
     "text": [
      "Mean absolute error: 7.29\n",
      "Coefficient of determination: 0.99\n",
      "Mean absolute pct error: 0.24\n"
     ]
    }
   ],
   "source": [
    "print(\"Mean absolute error: %.2f\" % mean_absolute_error(y_test['avg_next_three_months_price'], y_pred_ridge_reg))\n",
    "print(\"Coefficient of determination: %.2f\" % r2_score(y_test['avg_next_three_months_price'], y_pred_ridge_reg))\n",
    "print(\"Mean absolute pct error: %.2f\" % mean_absolute_percentage_error(y_test['avg_next_three_months_price'], y_pred_ridge_reg))"
   ]
  },
  {
   "cell_type": "code",
   "execution_count": 6,
   "metadata": {},
   "outputs": [],
   "source": [
    "from sklearn.linear_model import Lasso\n",
    "from sklearn.pipeline import make_pipeline\n",
    "\n",
    "\n",
    "# lasso_reg = make_pipeline(\n",
    "#     StandardScaler(),\n",
    "#     Lasso()\n",
    "# )\n",
    "\n",
    "lasso_reg = Lasso()\n",
    "\n",
    "lasso_reg.fit(X_train_transformed, y_train['avg_next_three_months_price'])\n",
    "y_pred_lasso_reg =  lasso_reg.predict(X_test_transformed)"
   ]
  },
  {
   "cell_type": "code",
   "execution_count": 7,
   "metadata": {},
   "outputs": [
    {
     "name": "stdout",
     "output_type": "stream",
     "text": [
      "Mean absolute error: 9.96\n",
      "Coefficient of determination: 0.98\n",
      "Mean absolute pct error: 0.61\n"
     ]
    }
   ],
   "source": [
    "print(\"Mean absolute error: %.2f\" % mean_absolute_error(y_test['avg_next_three_months_price'], y_pred_lasso_reg))\n",
    "print(\"Coefficient of determination: %.2f\" % r2_score(y_test['avg_next_three_months_price'], y_pred_lasso_reg))\n",
    "print(\"Mean absolute pct error: %.2f\" % mean_absolute_percentage_error(y_test['avg_next_three_months_price'], y_pred_lasso_reg))"
   ]
  },
  {
   "cell_type": "code",
   "execution_count": 12,
   "metadata": {},
   "outputs": [
    {
     "data": {
      "text/plain": [
       "{'MANUFACTURING': 0.11182686833966238,\n",
       " 'LIFE SCIENCES': 0.18491570527086126,\n",
       " 'TRADE & SERVICES': 0.12684532627844944,\n",
       " 'TECHNOLOGY': 0.10898162102013316,\n",
       " 'FINANCE': 0.08500590219486488,\n",
       " 'ENERGY & TRANSPORTATION': 0.1094204096043076,\n",
       " 'REAL ESTATE & CONSTRUCTION': 0.08584409993532244}"
      ]
     },
     "execution_count": 12,
     "metadata": {},
     "output_type": "execute_result"
    }
   ],
   "source": [
    "utils.calculate_avg_pct_loss_per_sector(\n",
    "    y_pred=y_pred_lasso_reg,\n",
    "    y_actual=y_test['avg_next_three_months_price'],\n",
    "    sector_series=y_test['sector']\n",
    ")"
   ]
  },
  {
   "cell_type": "code",
   "execution_count": null,
   "metadata": {},
   "outputs": [],
   "source": []
  }
 ],
 "metadata": {
  "kernelspec": {
   "display_name": "Python 3 (ipykernel)",
   "language": "python",
   "name": "python3"
  },
  "language_info": {
   "codemirror_mode": {
    "name": "ipython",
    "version": 3
   },
   "file_extension": ".py",
   "mimetype": "text/x-python",
   "name": "python",
   "nbconvert_exporter": "python",
   "pygments_lexer": "ipython3",
   "version": "3.11.0"
  }
 },
 "nbformat": 4,
 "nbformat_minor": 2
}
