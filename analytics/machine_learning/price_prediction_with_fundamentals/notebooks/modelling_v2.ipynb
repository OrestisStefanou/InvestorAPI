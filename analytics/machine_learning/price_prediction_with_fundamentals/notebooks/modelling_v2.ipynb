{
 "cells": [
  {
   "cell_type": "code",
   "execution_count": 1,
   "metadata": {},
   "outputs": [],
   "source": [
    "import datetime as dt\n",
    "\n",
    "import pandas as pd\n",
    "from sklearn.metrics import mean_absolute_percentage_error, r2_score, mean_absolute_error\n",
    "from sklearn.preprocessing import (\n",
    "    OneHotEncoder,\n",
    "    MinMaxScaler,\n",
    "    StandardScaler\n",
    ")\n",
    "from sklearn.pipeline import make_pipeline\n",
    "from sklearn.compose import make_column_transformer\n",
    "from sklearn.neighbors import KNeighborsRegressor\n",
    "from sklearn.linear_model import Lasso\n",
    "\n",
    "from analytics.machine_learning.price_prediction_with_fundamentals import utils"
   ]
  },
  {
   "cell_type": "code",
   "execution_count": 2,
   "metadata": {},
   "outputs": [],
   "source": [
    "dataset = utils.get_dataset(only_value_change_columns=True)"
   ]
  },
  {
   "cell_type": "code",
   "execution_count": 4,
   "metadata": {},
   "outputs": [],
   "source": [
    "train_set, test_set = utils.split_data_to_train_and_test(\n",
    "    df=dataset,\n",
    "    cutoff_date=dt.datetime(2023,6,1)\n",
    ")"
   ]
  },
  {
   "cell_type": "code",
   "execution_count": 5,
   "metadata": {},
   "outputs": [],
   "source": [
    "cols_to_drop = ['symbol', 'fiscal_date_ending', 'reported_currency', 'avg_next_three_months_price']\n",
    "\n",
    "y_train = train_set[['avg_next_three_months_price', 'sector']]\n",
    "X_train = train_set.drop(cols_to_drop, axis=1)\n",
    "\n",
    "y_test = test_set[['avg_next_three_months_price', 'sector']]\n",
    "X_test = test_set.drop(cols_to_drop, axis=1)"
   ]
  },
  {
   "cell_type": "code",
   "execution_count": 6,
   "metadata": {},
   "outputs": [],
   "source": [
    "categorical_features = ['sector']\n",
    "numerical_features = ~X_train.columns.isin(categorical_features)\n",
    "\n",
    "preprocessor = make_column_transformer(\n",
    "    (OneHotEncoder(), categorical_features),\n",
    "    (StandardScaler(), ['total_revenue_value_change', 'total_liabilities_value_change']),\n",
    "    remainder='passthrough'\n",
    ")\n"
   ]
  },
  {
   "cell_type": "code",
   "execution_count": 7,
   "metadata": {},
   "outputs": [],
   "source": [
    "neigh_regressor = make_pipeline(\n",
    "    preprocessor,\n",
    "    KNeighborsRegressor(\n",
    "        n_neighbors=10,\n",
    "        weights='distance'\n",
    "    )\n",
    ")\n",
    "\n",
    "neigh_regressor.fit(X_train, y_train['avg_next_three_months_price'])\n",
    "y_pred_neigh_regressor = pd.Series(neigh_regressor.predict(X_test))"
   ]
  },
  {
   "cell_type": "code",
   "execution_count": 8,
   "metadata": {},
   "outputs": [
    {
     "name": "stdout",
     "output_type": "stream",
     "text": [
      "Mean absolute error: 53.28\n",
      "Coefficient of determination: 0.10\n",
      "Mean absolute pct error: 2.32\n"
     ]
    }
   ],
   "source": [
    "print(\"Mean absolute error: %.2f\" % mean_absolute_error(y_test['avg_next_three_months_price'], y_pred_neigh_regressor))\n",
    "print(\"Coefficient of determination: %.2f\" % r2_score(y_test['avg_next_three_months_price'], y_pred_neigh_regressor))\n",
    "print(\"Mean absolute pct error: %.2f\" % mean_absolute_percentage_error(y_test['avg_next_three_months_price'], y_pred_neigh_regressor))"
   ]
  },
  {
   "cell_type": "code",
   "execution_count": 9,
   "metadata": {},
   "outputs": [],
   "source": [
    "from sklearn.neighbors import RadiusNeighborsRegressor\n",
    "\n",
    "radius_regressor = make_pipeline(\n",
    "    preprocessor,\n",
    "    RadiusNeighborsRegressor(radius=1.0, weights='distance')\n",
    ")\n",
    "\n",
    "radius_regressor.fit(X_train, y_train['avg_next_three_months_price'])\n",
    "y_pred_radius_regressor = pd.Series(neigh_regressor.predict(X_test))"
   ]
  },
  {
   "cell_type": "code",
   "execution_count": 10,
   "metadata": {},
   "outputs": [
    {
     "name": "stdout",
     "output_type": "stream",
     "text": [
      "Mean absolute error: 53.28\n",
      "Coefficient of determination: 0.10\n",
      "Mean absolute pct error: 2.32\n"
     ]
    }
   ],
   "source": [
    "print(\"Mean absolute error: %.2f\" % mean_absolute_error(y_test['avg_next_three_months_price'], y_pred_radius_regressor))\n",
    "print(\"Coefficient of determination: %.2f\" % r2_score(y_test['avg_next_three_months_price'], y_pred_radius_regressor))\n",
    "print(\"Mean absolute pct error: %.2f\" % mean_absolute_percentage_error(y_test['avg_next_three_months_price'], y_pred_radius_regressor))"
   ]
  },
  {
   "cell_type": "code",
   "execution_count": 11,
   "metadata": {},
   "outputs": [
    {
     "name": "stderr",
     "output_type": "stream",
     "text": [
      "/Users/orestis/MyProjects/InvestorAPI/env/lib/python3.11/site-packages/sklearn/svm/_base.py:1250: ConvergenceWarning: Liblinear failed to converge, increase the number of iterations.\n",
      "  warnings.warn(\n"
     ]
    }
   ],
   "source": [
    "from sklearn.svm import LinearSVR\n",
    "\n",
    "from sklearn.pipeline import make_pipeline\n",
    "from sklearn.preprocessing import StandardScaler\n",
    "\n",
    "\n",
    "sv_regr = make_pipeline(\n",
    "    preprocessor,\n",
    "    LinearSVR(\n",
    "        dual=\"auto\",\n",
    "        random_state=0, \n",
    "        tol=1e-20,\n",
    "        C=0.1,\n",
    "        max_iter=20000,\n",
    "        #loss=\"squared_epsilon_insensitive\"\n",
    "        epsilon=0.5\n",
    "    )\n",
    ")\n",
    "sv_regr.fit(X_train, y_train['avg_next_three_months_price'])\n",
    "\n",
    "y_pred_sv_regr =  sv_regr.predict(X_test)"
   ]
  },
  {
   "cell_type": "code",
   "execution_count": 12,
   "metadata": {},
   "outputs": [
    {
     "name": "stdout",
     "output_type": "stream",
     "text": [
      "Mean absolute error: 58029067.61\n",
      "Coefficient of determination: -339955457742053.81\n",
      "Mean absolute pct error: 12706191.84\n"
     ]
    }
   ],
   "source": [
    "print(\"Mean absolute error: %.2f\" % mean_absolute_error(y_test['avg_next_three_months_price'], y_pred_sv_regr))\n",
    "print(\"Coefficient of determination: %.2f\" % r2_score(y_test['avg_next_three_months_price'], y_pred_sv_regr))\n",
    "print(\"Mean absolute pct error: %.2f\" % mean_absolute_percentage_error(y_test['avg_next_three_months_price'], y_pred_sv_regr))"
   ]
  },
  {
   "cell_type": "code",
   "execution_count": 13,
   "metadata": {},
   "outputs": [],
   "source": [
    "from sklearn.svm import SVR\n",
    "\n",
    "svr = make_pipeline(\n",
    "    preprocessor,\n",
    "    SVR(kernel='linear')\n",
    ")\n",
    "\n",
    "svr.fit(X_train, y_train['avg_next_three_months_price'])\n",
    "\n",
    "y_pred_svr =  svr.predict(X_test)"
   ]
  },
  {
   "cell_type": "code",
   "execution_count": 15,
   "metadata": {},
   "outputs": [
    {
     "name": "stdout",
     "output_type": "stream",
     "text": [
      "Mean absolute error: 6.25\n",
      "Coefficient of determination: 0.99\n",
      "Mean absolute pct error: 0.17\n"
     ]
    }
   ],
   "source": [
    "print(\"Mean absolute error: %.2f\" % mean_absolute_error(y_test['avg_next_three_months_price'], y_pred_svr))\n",
    "print(\"Coefficient of determination: %.2f\" % r2_score(y_test['avg_next_three_months_price'], y_pred_svr))\n",
    "print(\"Mean absolute pct error: %.2f\" % mean_absolute_percentage_error(y_test['avg_next_three_months_price'], y_pred_svr))"
   ]
  },
  {
   "cell_type": "code",
   "execution_count": 16,
   "metadata": {},
   "outputs": [
    {
     "data": {
      "text/plain": [
       "{'MANUFACTURING': 15.246270784732788,\n",
       " 'LIFE SCIENCES': 23.35996424172644,\n",
       " 'TRADE & SERVICES': 16.32714793982479,\n",
       " 'TECHNOLOGY': 16.270693934188213,\n",
       " 'FINANCE': 13.240326329463228,\n",
       " 'ENERGY & TRANSPORTATION': 14.727300861959604,\n",
       " 'REAL ESTATE & CONSTRUCTION': 14.98303908659845}"
      ]
     },
     "execution_count": 16,
     "metadata": {},
     "output_type": "execute_result"
    }
   ],
   "source": [
    "utils.calculate_avg_pct_loss_per_sector(\n",
    "    y_pred=y_test['avg_next_three_months_price'],\n",
    "    y_actual=y_pred_svr,\n",
    "    sector_series=y_test['sector']\n",
    ")"
   ]
  },
  {
   "cell_type": "code",
   "execution_count": 7,
   "metadata": {},
   "outputs": [],
   "source": [
    "from sklearn.linear_model import SGDRegressor\n",
    "\n",
    "sgd_reg = make_pipeline(\n",
    "    preprocessor,\n",
    "    SGDRegressor()\n",
    ")\n",
    "\n",
    "sgd_reg.fit(X_train, y_train['avg_next_three_months_price'])\n",
    "y_pred_sgd_reg =  sgd_reg.predict(X_test)"
   ]
  },
  {
   "cell_type": "code",
   "execution_count": 8,
   "metadata": {},
   "outputs": [
    {
     "name": "stdout",
     "output_type": "stream",
     "text": [
      "Mean absolute error: 24081442819020007879184411412477771776.00\n",
      "Coefficient of determination: -25533806818964250673175774928207193793647420877945504572789582984915189760.00\n",
      "Mean absolute pct error: 4064884997415303453223940650396811264.00\n"
     ]
    }
   ],
   "source": [
    "print(\"Mean absolute error: %.2f\" % mean_absolute_error(y_test['avg_next_three_months_price'], y_pred_sgd_reg))\n",
    "print(\"Coefficient of determination: %.2f\" % r2_score(y_test['avg_next_three_months_price'], y_pred_sgd_reg))\n",
    "print(\"Mean absolute pct error: %.2f\" % mean_absolute_percentage_error(y_test['avg_next_three_months_price'], y_pred_sgd_reg))"
   ]
  },
  {
   "cell_type": "code",
   "execution_count": 9,
   "metadata": {},
   "outputs": [
    {
     "name": "stderr",
     "output_type": "stream",
     "text": [
      "/Users/orestis/MyProjects/InvestorAPI/env/lib/python3.11/site-packages/sklearn/linear_model/_ridge.py:200: LinAlgWarning: Ill-conditioned matrix (rcond=7.1428e-38): result may not be accurate.\n",
      "  return linalg.solve(A, Xy, assume_a=\"pos\", overwrite_a=True).T\n"
     ]
    }
   ],
   "source": [
    "from sklearn.linear_model import Ridge\n",
    "\n",
    "ridge_reg = make_pipeline(\n",
    "    preprocessor,\n",
    "    Ridge()\n",
    ")\n",
    "\n",
    "ridge_reg.fit(X_train, y_train['avg_next_three_months_price'])\n",
    "y_pred_ridge_reg =  ridge_reg.predict(X_test)"
   ]
  },
  {
   "cell_type": "code",
   "execution_count": 10,
   "metadata": {},
   "outputs": [
    {
     "name": "stdout",
     "output_type": "stream",
     "text": [
      "Mean absolute error: 7.28\n",
      "Coefficient of determination: 0.99\n",
      "Mean absolute pct error: 0.24\n"
     ]
    }
   ],
   "source": [
    "print(\"Mean absolute error: %.2f\" % mean_absolute_error(y_test['avg_next_three_months_price'], y_pred_ridge_reg))\n",
    "print(\"Coefficient of determination: %.2f\" % r2_score(y_test['avg_next_three_months_price'], y_pred_ridge_reg))\n",
    "print(\"Mean absolute pct error: %.2f\" % mean_absolute_percentage_error(y_test['avg_next_three_months_price'], y_pred_ridge_reg))"
   ]
  },
  {
   "cell_type": "code",
   "execution_count": 19,
   "metadata": {},
   "outputs": [
    {
     "name": "stderr",
     "output_type": "stream",
     "text": [
      "/Users/orestis/MyProjects/InvestorAPI/env/lib/python3.11/site-packages/sklearn/linear_model/_coordinate_descent.py:628: ConvergenceWarning: Objective did not converge. You might want to increase the number of iterations, check the scale of the features or consider increasing regularisation. Duality gap: 1.755e+07, tolerance: 1.142e+05\n",
      "  model = cd_fast.enet_coordinate_descent(\n"
     ]
    }
   ],
   "source": [
    "from sklearn.linear_model import Lasso\n",
    "\n",
    "\n",
    "lasso_reg = make_pipeline(\n",
    "    preprocessor,\n",
    "    Lasso(max_iter=3000, alpha=1)\n",
    ")\n",
    "\n",
    "lasso_reg.fit(X_train, y_train['avg_next_three_months_price'])\n",
    "y_pred_lasso_reg =  lasso_reg.predict(X_test)"
   ]
  },
  {
   "cell_type": "code",
   "execution_count": 20,
   "metadata": {},
   "outputs": [
    {
     "name": "stdout",
     "output_type": "stream",
     "text": [
      "Mean absolute error: 6.37\n",
      "Coefficient of determination: 0.99\n",
      "Mean absolute pct error: 0.15\n"
     ]
    }
   ],
   "source": [
    "print(\"Mean absolute error: %.2f\" % mean_absolute_error(y_test['avg_next_three_months_price'], y_pred_lasso_reg))\n",
    "print(\"Coefficient of determination: %.2f\" % r2_score(y_test['avg_next_three_months_price'], y_pred_lasso_reg))\n",
    "print(\"Mean absolute pct error: %.2f\" % mean_absolute_percentage_error(y_test['avg_next_three_months_price'], y_pred_lasso_reg))"
   ]
  },
  {
   "cell_type": "code",
   "execution_count": 12,
   "metadata": {},
   "outputs": [
    {
     "data": {
      "text/plain": [
       "{'MANUFACTURING': 0.11182686833966238,\n",
       " 'LIFE SCIENCES': 0.18491570527086126,\n",
       " 'TRADE & SERVICES': 0.12684532627844944,\n",
       " 'TECHNOLOGY': 0.10898162102013316,\n",
       " 'FINANCE': 0.08500590219486488,\n",
       " 'ENERGY & TRANSPORTATION': 0.1094204096043076,\n",
       " 'REAL ESTATE & CONSTRUCTION': 0.08584409993532244}"
      ]
     },
     "execution_count": 12,
     "metadata": {},
     "output_type": "execute_result"
    }
   ],
   "source": [
    "utils.calculate_avg_pct_loss_per_sector(\n",
    "    y_pred=y_pred_lasso_reg,\n",
    "    y_actual=y_test['avg_next_three_months_price'],\n",
    "    sector_series=y_test['sector']\n",
    ")"
   ]
  },
  {
   "cell_type": "code",
   "execution_count": 24,
   "metadata": {},
   "outputs": [],
   "source": [
    "train_set, test_set = utils.split_data_to_train_and_test(\n",
    "    df=dataset,\n",
    "    cutoff_date=dt.datetime(2023,6,1)\n",
    ")\n",
    "\n",
    "y_train = train_set[['avg_next_three_months_price', 'sector']]\n",
    "X_train = train_set.drop(['avg_next_three_months_price'], axis=1)\n",
    "\n",
    "y_test = test_set[['avg_next_three_months_price', 'sector']]\n",
    "X_test = test_set.drop(['avg_next_three_months_price'], axis=1)"
   ]
  },
  {
   "cell_type": "code",
   "execution_count": 25,
   "metadata": {},
   "outputs": [],
   "source": [
    "one_hot_encoder = OneHotEncoder()\n",
    "\n",
    "X_train_transformed = utils.transform_input(\n",
    "    X=X_train,\n",
    "    one_hot_encoder=one_hot_encoder,\n",
    "    fit=True\n",
    ")\n",
    "\n",
    "X_test_transformed = utils.transform_input(\n",
    "    X=X_test,\n",
    "    one_hot_encoder=one_hot_encoder,\n",
    "    fit=False\n",
    ")"
   ]
  },
  {
   "cell_type": "code",
   "execution_count": 26,
   "metadata": {},
   "outputs": [],
   "source": [
    "lasso_reg_v2 = make_pipeline(\n",
    "    StandardScaler(),\n",
    "    Lasso(max_iter=3000, alpha=1)\n",
    ")\n",
    "\n",
    "lasso_reg_v2.fit(X_train_transformed, y_train['avg_next_three_months_price'])\n",
    "y_pred_lasso_reg_v2 =  lasso_reg_v2.predict(X_test_transformed)"
   ]
  },
  {
   "cell_type": "code",
   "execution_count": 27,
   "metadata": {},
   "outputs": [
    {
     "name": "stdout",
     "output_type": "stream",
     "text": [
      "Mean absolute error: 6.06\n",
      "Coefficient of determination: 0.99\n",
      "Mean absolute pct error: 0.12\n"
     ]
    }
   ],
   "source": [
    "print(\"Mean absolute error: %.2f\" % mean_absolute_error(y_test['avg_next_three_months_price'], y_pred_lasso_reg_v2))\n",
    "print(\"Coefficient of determination: %.2f\" % r2_score(y_test['avg_next_three_months_price'], y_pred_lasso_reg_v2))\n",
    "print(\"Mean absolute pct error: %.2f\" % mean_absolute_percentage_error(y_test['avg_next_three_months_price'], y_pred_lasso_reg_v2))"
   ]
  },
  {
   "cell_type": "markdown",
   "metadata": {},
   "source": [
    "# THE ONE BELOW IS THE EXAMPLE TO WATCH"
   ]
  },
  {
   "cell_type": "code",
   "execution_count": 2,
   "metadata": {},
   "outputs": [],
   "source": [
    "dataset = utils.get_dataset(only_value_change_columns=True)\n",
    "\n",
    "train_set, test_set = utils.split_data_to_train_and_test(\n",
    "    df=dataset,\n",
    "    cutoff_date=dt.datetime(2023,6,1)\n",
    ")\n",
    "\n",
    "cols_to_drop = ['symbol', 'fiscal_date_ending', 'reported_currency', 'avg_next_three_months_price']\n",
    "\n",
    "y_train = train_set[['avg_next_three_months_price', 'sector']]\n",
    "X_train = train_set.drop(cols_to_drop, axis=1)\n",
    "\n",
    "y_test = test_set[['avg_next_three_months_price', 'sector']]\n",
    "X_test = test_set.drop(cols_to_drop, axis=1)\n",
    "\n",
    "\n",
    "column_transformer = make_column_transformer(\n",
    "    (\n",
    "        OneHotEncoder(), ['sector']\n",
    "    ),\n",
    "    (\n",
    "        StandardScaler(),\n",
    "        ~X_train.columns.isin(['sector'])\n",
    "    ),\n",
    "    remainder='passthrough'\n",
    ")\n",
    "\n",
    "lasso_reg_v3 = make_pipeline(\n",
    "    column_transformer,\n",
    "    Lasso(max_iter=3000, alpha=1)\n",
    ")\n",
    "\n",
    "lasso_reg_v3.fit(X_train, y_train['avg_next_three_months_price'])\n",
    "y_pred_lasso_reg_v3 =  lasso_reg_v3.predict(X_test)"
   ]
  },
  {
   "cell_type": "code",
   "execution_count": 3,
   "metadata": {},
   "outputs": [
    {
     "name": "stdout",
     "output_type": "stream",
     "text": [
      "Mean absolute error: 6.06\n",
      "Coefficient of determination: 0.99\n",
      "Mean absolute pct error: 0.12\n"
     ]
    }
   ],
   "source": [
    "print(\"Mean absolute error: %.2f\" % mean_absolute_error(y_test['avg_next_three_months_price'], y_pred_lasso_reg_v3))\n",
    "print(\"Coefficient of determination: %.2f\" % r2_score(y_test['avg_next_three_months_price'], y_pred_lasso_reg_v3))\n",
    "print(\"Mean absolute pct error: %.2f\" % mean_absolute_percentage_error(y_test['avg_next_three_months_price'], y_pred_lasso_reg_v3))"
   ]
  },
  {
   "cell_type": "markdown",
   "metadata": {},
   "source": [
    "## Stohastic Gradient Descent"
   ]
  },
  {
   "cell_type": "code",
   "execution_count": 2,
   "metadata": {},
   "outputs": [],
   "source": [
    "from sklearn.linear_model import Ridge\n",
    "\n",
    "\n",
    "dataset = utils.get_dataset(only_value_change_columns=True)\n",
    "\n",
    "train_set, test_set = utils.split_data_to_train_and_test(\n",
    "    df=dataset,\n",
    "    cutoff_date=dt.datetime(2023,6,1)\n",
    ")\n",
    "\n",
    "cols_to_drop = ['symbol', 'fiscal_date_ending', 'reported_currency', 'avg_next_three_months_price']\n",
    "\n",
    "y_train = train_set[['avg_next_three_months_price', 'sector']]\n",
    "X_train = train_set.drop(cols_to_drop, axis=1)\n",
    "\n",
    "y_test = test_set[['avg_next_three_months_price', 'sector']]\n",
    "X_test = test_set.drop(cols_to_drop, axis=1)\n",
    "\n",
    "\n",
    "column_transformer = make_column_transformer(\n",
    "    (\n",
    "        OneHotEncoder(), ['sector']\n",
    "    ),\n",
    "    (\n",
    "        StandardScaler(),\n",
    "        ~X_train.columns.isin(['sector'])\n",
    "    ),\n",
    "    remainder='passthrough'\n",
    ")\n",
    "\n",
    "ridge_reg = make_pipeline(\n",
    "    column_transformer,\n",
    "    Ridge()\n",
    ")\n",
    "\n",
    "ridge_reg.fit(X_train, y_train['avg_next_three_months_price'])\n",
    "y_pred_ridge =  ridge_reg.predict(X_test)"
   ]
  },
  {
   "cell_type": "code",
   "execution_count": 3,
   "metadata": {},
   "outputs": [
    {
     "name": "stdout",
     "output_type": "stream",
     "text": [
      "Mean absolute error: 7.29\n",
      "Coefficient of determination: 0.99\n",
      "Mean absolute pct error: 0.24\n"
     ]
    }
   ],
   "source": [
    "print(\"Mean absolute error: %.2f\" % mean_absolute_error(y_test['avg_next_three_months_price'], y_pred_ridge))\n",
    "print(\"Coefficient of determination: %.2f\" % r2_score(y_test['avg_next_three_months_price'], y_pred_ridge))\n",
    "print(\"Mean absolute pct error: %.2f\" % mean_absolute_percentage_error(y_test['avg_next_three_months_price'], y_pred_ridge))"
   ]
  },
  {
   "cell_type": "code",
   "execution_count": null,
   "metadata": {},
   "outputs": [],
   "source": []
  }
 ],
 "metadata": {
  "kernelspec": {
   "display_name": "Python 3 (ipykernel)",
   "language": "python",
   "name": "python3"
  },
  "language_info": {
   "codemirror_mode": {
    "name": "ipython",
    "version": 3
   },
   "file_extension": ".py",
   "mimetype": "text/x-python",
   "name": "python",
   "nbconvert_exporter": "python",
   "pygments_lexer": "ipython3",
   "version": "3.11.0"
  }
 },
 "nbformat": 4,
 "nbformat_minor": 2
}
