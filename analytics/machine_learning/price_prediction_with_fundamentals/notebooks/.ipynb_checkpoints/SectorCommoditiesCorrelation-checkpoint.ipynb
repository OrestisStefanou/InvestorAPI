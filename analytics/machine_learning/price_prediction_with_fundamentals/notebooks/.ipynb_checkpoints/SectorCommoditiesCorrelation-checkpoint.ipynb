{
 "cells": [
  {
   "cell_type": "code",
   "execution_count": 1,
   "id": "8d95ab75-9623-4ac1-bd36-654f406f7cd4",
   "metadata": {},
   "outputs": [],
   "source": [
    "import pandas as pd\n",
    "import sqlite3"
   ]
  },
  {
   "cell_type": "code",
   "execution_count": 2,
   "id": "dcfca17f-8f1f-4c84-948f-e0b8f888ce39",
   "metadata": {},
   "outputs": [],
   "source": [
    "conn = sqlite3.connect('/Users/orestis/MyProjects/InvestorAPI/app/database/ibd.db')"
   ]
  },
  {
   "cell_type": "code",
   "execution_count": 3,
   "id": "ce22516f-c641-448e-a8ef-536b630f8e79",
   "metadata": {},
   "outputs": [],
   "source": [
    "query = \"SELECT * FROM economic_indicator_time_series ORDER BY registered_date_ts\"\n",
    "\n",
    "economic_indicators_df = pd.read_sql(query, conn)"
   ]
  },
  {
   "cell_type": "code",
   "execution_count": 4,
   "id": "11d6c36e-f156-4807-a9d5-2088b95f866d",
   "metadata": {},
   "outputs": [
    {
     "name": "stdout",
     "output_type": "stream",
     "text": [
      "<class 'pandas.core.frame.DataFrame'>\n",
      "RangeIndex: 6500 entries, 0 to 6499\n",
      "Data columns (total 5 columns):\n",
      " #   Column              Non-Null Count  Dtype  \n",
      "---  ------              --------------  -----  \n",
      " 0   indicator_name      6500 non-null   object \n",
      " 1   value               6500 non-null   float64\n",
      " 2   unit                6500 non-null   object \n",
      " 3   registered_date     6500 non-null   object \n",
      " 4   registered_date_ts  6500 non-null   int64  \n",
      "dtypes: float64(1), int64(1), object(3)\n",
      "memory usage: 254.0+ KB\n"
     ]
    }
   ],
   "source": [
    "economic_indicators_df.info()"
   ]
  },
  {
   "cell_type": "code",
   "execution_count": 35,
   "id": "32ee0053-f205-4a1c-9c6f-c18724154e23",
   "metadata": {},
   "outputs": [],
   "source": [
    "import datetime as dt\n",
    "\n",
    "def get_indicator_time_series_df_by_name(indicator_name: str) -> pd.DataFrame:\n",
    "    def extract_month(date_string: str) -> int:\n",
    "        date_format = \"%d-%m-%Y\"\n",
    "        return dt.datetime.strptime(date_string, date_format).month\n",
    "\n",
    "    def extract_year(date_string: str) -> int:\n",
    "        date_format = \"%d-%m-%Y\"\n",
    "        return dt.datetime.strptime(date_string, date_format).year\n",
    "\n",
    "        \n",
    "    query = f\"SELECT * FROM economic_indicator_time_series WHERE indicator_name = '{indicator_name}' ORDER BY registered_date_ts\"\n",
    "    df = pd.read_sql(query,conn)\n",
    "    # Create 'year' and 'month' columns\n",
    "    df['year'] = df['registered_date'].apply(extract_year)\n",
    "    df['month'] = df['registered_date'].apply(extract_month)\n",
    "    df.rename(columns={'value': 'indicator_value'}, inplace=True)\n",
    "    return df"
   ]
  },
  {
   "cell_type": "code",
   "execution_count": 36,
   "id": "2b91df1f-84c0-4663-bed4-e919564b8309",
   "metadata": {},
   "outputs": [],
   "source": [
    "interest_rate_df = get_indicator_time_series_df_by_name('Interest_Rate')"
   ]
  },
  {
   "cell_type": "code",
   "execution_count": 37,
   "id": "5f303418-3982-4482-9932-65f944f4d4ee",
   "metadata": {},
   "outputs": [
    {
     "data": {
      "text/html": [
       "<div>\n",
       "<style scoped>\n",
       "    .dataframe tbody tr th:only-of-type {\n",
       "        vertical-align: middle;\n",
       "    }\n",
       "\n",
       "    .dataframe tbody tr th {\n",
       "        vertical-align: top;\n",
       "    }\n",
       "\n",
       "    .dataframe thead th {\n",
       "        text-align: right;\n",
       "    }\n",
       "</style>\n",
       "<table border=\"1\" class=\"dataframe\">\n",
       "  <thead>\n",
       "    <tr style=\"text-align: right;\">\n",
       "      <th></th>\n",
       "      <th>indicator_name</th>\n",
       "      <th>indicator_value</th>\n",
       "      <th>unit</th>\n",
       "      <th>registered_date</th>\n",
       "      <th>registered_date_ts</th>\n",
       "      <th>year</th>\n",
       "      <th>month</th>\n",
       "    </tr>\n",
       "  </thead>\n",
       "  <tbody>\n",
       "    <tr>\n",
       "      <th>826</th>\n",
       "      <td>Interest_Rate</td>\n",
       "      <td>5.06</td>\n",
       "      <td>percent</td>\n",
       "      <td>01-05-2023</td>\n",
       "      <td>1682888400</td>\n",
       "      <td>2023</td>\n",
       "      <td>5</td>\n",
       "    </tr>\n",
       "    <tr>\n",
       "      <th>827</th>\n",
       "      <td>Interest_Rate</td>\n",
       "      <td>5.08</td>\n",
       "      <td>percent</td>\n",
       "      <td>01-06-2023</td>\n",
       "      <td>1685566800</td>\n",
       "      <td>2023</td>\n",
       "      <td>6</td>\n",
       "    </tr>\n",
       "    <tr>\n",
       "      <th>828</th>\n",
       "      <td>Interest_Rate</td>\n",
       "      <td>5.12</td>\n",
       "      <td>percent</td>\n",
       "      <td>01-07-2023</td>\n",
       "      <td>1688158800</td>\n",
       "      <td>2023</td>\n",
       "      <td>7</td>\n",
       "    </tr>\n",
       "    <tr>\n",
       "      <th>829</th>\n",
       "      <td>Interest_Rate</td>\n",
       "      <td>5.33</td>\n",
       "      <td>percent</td>\n",
       "      <td>01-08-2023</td>\n",
       "      <td>1690837200</td>\n",
       "      <td>2023</td>\n",
       "      <td>8</td>\n",
       "    </tr>\n",
       "    <tr>\n",
       "      <th>830</th>\n",
       "      <td>Interest_Rate</td>\n",
       "      <td>5.33</td>\n",
       "      <td>percent</td>\n",
       "      <td>01-09-2023</td>\n",
       "      <td>1693515600</td>\n",
       "      <td>2023</td>\n",
       "      <td>9</td>\n",
       "    </tr>\n",
       "  </tbody>\n",
       "</table>\n",
       "</div>"
      ],
      "text/plain": [
       "    indicator_name  indicator_value     unit registered_date  \\\n",
       "826  Interest_Rate             5.06  percent      01-05-2023   \n",
       "827  Interest_Rate             5.08  percent      01-06-2023   \n",
       "828  Interest_Rate             5.12  percent      01-07-2023   \n",
       "829  Interest_Rate             5.33  percent      01-08-2023   \n",
       "830  Interest_Rate             5.33  percent      01-09-2023   \n",
       "\n",
       "     registered_date_ts  year  month  \n",
       "826          1682888400  2023      5  \n",
       "827          1685566800  2023      6  \n",
       "828          1688158800  2023      7  \n",
       "829          1690837200  2023      8  \n",
       "830          1693515600  2023      9  "
      ]
     },
     "execution_count": 37,
     "metadata": {},
     "output_type": "execute_result"
    }
   ],
   "source": [
    "interest_rate_df.tail()"
   ]
  },
  {
   "cell_type": "code",
   "execution_count": 34,
   "id": "ab0b1c3b-200f-4b49-b656-26ad02f07bb9",
   "metadata": {},
   "outputs": [],
   "source": [
    "def get_sector_time_series_df_by_name(sector_name: str) -> pd.DataFrame:\n",
    "    def extract_month(date_string: str) -> int:\n",
    "        date_format = \"%d-%m-%Y\"\n",
    "        return dt.datetime.strptime(date_string, date_format).month\n",
    "\n",
    "    def extract_year(date_string: str) -> int:\n",
    "        date_format = \"%d-%m-%Y\"\n",
    "        return dt.datetime.strptime(date_string, date_format).year\n",
    "\n",
    "    query = f'''\n",
    "        SELECT\n",
    "            AVG(sts.close_price) as sector_avg_price,\n",
    "            substr(sts.registered_date, 4, 7) AS month_year,\n",
    "            sts.registered_date\n",
    "        FROM stock_time_series as sts\n",
    "        INNER JOIN stock_overview as so\n",
    "        ON sts.symbol = so.symbol\n",
    "        WHERE so.sector = '{sector_name}'\n",
    "        GROUP BY month_year\n",
    "        ORDER BY sts.registered_date_ts ASC\n",
    "    '''\n",
    "    df = pd.read_sql(query,conn)\n",
    "    # Create 'year' and 'month' columns\n",
    "    df['year'] = df['registered_date'].apply(extract_year)\n",
    "    df['month'] = df['registered_date'].apply(extract_month)\n",
    "    return df"
   ]
  },
  {
   "cell_type": "code",
   "execution_count": 38,
   "id": "bc3d841c-3cc7-4814-a0af-a48d3f45239d",
   "metadata": {},
   "outputs": [],
   "source": [
    "tech_sector_time_series_df = get_sector_time_series_df_by_name('TECHNOLOGY')"
   ]
  },
  {
   "cell_type": "code",
   "execution_count": 39,
   "id": "29a97a5e-bbc9-4e19-881e-33fca494e3c7",
   "metadata": {},
   "outputs": [
    {
     "data": {
      "text/html": [
       "<div>\n",
       "<style scoped>\n",
       "    .dataframe tbody tr th:only-of-type {\n",
       "        vertical-align: middle;\n",
       "    }\n",
       "\n",
       "    .dataframe tbody tr th {\n",
       "        vertical-align: top;\n",
       "    }\n",
       "\n",
       "    .dataframe thead th {\n",
       "        text-align: right;\n",
       "    }\n",
       "</style>\n",
       "<table border=\"1\" class=\"dataframe\">\n",
       "  <thead>\n",
       "    <tr style=\"text-align: right;\">\n",
       "      <th></th>\n",
       "      <th>sector_avg_price</th>\n",
       "      <th>month_year</th>\n",
       "      <th>registered_date</th>\n",
       "      <th>year</th>\n",
       "      <th>month</th>\n",
       "    </tr>\n",
       "  </thead>\n",
       "  <tbody>\n",
       "    <tr>\n",
       "      <th>282</th>\n",
       "      <td>64.114936</td>\n",
       "      <td>06-2023</td>\n",
       "      <td>30-06-2023</td>\n",
       "      <td>2023</td>\n",
       "      <td>6</td>\n",
       "    </tr>\n",
       "    <tr>\n",
       "      <th>283</th>\n",
       "      <td>67.501632</td>\n",
       "      <td>07-2023</td>\n",
       "      <td>31-07-2023</td>\n",
       "      <td>2023</td>\n",
       "      <td>7</td>\n",
       "    </tr>\n",
       "    <tr>\n",
       "      <th>284</th>\n",
       "      <td>65.413177</td>\n",
       "      <td>08-2023</td>\n",
       "      <td>31-08-2023</td>\n",
       "      <td>2023</td>\n",
       "      <td>8</td>\n",
       "    </tr>\n",
       "    <tr>\n",
       "      <th>285</th>\n",
       "      <td>62.146369</td>\n",
       "      <td>09-2023</td>\n",
       "      <td>29-09-2023</td>\n",
       "      <td>2023</td>\n",
       "      <td>9</td>\n",
       "    </tr>\n",
       "    <tr>\n",
       "      <th>286</th>\n",
       "      <td>76.897073</td>\n",
       "      <td>10-2023</td>\n",
       "      <td>04-10-2023</td>\n",
       "      <td>2023</td>\n",
       "      <td>10</td>\n",
       "    </tr>\n",
       "  </tbody>\n",
       "</table>\n",
       "</div>"
      ],
      "text/plain": [
       "     sector_avg_price month_year registered_date  year  month\n",
       "282         64.114936    06-2023      30-06-2023  2023      6\n",
       "283         67.501632    07-2023      31-07-2023  2023      7\n",
       "284         65.413177    08-2023      31-08-2023  2023      8\n",
       "285         62.146369    09-2023      29-09-2023  2023      9\n",
       "286         76.897073    10-2023      04-10-2023  2023     10"
      ]
     },
     "execution_count": 39,
     "metadata": {},
     "output_type": "execute_result"
    }
   ],
   "source": [
    "tech_sector_time_series_df.tail()"
   ]
  },
  {
   "cell_type": "code",
   "execution_count": 40,
   "id": "f36fa82c-6cc8-41d2-a00e-8421c49efcb1",
   "metadata": {},
   "outputs": [],
   "source": [
    "merged_df = pd.merge(tech_sector_time_series_df, interest_rate_df, on=['year', 'month'])"
   ]
  },
  {
   "cell_type": "code",
   "execution_count": 41,
   "id": "663e9ec6-daad-490b-83da-2494653fd254",
   "metadata": {},
   "outputs": [
    {
     "data": {
      "text/html": [
       "<div>\n",
       "<style scoped>\n",
       "    .dataframe tbody tr th:only-of-type {\n",
       "        vertical-align: middle;\n",
       "    }\n",
       "\n",
       "    .dataframe tbody tr th {\n",
       "        vertical-align: top;\n",
       "    }\n",
       "\n",
       "    .dataframe thead th {\n",
       "        text-align: right;\n",
       "    }\n",
       "</style>\n",
       "<table border=\"1\" class=\"dataframe\">\n",
       "  <thead>\n",
       "    <tr style=\"text-align: right;\">\n",
       "      <th></th>\n",
       "      <th>sector_avg_price</th>\n",
       "      <th>month_year</th>\n",
       "      <th>registered_date_x</th>\n",
       "      <th>year</th>\n",
       "      <th>month</th>\n",
       "      <th>indicator_name</th>\n",
       "      <th>indicator_value</th>\n",
       "      <th>unit</th>\n",
       "      <th>registered_date_y</th>\n",
       "      <th>registered_date_ts</th>\n",
       "    </tr>\n",
       "  </thead>\n",
       "  <tbody>\n",
       "    <tr>\n",
       "      <th>0</th>\n",
       "      <td>47.304441</td>\n",
       "      <td>12-1999</td>\n",
       "      <td>31-12-1999</td>\n",
       "      <td>1999</td>\n",
       "      <td>12</td>\n",
       "      <td>Interest_Rate</td>\n",
       "      <td>5.30</td>\n",
       "      <td>percent</td>\n",
       "      <td>01-12-1999</td>\n",
       "      <td>943999200</td>\n",
       "    </tr>\n",
       "    <tr>\n",
       "      <th>1</th>\n",
       "      <td>42.676656</td>\n",
       "      <td>01-2000</td>\n",
       "      <td>31-01-2000</td>\n",
       "      <td>2000</td>\n",
       "      <td>1</td>\n",
       "      <td>Interest_Rate</td>\n",
       "      <td>5.45</td>\n",
       "      <td>percent</td>\n",
       "      <td>01-01-2000</td>\n",
       "      <td>946677600</td>\n",
       "    </tr>\n",
       "    <tr>\n",
       "      <th>2</th>\n",
       "      <td>49.756055</td>\n",
       "      <td>02-2000</td>\n",
       "      <td>29-02-2000</td>\n",
       "      <td>2000</td>\n",
       "      <td>2</td>\n",
       "      <td>Interest_Rate</td>\n",
       "      <td>5.73</td>\n",
       "      <td>percent</td>\n",
       "      <td>01-02-2000</td>\n",
       "      <td>949356000</td>\n",
       "    </tr>\n",
       "    <tr>\n",
       "      <th>3</th>\n",
       "      <td>44.379935</td>\n",
       "      <td>03-2000</td>\n",
       "      <td>31-03-2000</td>\n",
       "      <td>2000</td>\n",
       "      <td>3</td>\n",
       "      <td>Interest_Rate</td>\n",
       "      <td>5.85</td>\n",
       "      <td>percent</td>\n",
       "      <td>01-03-2000</td>\n",
       "      <td>951861600</td>\n",
       "    </tr>\n",
       "    <tr>\n",
       "      <th>4</th>\n",
       "      <td>38.815606</td>\n",
       "      <td>04-2000</td>\n",
       "      <td>28-04-2000</td>\n",
       "      <td>2000</td>\n",
       "      <td>4</td>\n",
       "      <td>Interest_Rate</td>\n",
       "      <td>6.02</td>\n",
       "      <td>percent</td>\n",
       "      <td>01-04-2000</td>\n",
       "      <td>954536400</td>\n",
       "    </tr>\n",
       "  </tbody>\n",
       "</table>\n",
       "</div>"
      ],
      "text/plain": [
       "   sector_avg_price month_year registered_date_x  year  month indicator_name  \\\n",
       "0         47.304441    12-1999        31-12-1999  1999     12  Interest_Rate   \n",
       "1         42.676656    01-2000        31-01-2000  2000      1  Interest_Rate   \n",
       "2         49.756055    02-2000        29-02-2000  2000      2  Interest_Rate   \n",
       "3         44.379935    03-2000        31-03-2000  2000      3  Interest_Rate   \n",
       "4         38.815606    04-2000        28-04-2000  2000      4  Interest_Rate   \n",
       "\n",
       "   indicator_value     unit registered_date_y  registered_date_ts  \n",
       "0             5.30  percent        01-12-1999           943999200  \n",
       "1             5.45  percent        01-01-2000           946677600  \n",
       "2             5.73  percent        01-02-2000           949356000  \n",
       "3             5.85  percent        01-03-2000           951861600  \n",
       "4             6.02  percent        01-04-2000           954536400  "
      ]
     },
     "execution_count": 41,
     "metadata": {},
     "output_type": "execute_result"
    }
   ],
   "source": [
    "merged_df.head()"
   ]
  },
  {
   "cell_type": "code",
   "execution_count": 43,
   "id": "170aed10-cfed-4c59-83df-4b0ca2142c8d",
   "metadata": {},
   "outputs": [],
   "source": [
    "correlation = merged_df['sector_avg_price'].corr(merged_df['indicator_value'])"
   ]
  },
  {
   "cell_type": "code",
   "execution_count": 44,
   "id": "f3acb7dc-f2ba-46a3-b45c-748201a1225a",
   "metadata": {},
   "outputs": [
    {
     "data": {
      "text/plain": [
       "-0.19029136502355604"
      ]
     },
     "execution_count": 44,
     "metadata": {},
     "output_type": "execute_result"
    }
   ],
   "source": [
    "correlation"
   ]
  },
  {
   "cell_type": "code",
   "execution_count": 45,
   "id": "c2370f00-933e-4713-af1b-a3598cadb168",
   "metadata": {},
   "outputs": [],
   "source": [
    "def get_correlation_between_sector_and_economic_indicator(sector_name, indicator_name):\n",
    "    indicator_time_series_df = get_indicator_time_series_df_by_name(indicator_name)\n",
    "    sector_time_series_df = get_sector_time_series_df_by_name(sector_name)\n",
    "    merged_df = pd.merge(sector_time_series_df, indicator_time_series_df, on=['year', 'month'])\n",
    "    return merged_df['sector_avg_price'].corr(merged_df['indicator_value'])"
   ]
  },
  {
   "cell_type": "code",
   "execution_count": null,
   "id": "09b7ec0a-a5da-4d96-b5b3-8082dfede6dd",
   "metadata": {},
   "outputs": [],
   "source": []
  }
 ],
 "metadata": {
  "kernelspec": {
   "display_name": "Python 3 (ipykernel)",
   "language": "python",
   "name": "python3"
  },
  "language_info": {
   "codemirror_mode": {
    "name": "ipython",
    "version": 3
   },
   "file_extension": ".py",
   "mimetype": "text/x-python",
   "name": "python",
   "nbconvert_exporter": "python",
   "pygments_lexer": "ipython3",
   "version": "3.11.0"
  }
 },
 "nbformat": 4,
 "nbformat_minor": 5
}
