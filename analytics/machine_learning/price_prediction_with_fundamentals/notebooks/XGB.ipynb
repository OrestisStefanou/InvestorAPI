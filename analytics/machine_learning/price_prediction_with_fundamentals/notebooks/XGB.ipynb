{
 "cells": [
  {
   "cell_type": "code",
   "execution_count": 1,
   "metadata": {},
   "outputs": [],
   "source": [
    "import pandas as pd\n",
    "from sklearn.metrics import mean_absolute_percentage_error, r2_score, mean_absolute_error\n",
    "\n",
    "from analytics.machine_learning.price_prediction_with_fundamentals import utils"
   ]
  },
  {
   "cell_type": "code",
   "execution_count": 4,
   "metadata": {},
   "outputs": [],
   "source": [
    "dataset = utils.get_dataset(\n",
    "    only_value_columns=True\n",
    ")"
   ]
  },
  {
   "cell_type": "code",
   "execution_count": 5,
   "metadata": {},
   "outputs": [
    {
     "name": "stdout",
     "output_type": "stream",
     "text": [
      "<class 'pandas.core.frame.DataFrame'>\n",
      "RangeIndex: 53963 entries, 0 to 53962\n",
      "Data columns (total 97 columns):\n",
      " #   Column                                                               Non-Null Count  Dtype  \n",
      "---  ------                                                               --------------  -----  \n",
      " 0   symbol                                                               53963 non-null  object \n",
      " 1   fiscal_date_ending                                                   53963 non-null  object \n",
      " 2   reported_currency                                                    53963 non-null  object \n",
      " 3   gross_profit                                                         53963 non-null  float64\n",
      " 4   total_revenue                                                        53963 non-null  float64\n",
      " 5   cost_of_revenue                                                      53963 non-null  float64\n",
      " 6   cost_of_goods_and_services_sold                                      53963 non-null  float64\n",
      " 7   operating_income                                                     53963 non-null  float64\n",
      " 8   selling_general_and_administrative                                   53963 non-null  float64\n",
      " 9   research_and_development                                             53963 non-null  float64\n",
      " 10  operating_expenses                                                   53963 non-null  float64\n",
      " 11  investment_income_net                                                53963 non-null  float64\n",
      " 12  net_interest_income                                                  53963 non-null  float64\n",
      " 13  interest_income                                                      53963 non-null  float64\n",
      " 14  interest_expense                                                     53963 non-null  float64\n",
      " 15  non_interest_income                                                  53963 non-null  float64\n",
      " 16  other_non_operating_income                                           53963 non-null  float64\n",
      " 17  depreciation                                                         53963 non-null  float64\n",
      " 18  depreciation_and_amortization                                        53963 non-null  float64\n",
      " 19  income_before_tax                                                    53963 non-null  float64\n",
      " 20  income_tax_expense                                                   53963 non-null  float64\n",
      " 21  interest_and_debt_expense                                            53963 non-null  float64\n",
      " 22  net_income_from_continuing_operations                                53963 non-null  float64\n",
      " 23  comprehensive_income_net_of_tax                                      53963 non-null  float64\n",
      " 24  ebit                                                                 53963 non-null  float64\n",
      " 25  ebitda                                                               53963 non-null  float64\n",
      " 26  net_income                                                           53963 non-null  float64\n",
      " 27  total_assets                                                         53963 non-null  float64\n",
      " 28  total_current_assets                                                 53963 non-null  float64\n",
      " 29  cash_and_cash_equivalents_at_carrying_value                          53963 non-null  float64\n",
      " 30  cash_and_short_term_investments                                      53963 non-null  float64\n",
      " 31  inventory                                                            53963 non-null  float64\n",
      " 32  current_net_receivables                                              53963 non-null  float64\n",
      " 33  total_non_current_assets                                             53963 non-null  float64\n",
      " 34  property_plant_equipment                                             53963 non-null  float64\n",
      " 35  accumulated_depreciation_amortization_ppe                            53963 non-null  float64\n",
      " 36  intangible_assets                                                    53963 non-null  float64\n",
      " 37  intangible_assets_excluding_goodwill                                 53963 non-null  float64\n",
      " 38  goodwill                                                             53963 non-null  float64\n",
      " 39  investments                                                          53963 non-null  float64\n",
      " 40  long_term_investments                                                53963 non-null  float64\n",
      " 41  short_term_investments                                               53963 non-null  float64\n",
      " 42  other_current_assets                                                 53963 non-null  float64\n",
      " 43  other_non_current_assets                                             53963 non-null  float64\n",
      " 44  total_liabilities                                                    53963 non-null  float64\n",
      " 45  total_current_liabilities                                            53963 non-null  float64\n",
      " 46  current_accounts_payable                                             53963 non-null  float64\n",
      " 47  deferred_revenue                                                     53963 non-null  float64\n",
      " 48  current_debt                                                         53963 non-null  float64\n",
      " 49  short_term_debt                                                      53963 non-null  float64\n",
      " 50  total_non_current_liabilities                                        53963 non-null  float64\n",
      " 51  capital_lease_obligations                                            53963 non-null  float64\n",
      " 52  long_term_debt                                                       53963 non-null  float64\n",
      " 53  current_long_term_debt                                               53963 non-null  float64\n",
      " 54  long_term_debt_noncurrent                                            53963 non-null  float64\n",
      " 55  short_long_term_debt_total                                           53963 non-null  float64\n",
      " 56  other_current_liabilities                                            53963 non-null  float64\n",
      " 57  other_non_current_liabilities                                        53963 non-null  float64\n",
      " 58  total_shareholder_equity                                             53963 non-null  float64\n",
      " 59  treasury_stock                                                       53963 non-null  float64\n",
      " 60  retained_earnings                                                    53963 non-null  float64\n",
      " 61  common_stock                                                         53963 non-null  float64\n",
      " 62  common_stock_shares_outstanding                                      53963 non-null  float64\n",
      " 63  operating_cashflow                                                   53963 non-null  float64\n",
      " 64  payments_for_operating_activities                                    53963 non-null  float64\n",
      " 65  proceeds_from_operating_activities                                   53963 non-null  float64\n",
      " 66  change_in_operating_liabilities                                      53963 non-null  float64\n",
      " 67  change_in_operating_assets                                           53963 non-null  float64\n",
      " 68  depreciation_depletion_and_amortization                              53963 non-null  float64\n",
      " 69  capital_expenditures                                                 53963 non-null  float64\n",
      " 70  change_in_receivables                                                53963 non-null  float64\n",
      " 71  change_in_inventory                                                  53963 non-null  float64\n",
      " 72  profit_loss                                                          53963 non-null  float64\n",
      " 73  cashflow_from_investment                                             53963 non-null  float64\n",
      " 74  cashflow_from_financing                                              53963 non-null  float64\n",
      " 75  proceeds_from_repayments_of_short_term_debt                          53963 non-null  float64\n",
      " 76  payments_for_repurchase_of_common_stock                              53963 non-null  float64\n",
      " 77  payments_for_repurchase_of_equity                                    53963 non-null  float64\n",
      " 78  payments_for_repurchase_of_preferred_stock                           53963 non-null  float64\n",
      " 79  dividend_payout                                                      53963 non-null  float64\n",
      " 80  dividend_payout_common_stock                                         53963 non-null  float64\n",
      " 81  dividend_payout_preferred_stock                                      53963 non-null  float64\n",
      " 82  proceeds_from_issuance_of_common_stock                               53963 non-null  float64\n",
      " 83  proceeds_from_issuance_of_long_term_debt_and_capital_securities_net  53963 non-null  float64\n",
      " 84  proceeds_from_issuance_of_preferred_stock                            53963 non-null  float64\n",
      " 85  proceeds_from_repurchase_of_equity                                   53963 non-null  float64\n",
      " 86  proceeds_from_sale_of_treasury_stock                                 53963 non-null  float64\n",
      " 87  sector                                                               53963 non-null  object \n",
      " 88  avg_interest_rate                                                    53963 non-null  float64\n",
      " 89  avg_treasury_yield                                                   53963 non-null  float64\n",
      " 90  avg_natural_gas_price                                                53963 non-null  float64\n",
      " 91  avg_oil_price                                                        53963 non-null  float64\n",
      " 92  avg_unemployment_rate                                                53963 non-null  float64\n",
      " 93  avg_global_commodities_index_value                                   53963 non-null  float64\n",
      " 94  inflation                                                            53963 non-null  float64\n",
      " 95  avg_three_months_price                                               53963 non-null  float64\n",
      " 96  avg_next_three_months_price                                          53963 non-null  float64\n",
      "dtypes: float64(93), object(4)\n",
      "memory usage: 39.9+ MB\n"
     ]
    }
   ],
   "source": [
    "dataset.info()"
   ]
  },
  {
   "cell_type": "code",
   "execution_count": 12,
   "metadata": {},
   "outputs": [],
   "source": [
    "import datetime as dt\n",
    "\n",
    "train_set, test_set = utils.split_data_to_train_and_test(\n",
    "    df=dataset,\n",
    "    cutoff_date=dt.datetime(2023,6,1)\n",
    ")\n",
    "\n",
    "y_train = train_set[['price', 'sector']]\n",
    "X_train = train_set.drop(['price'], axis=1)\n",
    "\n",
    "y_test = test_set[['price', 'sector']]\n",
    "X_test = test_set.drop(['price'], axis=1)"
   ]
  },
  {
   "cell_type": "code",
   "execution_count": 13,
   "metadata": {},
   "outputs": [],
   "source": [
    "from sklearn.preprocessing import (\n",
    "    OneHotEncoder,\n",
    "    MinMaxScaler\n",
    ")\n",
    "\n",
    "one_hot_encoder = OneHotEncoder()\n",
    "input_scaler = MinMaxScaler()\n",
    "\n",
    "X_train_transformed = utils.transform_input(\n",
    "    X=X_train,\n",
    "    one_hot_encoder=one_hot_encoder,\n",
    "    #min_max_scaler=input_scaler,\n",
    "    fit=True\n",
    ")\n",
    "\n",
    "X_test_transformed = utils.transform_input(\n",
    "    X=X_test,\n",
    "    one_hot_encoder=one_hot_encoder,\n",
    "    #min_max_scaler=input_scaler,\n",
    "    fit=False\n",
    ")"
   ]
  },
  {
   "cell_type": "code",
   "execution_count": 8,
   "metadata": {},
   "outputs": [],
   "source": [
    "target_scaler = MinMaxScaler()\n",
    "\n",
    "y_train_transformed = utils.tranform_target(\n",
    "    y=y_train['price'],\n",
    "    min_max_scaler=target_scaler,\n",
    "    fit=True\n",
    ")\n",
    "\n",
    "y_test_transformed = utils.tranform_target(\n",
    "    y=y_test['price'],\n",
    "    min_max_scaler=target_scaler,\n",
    "    fit=False\n",
    ")"
   ]
  },
  {
   "cell_type": "code",
   "execution_count": 14,
   "metadata": {},
   "outputs": [],
   "source": [
    "import xgboost as xgb\n",
    "\n",
    "xgb_regressor = xgb.XGBRegressor(\n",
    "        objective = 'reg:squarederror',\n",
    "        n_estimators = 100,\n",
    "        learning_rate = 0.1,\n",
    ")\n",
    "\n",
    "xgb_regressor.fit(X_train_transformed, y_train['price'])\n",
    "\n",
    "# Make predictions using the testing set\n",
    "y_pred_xgb = pd.Series(xgb_regressor.predict(X_test_transformed))\n"
   ]
  },
  {
   "cell_type": "code",
   "execution_count": 12,
   "metadata": {},
   "outputs": [
    {
     "data": {
      "text/plain": [
       "0       386.547821\n",
       "1        50.519630\n",
       "2        78.581024\n",
       "3        11.338340\n",
       "4       106.788521\n",
       "           ...    \n",
       "3153     90.825851\n",
       "3154    235.768997\n",
       "3155     68.810089\n",
       "3156     83.901665\n",
       "3157     12.302379\n",
       "Length: 3158, dtype: float32"
      ]
     },
     "execution_count": 12,
     "metadata": {},
     "output_type": "execute_result"
    }
   ],
   "source": [
    "y_pred_xgb"
   ]
  },
  {
   "cell_type": "code",
   "execution_count": 13,
   "metadata": {},
   "outputs": [
    {
     "data": {
      "text/plain": [
       "0       531.500000\n",
       "1        17.816667\n",
       "2        72.690000\n",
       "3         1.300000\n",
       "4        46.326667\n",
       "           ...    \n",
       "3153     69.460000\n",
       "3154     98.775000\n",
       "3155     61.515000\n",
       "3156     72.025000\n",
       "3157     10.165000\n",
       "Name: price, Length: 3158, dtype: float64"
      ]
     },
     "execution_count": 13,
     "metadata": {},
     "output_type": "execute_result"
    }
   ],
   "source": [
    "y_test['price']"
   ]
  },
  {
   "cell_type": "code",
   "execution_count": 15,
   "metadata": {},
   "outputs": [
    {
     "name": "stdout",
     "output_type": "stream",
     "text": [
      "Mean absolute error: 25.09\n",
      "Coefficient of determination: 0.87\n",
      "Mean absolute pct error: 0.86\n"
     ]
    }
   ],
   "source": [
    "# The mean squared error\n",
    "print(\"Mean absolute error: %.2f\" % mean_absolute_error(y_test['price'], y_pred_xgb))\n",
    "# The coefficient of determination: 1 is perfect prediction\n",
    "print(\"Coefficient of determination: %.2f\" % r2_score(y_test['price'], y_pred_xgb))\n",
    "print(\"Mean absolute pct error: %.2f\" % mean_absolute_percentage_error(y_test['price'], y_pred_xgb))"
   ]
  },
  {
   "cell_type": "code",
   "execution_count": 16,
   "metadata": {},
   "outputs": [
    {
     "data": {
      "text/plain": [
       "{'TECHNOLOGY': 49.92131763072077,\n",
       " 'MANUFACTURING': 37.31342579678325,\n",
       " 'LIFE SCIENCES': 52.52818797466729,\n",
       " 'TRADE & SERVICES': 42.536302840446254,\n",
       " 'FINANCE': 34.47573652536061,\n",
       " 'ENERGY & TRANSPORTATION': 54.92193279698565,\n",
       " 'REAL ESTATE & CONSTRUCTION': -104.04878916386997}"
      ]
     },
     "execution_count": 16,
     "metadata": {},
     "output_type": "execute_result"
    }
   ],
   "source": [
    "utils.calculate_avg_pct_loss_per_sector(\n",
    "    y_pred=y_pred_xgb,\n",
    "    y_actual=y_test['price'],\n",
    "    sector_series=y_test['sector']\n",
    ")"
   ]
  },
  {
   "cell_type": "code",
   "execution_count": 17,
   "metadata": {},
   "outputs": [
    {
     "data": {
      "text/plain": [
       "62"
      ]
     },
     "execution_count": 17,
     "metadata": {},
     "output_type": "execute_result"
    }
   ],
   "source": [
    "negative_count = 0\n",
    "for i, pred_value in enumerate(y_pred_xgb):\n",
    "    if pred_value < 0:\n",
    "        negative_count += 1\n",
    "\n",
    "negative_count"
   ]
  },
  {
   "cell_type": "markdown",
   "metadata": {},
   "source": [
    "## Try KNN Regression"
   ]
  },
  {
   "cell_type": "code",
   "execution_count": 21,
   "metadata": {},
   "outputs": [],
   "source": [
    "dataset = utils.get_dataset()\n",
    "\n",
    "train_set_knn, test_set_knn = utils.split_data_to_train_and_test(\n",
    "    df=dataset,\n",
    "    cutoff_date=dt.datetime(2023,6,1)\n",
    ")\n",
    "\n",
    "y_train_knn = train_set[['price', 'sector']]\n",
    "X_train_knn = train_set.drop(['price'], axis=1)\n",
    "\n",
    "y_test_knn = test_set[['price', 'sector']]\n",
    "X_test_knn = test_set.drop(['price'], axis=1)\n",
    "\n",
    "one_hot_encoder_knn = OneHotEncoder()\n",
    "\n",
    "X_train_transformed_knn = utils.transform_input(\n",
    "    X=X_train_knn,\n",
    "    one_hot_encoder=one_hot_encoder_knn,\n",
    "    fit=True\n",
    ")\n",
    "\n",
    "X_test_transformed_knn = utils.transform_input(\n",
    "    X=X_test_knn,\n",
    "    one_hot_encoder=one_hot_encoder_knn,\n",
    "    fit=False\n",
    ")"
   ]
  },
  {
   "cell_type": "code",
   "execution_count": 22,
   "metadata": {},
   "outputs": [],
   "source": [
    "from sklearn.neighbors import KNeighborsRegressor\n",
    "\n",
    "knn_regr = KNeighborsRegressor(n_neighbors=10)\n",
    "\n",
    "knn_regr.fit(X_train_transformed_knn, y_train_knn['price'])\n",
    "\n",
    "y_pred_knn = knn_regr.predict(X_test_transformed_knn)"
   ]
  },
  {
   "cell_type": "code",
   "execution_count": 23,
   "metadata": {},
   "outputs": [
    {
     "name": "stdout",
     "output_type": "stream",
     "text": [
      "Mean absolute error: 26.89\n",
      "Coefficient of determination: 0.77\n",
      "Mean absolute pct error: 1.16\n"
     ]
    }
   ],
   "source": [
    "# The mean squared error\n",
    "print(\"Mean absolute error: %.2f\" % mean_absolute_error(y_test_knn['price'], y_pred_knn))\n",
    "# The coefficient of determination: 1 is perfect prediction\n",
    "print(\"Coefficient of determination: %.2f\" % r2_score(y_test_knn['price'], y_pred_knn))\n",
    "print(\"Mean absolute pct error: %.2f\" % mean_absolute_percentage_error(y_test_knn['price'], y_pred_knn))"
   ]
  },
  {
   "cell_type": "code",
   "execution_count": null,
   "metadata": {},
   "outputs": [],
   "source": []
  }
 ],
 "metadata": {
  "kernelspec": {
   "display_name": "Python 3 (ipykernel)",
   "language": "python",
   "name": "python3"
  },
  "language_info": {
   "codemirror_mode": {
    "name": "ipython",
    "version": 3
   },
   "file_extension": ".py",
   "mimetype": "text/x-python",
   "name": "python",
   "nbconvert_exporter": "python",
   "pygments_lexer": "ipython3",
   "version": "3.11.0"
  }
 },
 "nbformat": 4,
 "nbformat_minor": 2
}
