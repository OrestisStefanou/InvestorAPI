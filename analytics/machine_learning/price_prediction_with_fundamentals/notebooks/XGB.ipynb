{
 "cells": [
  {
   "cell_type": "code",
   "execution_count": 1,
   "metadata": {},
   "outputs": [],
   "source": [
    "import pandas as pd\n",
    "from sklearn.metrics import mean_absolute_percentage_error, r2_score, mean_absolute_error\n",
    "\n",
    "from analytics.machine_learning.price_prediction_with_fundamentals import utils"
   ]
  },
  {
   "cell_type": "code",
   "execution_count": 11,
   "metadata": {},
   "outputs": [],
   "source": [
    "dataset = utils.get_dataset()"
   ]
  },
  {
   "cell_type": "code",
   "execution_count": 12,
   "metadata": {},
   "outputs": [],
   "source": [
    "import datetime as dt\n",
    "\n",
    "train_set, test_set = utils.split_data_to_train_and_test(\n",
    "    df=dataset,\n",
    "    cutoff_date=dt.datetime(2023,6,1)\n",
    ")\n",
    "\n",
    "y_train = train_set[['price', 'sector']]\n",
    "X_train = train_set.drop(['price'], axis=1)\n",
    "\n",
    "y_test = test_set[['price', 'sector']]\n",
    "X_test = test_set.drop(['price'], axis=1)"
   ]
  },
  {
   "cell_type": "code",
   "execution_count": 13,
   "metadata": {},
   "outputs": [],
   "source": [
    "from sklearn.preprocessing import (\n",
    "    OneHotEncoder,\n",
    "    MinMaxScaler\n",
    ")\n",
    "\n",
    "one_hot_encoder = OneHotEncoder()\n",
    "input_scaler = MinMaxScaler()\n",
    "\n",
    "X_train_transformed = utils.transform_input(\n",
    "    X=X_train,\n",
    "    one_hot_encoder=one_hot_encoder,\n",
    "    #min_max_scaler=input_scaler,\n",
    "    fit=True\n",
    ")\n",
    "\n",
    "X_test_transformed = utils.transform_input(\n",
    "    X=X_test,\n",
    "    one_hot_encoder=one_hot_encoder,\n",
    "    #min_max_scaler=input_scaler,\n",
    "    fit=False\n",
    ")"
   ]
  },
  {
   "cell_type": "code",
   "execution_count": 8,
   "metadata": {},
   "outputs": [],
   "source": [
    "target_scaler = MinMaxScaler()\n",
    "\n",
    "y_train_transformed = utils.tranform_target(\n",
    "    y=y_train['price'],\n",
    "    min_max_scaler=target_scaler,\n",
    "    fit=True\n",
    ")\n",
    "\n",
    "y_test_transformed = utils.tranform_target(\n",
    "    y=y_test['price'],\n",
    "    min_max_scaler=target_scaler,\n",
    "    fit=False\n",
    ")"
   ]
  },
  {
   "cell_type": "code",
   "execution_count": 14,
   "metadata": {},
   "outputs": [],
   "source": [
    "import xgboost as xgb\n",
    "\n",
    "xgb_regressor = xgb.XGBRegressor(\n",
    "        objective = 'reg:squarederror',\n",
    "        n_estimators = 100,\n",
    "        learning_rate = 0.1,\n",
    ")\n",
    "\n",
    "xgb_regressor.fit(X_train_transformed, y_train['price'])\n",
    "\n",
    "# Make predictions using the testing set\n",
    "y_pred_xgb = pd.Series(xgb_regressor.predict(X_test_transformed))\n"
   ]
  },
  {
   "cell_type": "code",
   "execution_count": 12,
   "metadata": {},
   "outputs": [
    {
     "data": {
      "text/plain": [
       "0       386.547821\n",
       "1        50.519630\n",
       "2        78.581024\n",
       "3        11.338340\n",
       "4       106.788521\n",
       "           ...    \n",
       "3153     90.825851\n",
       "3154    235.768997\n",
       "3155     68.810089\n",
       "3156     83.901665\n",
       "3157     12.302379\n",
       "Length: 3158, dtype: float32"
      ]
     },
     "execution_count": 12,
     "metadata": {},
     "output_type": "execute_result"
    }
   ],
   "source": [
    "y_pred_xgb"
   ]
  },
  {
   "cell_type": "code",
   "execution_count": 13,
   "metadata": {},
   "outputs": [
    {
     "data": {
      "text/plain": [
       "0       531.500000\n",
       "1        17.816667\n",
       "2        72.690000\n",
       "3         1.300000\n",
       "4        46.326667\n",
       "           ...    \n",
       "3153     69.460000\n",
       "3154     98.775000\n",
       "3155     61.515000\n",
       "3156     72.025000\n",
       "3157     10.165000\n",
       "Name: price, Length: 3158, dtype: float64"
      ]
     },
     "execution_count": 13,
     "metadata": {},
     "output_type": "execute_result"
    }
   ],
   "source": [
    "y_test['price']"
   ]
  },
  {
   "cell_type": "code",
   "execution_count": 15,
   "metadata": {},
   "outputs": [
    {
     "name": "stdout",
     "output_type": "stream",
     "text": [
      "Mean absolute error: 25.09\n",
      "Coefficient of determination: 0.87\n",
      "Mean absolute pct error: 0.86\n"
     ]
    }
   ],
   "source": [
    "# The mean squared error\n",
    "print(\"Mean absolute error: %.2f\" % mean_absolute_error(y_test['price'], y_pred_xgb))\n",
    "# The coefficient of determination: 1 is perfect prediction\n",
    "print(\"Coefficient of determination: %.2f\" % r2_score(y_test['price'], y_pred_xgb))\n",
    "print(\"Mean absolute pct error: %.2f\" % mean_absolute_percentage_error(y_test['price'], y_pred_xgb))"
   ]
  },
  {
   "cell_type": "code",
   "execution_count": 16,
   "metadata": {},
   "outputs": [
    {
     "data": {
      "text/plain": [
       "{'TECHNOLOGY': 49.92131763072077,\n",
       " 'MANUFACTURING': 37.31342579678325,\n",
       " 'LIFE SCIENCES': 52.52818797466729,\n",
       " 'TRADE & SERVICES': 42.536302840446254,\n",
       " 'FINANCE': 34.47573652536061,\n",
       " 'ENERGY & TRANSPORTATION': 54.92193279698565,\n",
       " 'REAL ESTATE & CONSTRUCTION': -104.04878916386997}"
      ]
     },
     "execution_count": 16,
     "metadata": {},
     "output_type": "execute_result"
    }
   ],
   "source": [
    "utils.calculate_avg_pct_loss_per_sector(\n",
    "    y_pred=y_pred_xgb,\n",
    "    y_actual=y_test['price'],\n",
    "    sector_series=y_test['sector']\n",
    ")"
   ]
  },
  {
   "cell_type": "code",
   "execution_count": 17,
   "metadata": {},
   "outputs": [
    {
     "data": {
      "text/plain": [
       "62"
      ]
     },
     "execution_count": 17,
     "metadata": {},
     "output_type": "execute_result"
    }
   ],
   "source": [
    "negative_count = 0\n",
    "for i, pred_value in enumerate(y_pred_xgb):\n",
    "    if pred_value < 0:\n",
    "        negative_count += 1\n",
    "\n",
    "negative_count"
   ]
  },
  {
   "cell_type": "markdown",
   "metadata": {},
   "source": [
    "## Try KNN Regression"
   ]
  },
  {
   "cell_type": "code",
   "execution_count": 21,
   "metadata": {},
   "outputs": [],
   "source": [
    "dataset = utils.get_dataset()\n",
    "\n",
    "train_set_knn, test_set_knn = utils.split_data_to_train_and_test(\n",
    "    df=dataset,\n",
    "    cutoff_date=dt.datetime(2023,6,1)\n",
    ")\n",
    "\n",
    "y_train_knn = train_set[['price', 'sector']]\n",
    "X_train_knn = train_set.drop(['price'], axis=1)\n",
    "\n",
    "y_test_knn = test_set[['price', 'sector']]\n",
    "X_test_knn = test_set.drop(['price'], axis=1)\n",
    "\n",
    "one_hot_encoder_knn = OneHotEncoder()\n",
    "\n",
    "X_train_transformed_knn = utils.transform_input(\n",
    "    X=X_train_knn,\n",
    "    one_hot_encoder=one_hot_encoder_knn,\n",
    "    fit=True\n",
    ")\n",
    "\n",
    "X_test_transformed_knn = utils.transform_input(\n",
    "    X=X_test_knn,\n",
    "    one_hot_encoder=one_hot_encoder_knn,\n",
    "    fit=False\n",
    ")"
   ]
  },
  {
   "cell_type": "code",
   "execution_count": 22,
   "metadata": {},
   "outputs": [],
   "source": [
    "from sklearn.neighbors import KNeighborsRegressor\n",
    "\n",
    "knn_regr = KNeighborsRegressor(n_neighbors=10)\n",
    "\n",
    "knn_regr.fit(X_train_transformed_knn, y_train_knn['price'])\n",
    "\n",
    "y_pred_knn = knn_regr.predict(X_test_transformed_knn)"
   ]
  },
  {
   "cell_type": "code",
   "execution_count": 23,
   "metadata": {},
   "outputs": [
    {
     "name": "stdout",
     "output_type": "stream",
     "text": [
      "Mean absolute error: 26.89\n",
      "Coefficient of determination: 0.77\n",
      "Mean absolute pct error: 1.16\n"
     ]
    }
   ],
   "source": [
    "# The mean squared error\n",
    "print(\"Mean absolute error: %.2f\" % mean_absolute_error(y_test_knn['price'], y_pred_knn))\n",
    "# The coefficient of determination: 1 is perfect prediction\n",
    "print(\"Coefficient of determination: %.2f\" % r2_score(y_test_knn['price'], y_pred_knn))\n",
    "print(\"Mean absolute pct error: %.2f\" % mean_absolute_percentage_error(y_test_knn['price'], y_pred_knn))"
   ]
  },
  {
   "cell_type": "code",
   "execution_count": null,
   "metadata": {},
   "outputs": [],
   "source": []
  }
 ],
 "metadata": {
  "kernelspec": {
   "display_name": "Python 3 (ipykernel)",
   "language": "python",
   "name": "python3"
  },
  "language_info": {
   "codemirror_mode": {
    "name": "ipython",
    "version": 3
   },
   "file_extension": ".py",
   "mimetype": "text/x-python",
   "name": "python",
   "nbconvert_exporter": "python",
   "pygments_lexer": "ipython3",
   "version": "3.11.0"
  }
 },
 "nbformat": 4,
 "nbformat_minor": 2
}
