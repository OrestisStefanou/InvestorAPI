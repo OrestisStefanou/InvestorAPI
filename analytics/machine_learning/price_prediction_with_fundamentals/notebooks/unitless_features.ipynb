{
 "cells": [
  {
   "cell_type": "code",
   "execution_count": 1,
   "metadata": {},
   "outputs": [],
   "source": [
    "import sqlite3\n",
    "import pandas as pd\n",
    "\n",
    "db_conn = sqlite3.connect('/home/orestis/code/Orestis/InvestorAPI/app/database/ibd.db')\n",
    "\n",
    "query = '''\n",
    "    SELECT * \n",
    "    FROM price_prediction_dataset \n",
    "    WHERE DATE(fiscal_date_ending) <= date('now', '-3 months')\n",
    "    ORDER BY DATE(fiscal_date_ending)\n",
    "'''\n",
    "\n",
    "stocks_df = pd.read_sql(query, db_conn)\n",
    "db_conn.close()\n"
   ]
  },
  {
   "cell_type": "code",
   "execution_count": 4,
   "metadata": {},
   "outputs": [],
   "source": [
    "stocks_df.columns\n",
    "\n",
    "columns_to_keep = [\n",
    "    # Income statement\n",
    "    'total_revenue',\n",
    "    'gross_profit',\n",
    "    'operating_income',\n",
    "    'net_income',\n",
    "    'ebitda',\n",
    "    'net_interest_income',\n",
    "    \n",
    "    # Balance sheet\n",
    "    'total_assets',\n",
    "    'total_liabilities',\n",
    "    'total_shareholder_equity',\n",
    "    'total_current_assets',\n",
    "    'total_current_liabilities',\n",
    "    'cash_and_cash_equivalents_at_carrying_value',\n",
    "    'long_term_debt',\n",
    "    'current_net_receivables',\n",
    "    'inventory',\n",
    "    'property_plant_equipment',\n",
    "\n",
    "    # Cash flow\n",
    "    'operating_cashflow',\n",
    "    'capital_expenditures',\n",
    "    'cashflow_from_investment',\n",
    "    'cashflow_from_financing',\n",
    "    'dividend_payout',\n",
    "    'proceeds_from_issuance_of_long_term_debt_and_capital_securities_net',\n",
    "    'payments_for_repurchase_of_equity'\n",
    "\n",
    "    # Economic indicators\n",
    "    'avg_interest_rate',\n",
    "    'avg_treasury_yield'\n",
    "    'inflation',\n",
    "    #'gdp'\n",
    "\n",
    "    # Stock related\n",
    "    'sector',\n",
    "    'avg_three_months_price',\n",
    "    'avg_next_three_months_price'\n",
    "]   "
   ]
  },
  {
   "cell_type": "code",
   "execution_count": 5,
   "metadata": {},
   "outputs": [],
   "source": [
    "filtered_df = stocks_df[columns_to_keep]"
   ]
  },
  {
   "cell_type": "code",
   "execution_count": 6,
   "metadata": {},
   "outputs": [
    {
     "name": "stdout",
     "output_type": "stream",
     "text": [
      "Columns with zero values: Index(['total_revenue', 'gross_profit', 'operating_income', 'net_income',\n",
      "       'ebitda', 'net_interest_income', 'total_assets', 'total_liabilities',\n",
      "       'total_shareholder_equity', 'total_current_assets',\n",
      "       'total_current_liabilities',\n",
      "       'cash_and_cash_equivalents_at_carrying_value', 'long_term_debt',\n",
      "       'current_net_receivables', 'inventory', 'property_plant_equipment',\n",
      "       'operating_cashflow', 'capital_expenditures',\n",
      "       'cashflow_from_investment', 'cashflow_from_financing',\n",
      "       'dividend_payout',\n",
      "       'proceeds_from_issuance_of_long_term_debt_and_capital_securities_net',\n",
      "       'payments_for_repurchase_of_equity'],\n",
      "      dtype='object')\n"
     ]
    }
   ],
   "source": [
    "columns_with_zeros = filtered_df.columns[filtered_df.eq(0).any()]\n",
    "if len(columns_with_zeros) > 0:\n",
    "    print(f\"Columns with zero values: {columns_with_zeros}\")\n",
    "else:\n",
    "    print(\"No columns have zero values.\")\n"
   ]
  },
  {
   "cell_type": "markdown",
   "metadata": {},
   "source": [
    "Income statement\n",
    "Total revenue\n",
    "Gross profit\n",
    "Operating income\n",
    "Net income\n",
    "Ebitda\n",
    "Net interest income\n",
    "\n",
    "Balance sheet\n",
    "Total assets\n",
    "Total liabilities\n",
    "Total shareholder equity\n",
    "Total current assets\n",
    "Total current liabilities\n",
    "Cash and cash equivalents\n",
    "Long term debt\n",
    "Net receivables\n",
    "Inventory\n",
    "Property plant and equipment(ppe)\n",
    "\n",
    "Cash flow\n",
    "Operating cash flow\n",
    "Capital expenditures\n",
    "Cash flow from investing activities\n",
    "Cash flow from financing activities\n",
    "Divedend payout\n",
    "Proceeds from Issuance of Long-Term Debt and Capital Securities Net\n",
    "Payment from repurchase of equity\n"
   ]
  }
 ],
 "metadata": {
  "kernelspec": {
   "display_name": "Python 3 (ipykernel)",
   "language": "python",
   "name": "python3"
  },
  "language_info": {
   "codemirror_mode": {
    "name": "ipython",
    "version": 3
   },
   "file_extension": ".py",
   "mimetype": "text/x-python",
   "name": "python",
   "nbconvert_exporter": "python",
   "pygments_lexer": "ipython3",
   "version": "3.11.5"
  }
 },
 "nbformat": 4,
 "nbformat_minor": 2
}
