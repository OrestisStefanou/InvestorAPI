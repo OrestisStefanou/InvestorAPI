{
 "cells": [
  {
   "cell_type": "code",
   "execution_count": 1,
   "id": "822505bb-3ac3-4597-ad0a-9e61d8fdb733",
   "metadata": {},
   "outputs": [],
   "source": [
    "import datetime as dt\n",
    "import sqlite3\n",
    "from typing import Optional, List\n",
    "\n",
    "import pandas as pd\n",
    "import numpy as np"
   ]
  },
  {
   "cell_type": "code",
   "execution_count": 2,
   "id": "c5aa97c8-b863-4a0a-9801-1f8ebd185f39",
   "metadata": {},
   "outputs": [],
   "source": [
    "conn = sqlite3.connect('/Users/orestis/MyProjects/InvestorAPI/app/database/ibd.db')"
   ]
  },
  {
   "cell_type": "code",
   "execution_count": 31,
   "id": "a5b613eb-d7fe-4bfb-bac7-dc4a8b1cbb9b",
   "metadata": {},
   "outputs": [],
   "source": [
    "PREDICTION_TIMEWINDOW_DAYS = 90\n",
    "\n",
    "def get_stock_fundamental_df(symbol: str) -> pd.DataFrame:\n",
    "    query = f'''\n",
    "        SELECT \n",
    "            income_statement.total_revenue,\n",
    "            income_statement.gross_profit,\n",
    "            income_statement.operating_income,\n",
    "            income_statement.net_income,\n",
    "            income_statement.ebitda,\n",
    "            income_statement.net_interest_income,\n",
    "\n",
    "            balance_sheet.total_assets,\n",
    "            balance_sheet.total_liabilities,\n",
    "            balance_sheet.total_shareholder_equity,\n",
    "            balance_sheet.total_current_assets,\n",
    "            balance_sheet.total_current_liabilities,\n",
    "            balance_sheet.cash_and_cash_equivalents_at_carrying_value,\n",
    "            balance_sheet.long_term_debt,\n",
    "            balance_sheet.current_net_receivables,\n",
    "            balance_sheet.inventory,\n",
    "            balance_sheet.property_plant_equipment,\n",
    "            \n",
    "            cash_flow.operating_cashflow,\n",
    "            cash_flow.capital_expenditures,\n",
    "            cash_flow.cashflow_from_investment,\n",
    "            cash_flow.cashflow_from_financing,\n",
    "            cash_flow.dividend_payout,\n",
    "            cash_flow.proceeds_from_issuance_of_long_term_debt_and_capital_securities_net,\n",
    "            cash_flow.payments_for_repurchase_of_equity,\n",
    "            \n",
    "            stock_overview.sector,\n",
    "            stock_overview.symbol,\n",
    "            income_statement.fiscal_date_ending\n",
    "        FROM income_statement\n",
    "        INNER JOIN balance_sheet\n",
    "            ON income_statement.fiscal_date_ending = balance_sheet.fiscal_date_ending  AND balance_sheet.symbol = '{symbol}'\n",
    "        INNER JOIN cash_flow\n",
    "            ON income_statement.fiscal_date_ending = cash_flow.fiscal_date_ending  AND cash_flow.symbol = '{symbol}'\n",
    "        INNER JOIN stock_overview\n",
    "            ON income_statement.symbol = stock_overview.symbol  AND stock_overview.symbol = '{symbol}'\n",
    "        WHERE income_statement.symbol = '{symbol}'\n",
    "        ORDER BY DATE(income_statement.fiscal_date_ending)\n",
    "    '''\n",
    "    stock_df = pd.read_sql(query, conn)\n",
    "    \n",
    "    # Drop columns with duplicated names\n",
    "    stock_df = stock_df.loc[:, ~stock_df.columns.duplicated()]\n",
    "\n",
    "    # List of columns to convert to float\n",
    "    columns_to_convert = stock_df.columns.difference(\n",
    "        ['symbol', 'fiscal_date_ending', 'sector']\n",
    "    )\n",
    "\n",
    "    # Convert selected columns to float\n",
    "    stock_df[columns_to_convert] = stock_df[columns_to_convert].astype(float)\n",
    "\n",
    "    # We fill NaN values with a small value because later we perform feature\n",
    "    # engineering to calculate pct change and ratios and we can't divide witrh zero\n",
    "    stock_df[columns_to_convert] = stock_df[columns_to_convert].fillna(0.01)\n",
    "    stock_df[columns_to_convert] = stock_df[columns_to_convert].replace(0, 0.01)\n",
    "\n",
    "    # Feature engineering\n",
    "    for column in columns_to_convert:\n",
    "        # arctan percentage change\n",
    "        log_pct_change_column_name = f'{column}_arctan_pct_change'\n",
    "        stock_df[log_pct_change_column_name] = np.arctan(stock_df[column].pct_change())\n",
    "\n",
    "        # Plain percentage change\n",
    "        pct_change_column_name = f'{column}_pct_change'\n",
    "        stock_df[pct_change_column_name] = stock_df[column].pct_change()\n",
    "\n",
    "    return stock_df\n",
    "\n",
    "\n",
    "def get_interest_rate_df() -> pd.DataFrame:\n",
    "    query = '''\n",
    "    SELECT  *\n",
    "    FROM economic_indicator_time_series\n",
    "    WHERE indicator_name = 'Interest_Rate'\n",
    "    '''\n",
    "\n",
    "    interest_rate_df = pd.read_sql(query, conn)\n",
    "    return interest_rate_df\n",
    "\n",
    "\n",
    "def get_treasury_yield_df() -> pd.DataFrame:\n",
    "    query = '''\n",
    "    SELECT  *\n",
    "    FROM economic_indicator_time_series\n",
    "    WHERE indicator_name = 'Treasury_Yield'\n",
    "    '''\n",
    "\n",
    "    treasury_yield_df = pd.read_sql(query, conn)\n",
    "    return treasury_yield_df\n",
    "\n",
    "\n",
    "def get_stock_time_series_df(symbol: str) -> pd.DataFrame:\n",
    "    query = f'''\n",
    "    SELECT  *\n",
    "    FROM stock_time_series\n",
    "    WHERE symbol = '{symbol}'\n",
    "    ORDER BY registered_date_ts DESC\n",
    "    '''\n",
    "    \n",
    "    stock_time_series_df = pd.read_sql(query, conn)\n",
    "    return stock_time_series_df\n",
    "\n",
    "\n",
    "def get_sector_time_series_df(sector: str) -> pd.DataFrame:\n",
    "    query = f'''\n",
    "    SELECT AVG(sts.close_price) AS sector_price, substr(sts.registered_date, 4, 7) AS month_year\n",
    "    FROM stock_time_series as sts\n",
    "    INNER JOIN stock_overview as so\n",
    "    ON sts.symbol = so.symbol\n",
    "    WHERE so.sector = '{sector}'\n",
    "    GROUP BY month_year\n",
    "    ORDER BY sts.registered_date_ts ASC\n",
    "    '''\n",
    "\n",
    "    sector_df = pd.read_sql(query, conn)\n",
    "    sector_df['Date'] = pd.to_datetime(sector_df['month_year'], format='%m-%Y')\n",
    "    return sector_df\n",
    "\n",
    "\n",
    "def calculate_time_series_pct_change(\n",
    "    start_date: str,\n",
    "    time_series_df: pd.DataFrame,\n",
    "    target_column: str,\n",
    "    days: int = PREDICTION_TIMEWINDOW_DAYS\n",
    ") -> Optional[int]:\n",
    "    \"\"\"\n",
    "    Given a start calculate what was the pct change\n",
    "    between <start_date> and <start_date> + <days> time\n",
    "    \"\"\"\n",
    "    if days < 0:\n",
    "        lower_bound = pd.Timestamp(start_date) - pd.DateOffset(days=abs(days))\n",
    "        upper_bound = pd.Timestamp(start_date) \n",
    "    else:\n",
    "        lower_bound = pd.Timestamp(start_date)\n",
    "        upper_bound = lower_bound + pd.DateOffset(days=days)\n",
    "    \n",
    "    time_series_df['registered_date_ts'] = pd.to_datetime(time_series_df['registered_date_ts'], unit='s')\n",
    "    # Filter the DataFrame\n",
    "    filtered_df = time_series_df[\n",
    "        (time_series_df['registered_date_ts'] >= lower_bound) & \n",
    "        (time_series_df['registered_date_ts'] <= upper_bound)\n",
    "    ]\n",
    "\n",
    "    if len(filtered_df) == 0:\n",
    "        return None\n",
    "\n",
    "    # Sort the filtered DataFrame by timestamp\n",
    "    filtered_df = filtered_df.sort_values(by='registered_date_ts')\n",
    "\n",
    "    # Calculate pct change between first and last row\n",
    "    pct_change = ((filtered_df[target_column].iloc[-1] - filtered_df[target_column].iloc[0]) / filtered_df[target_column].iloc[0])\n",
    "    return pct_change\n",
    "\n",
    "\n",
    "def calculate_sector_pct_change(\n",
    "    date: dt.datetime,\n",
    "    time_series_df: pd.DataFrame,\n",
    "    days: int\n",
    ") -> Optional[int]:\n",
    "    \"\"\"\n",
    "    Given a date calculate what was the pct change\n",
    "    between <date> and <date> +/- <days> time\n",
    "    \"\"\"\n",
    "    # Sector time series are monthly and each date in the\n",
    "    # time series is the first day of the month and this\n",
    "    # is why we create the start_date below\n",
    "    start_date = dt.datetime(\n",
    "        year=date.year,\n",
    "        month=date.month,\n",
    "        day=1\n",
    "    )\n",
    "    if days < 0:\n",
    "        lower_bound = start_date - pd.DateOffset(days=abs(days))\n",
    "        upper_bound = start_date \n",
    "    else:\n",
    "        lower_bound = start_date\n",
    "        upper_bound = lower_bound + pd.DateOffset(days=days)\n",
    "    \n",
    "    # Filter the DataFrame\n",
    "    filtered_df = time_series_df[\n",
    "        (time_series_df['Date'] >= lower_bound) & \n",
    "        (time_series_df['Date'] <= upper_bound)\n",
    "    ]\n",
    "\n",
    "    if len(filtered_df) == 0:\n",
    "        return None\n",
    "\n",
    "    # Sort the filtered DataFrame by timestamp\n",
    "    filtered_df = filtered_df.sort_values(by='Date')\n",
    "\n",
    "    # Calculate pct change between first and last row\n",
    "    pct_change = ((filtered_df['sector_price'].iloc[-1] - filtered_df['sector_price'].iloc[0]) / filtered_df['sector_price'].iloc[0])\n",
    "    return pct_change\n",
    "\n",
    "\n",
    "def find_time_series_most_recent_value(\n",
    "    start_date: str,\n",
    "    time_series_df: pd.DataFrame,\n",
    "    target_column: str,\n",
    "    days: int \n",
    ") -> Optional[int]:\n",
    "    \"\"\"\n",
    "    Given a start_date find the most recent value\n",
    "    between <start_date> and <start_date> +/- <days> time\n",
    "    \"\"\"\n",
    "    if days < 0:\n",
    "        lower_bound = pd.Timestamp(start_date) - pd.DateOffset(days=abs(days))\n",
    "        upper_bound = pd.Timestamp(start_date) \n",
    "    else:\n",
    "        lower_bound = pd.Timestamp(start_date)\n",
    "        upper_bound = lower_bound + pd.DateOffset(days=days)\n",
    "    \n",
    "    time_series_df['registered_date_ts'] = pd.to_datetime(time_series_df['registered_date_ts'], unit='s')\n",
    "    # Filter the DataFrame\n",
    "    filtered_df = time_series_df[\n",
    "        (time_series_df['registered_date_ts'] >= lower_bound) & \n",
    "        (time_series_df['registered_date_ts'] <= upper_bound)\n",
    "    ]\n",
    "\n",
    "    if len(filtered_df) == 0:\n",
    "        return None\n",
    "\n",
    "    # Sort the filtered DataFrame by timestamp\n",
    "    filtered_df = filtered_df.sort_values(by='registered_date_ts')\n",
    "    return filtered_df[target_column].iloc[-1]\n",
    "\n",
    "\n",
    "def calculate_time_series_volatility(\n",
    "    start_date: str,\n",
    "    time_series_df: pd.DataFrame,\n",
    "    target_column: str,\n",
    "    days: int = PREDICTION_TIMEWINDOW_DAYS\n",
    ") -> Optional[int]:\n",
    "    \"\"\"\n",
    "    Given a start calculate what was the volatility\n",
    "    between <start_date> and <start_date> +/- <days> time\n",
    "    \"\"\"\n",
    "    if days < 0:\n",
    "        lower_bound = pd.Timestamp(start_date) - pd.DateOffset(days=abs(days))\n",
    "        upper_bound = pd.Timestamp(start_date) \n",
    "    else:\n",
    "        lower_bound = pd.Timestamp(start_date)\n",
    "        upper_bound = lower_bound + pd.DateOffset(days=days)\n",
    "    \n",
    "    time_series_df['registered_date_ts'] = pd.to_datetime(time_series_df['registered_date_ts'], unit='s')\n",
    "    # Filter the DataFrame\n",
    "    filtered_df = time_series_df[\n",
    "        (time_series_df['registered_date_ts'] >= lower_bound) & \n",
    "        (time_series_df['registered_date_ts'] <= upper_bound)\n",
    "    ]\n",
    "\n",
    "    if len(filtered_df) == 0:\n",
    "        return None\n",
    "\n",
    "    # Sort the filtered DataFrame by timestamp\n",
    "    filtered_df = filtered_df.sort_values(by='registered_date_ts')\n",
    "\n",
    "    volatility = filtered_df[target_column].pct_change().std()\n",
    "    return volatility\n",
    "\n",
    "\n",
    "def find_latest_financials_data(\n",
    "    start_date,\n",
    "    financials_time_series_df: pd.DataFrame,\n",
    "    days: int = 30 * 6\n",
    "):\n",
    "    \"\"\"\n",
    "    Returns the most recent financials data of a stock from 'start_date'(Going backwards)\n",
    "    \"\"\"\n",
    "    upper_bound = start_date\n",
    "    lower_bound = start_date - pd.DateOffset(days=days)\n",
    "    \n",
    "    financials_time_series_df['fiscal_date_ending'] = pd.to_datetime(financials_time_series_df['fiscal_date_ending'], format='%Y-%m-%d')\n",
    "    # Filter the DataFrame\n",
    "    filtered_df = financials_time_series_df[\n",
    "        (financials_time_series_df['fiscal_date_ending'] >= lower_bound) & \n",
    "        (financials_time_series_df['fiscal_date_ending'] <= upper_bound)\n",
    "    ]\n",
    "\n",
    "    if len(filtered_df) == 0:\n",
    "        return None\n",
    "\n",
    "    # Sort the filtered DataFrame by timestamp\n",
    "    filtered_df = filtered_df.sort_values(by='fiscal_date_ending')\n",
    "\n",
    "    columns_to_return = [col_name for col_name in filtered_df.columns if str(col_name).endswith('_arctan_pct_change')]    \n",
    "    return filtered_df[columns_to_return].iloc[-1]\n"
   ]
  },
  {
   "cell_type": "code",
   "execution_count": 5,
   "id": "2e74b11f-cac6-4c5b-992d-1be0fad99c71",
   "metadata": {},
   "outputs": [],
   "source": [
    "interest_rate_df = get_interest_rate_df()\n",
    "treasury_yield_df = get_treasury_yield_df()\n",
    "\n",
    "sectors_time_series = {\n",
    "    'LIFE SCIENCES': get_sector_time_series_df('LIFE SCIENCES'),\n",
    "    'TECHNOLOGY': get_sector_time_series_df('TECHNOLOGY'),\n",
    "    'TRADE & SERVICES': get_sector_time_series_df('TRADE & SERVICES'),\n",
    "    'FINANCE': get_sector_time_series_df('FINANCE'),\n",
    "    'REAL ESTATE & CONSTRUCTION': get_sector_time_series_df('REAL ESTATE & CONSTRUCTION'),\n",
    "    'MANUFACTURING': get_sector_time_series_df('MANUFACTURING'),\n",
    "    'ENERGY & TRANSPORTATION': get_sector_time_series_df('ENERGY & TRANSPORTATION')\n",
    "}"
   ]
  },
  {
   "cell_type": "code",
   "execution_count": 34,
   "id": "9ccfff3d-e136-4684-8ef2-44aca78126d1",
   "metadata": {},
   "outputs": [],
   "source": [
    "def get_stock_prediction_data_df(symbol: str) -> pd.DataFrame:\n",
    "    stock_fundamental_df = get_stock_fundamental_df(symbol)\n",
    "    stock_time_series_df = get_stock_time_series_df(symbol)\n",
    "\n",
    "    stock_sector = stock_fundamental_df.iloc[0, stock_fundamental_df.columns.get_loc('sector')]\n",
    "    sector_time_series_df = sectors_time_series.get(stock_sector)\n",
    "\n",
    "    # Create stock prediction data\n",
    "    current_date = dt.datetime.today()\n",
    "    stock_prediction_data_df = pd.DataFrame([\n",
    "        {\"Date\": current_date},\n",
    "    ])\n",
    "    stock_prediction_data_df['symbol'] = symbol\n",
    "    stock_prediction_data_df['sector'] = stock_sector\n",
    "\n",
    "    stock_prediction_data_df['interest_rate'] = stock_prediction_data_df['Date'].apply(\n",
    "        find_time_series_most_recent_value,\n",
    "        target_column='value',\n",
    "        time_series_df=interest_rate_df,\n",
    "        days=-93\n",
    "    )\n",
    "\n",
    "    stock_prediction_data_df['treasury_yield'] = stock_prediction_data_df['Date'].apply(\n",
    "        find_time_series_most_recent_value,\n",
    "        target_column='value',\n",
    "        time_series_df=treasury_yield_df,\n",
    "        days=-93\n",
    "    )\n",
    "\n",
    "    stock_prediction_data_df['price_pct_change_last_six_months'] = stock_prediction_data_df['Date'].apply(\n",
    "        calculate_time_series_pct_change,\n",
    "        target_column='close_price',\n",
    "        time_series_df=stock_time_series_df,\n",
    "        days=-186\n",
    "    )\n",
    "\n",
    "    stock_prediction_data_df['price_pct_change_last_three_months'] = stock_prediction_data_df['Date'].apply(\n",
    "        calculate_time_series_pct_change,\n",
    "        target_column='close_price',\n",
    "        time_series_df=stock_time_series_df,\n",
    "        days=-93\n",
    "    )\n",
    "\n",
    "    stock_prediction_data_df['price_pct_change_last_month'] = stock_prediction_data_df['Date'].apply(\n",
    "        calculate_time_series_pct_change,\n",
    "        target_column='close_price',\n",
    "        time_series_df=stock_time_series_df,\n",
    "        days=-33\n",
    "    )\n",
    "\n",
    "    stock_prediction_data_df['price_volatility_last_six_months'] = stock_prediction_data_df['Date'].apply(\n",
    "        calculate_time_series_volatility,\n",
    "        target_column='close_price',\n",
    "        time_series_df=stock_time_series_df,\n",
    "        days=-186\n",
    "    )\n",
    "\n",
    "    stock_prediction_data_df['price_volatility_last_three_months'] = stock_prediction_data_df['Date'].apply(\n",
    "        calculate_time_series_volatility,\n",
    "        target_column='close_price',\n",
    "        time_series_df=stock_time_series_df,\n",
    "        days=-93\n",
    "    )\n",
    "\n",
    "    stock_prediction_data_df['price_volatility_last_month'] = stock_prediction_data_df['Date'].apply(\n",
    "        calculate_time_series_volatility,\n",
    "        target_column='close_price',\n",
    "        time_series_df=stock_time_series_df,\n",
    "        days=-33\n",
    "    )\n",
    "\n",
    "    stock_prediction_data_df['sector_pct_change_last_six_months'] = stock_prediction_data_df['Date'].apply(\n",
    "        calculate_sector_pct_change,\n",
    "        time_series_df=sector_time_series_df,\n",
    "        days=-186\n",
    "    )\n",
    "\n",
    "    stock_prediction_data_df['sector_pct_change_last_three_months'] = stock_prediction_data_df['Date'].apply(\n",
    "        calculate_sector_pct_change,\n",
    "        time_series_df=sector_time_series_df,\n",
    "        days=-93\n",
    "    )\n",
    "\n",
    "    stock_prediction_data_df['sector_pct_change_last_month'] = stock_prediction_data_df['Date'].apply(\n",
    "        calculate_sector_pct_change,\n",
    "        time_series_df=sector_time_series_df,\n",
    "        days=-33\n",
    "    )\n",
    "\n",
    "    financial_statements_columns = [col_name for col_name in stock_fundamental_df.columns if str(col_name).endswith('_arctan_pct_change')]\n",
    "    stock_prediction_data_df[financial_statements_columns] = stock_prediction_data_df['Date'].apply(\n",
    "        find_latest_financials_data,\n",
    "        financials_time_series_df=stock_fundamental_df,\n",
    "    )\n",
    "\n",
    "    return stock_prediction_data_df\n"
   ]
  },
  {
   "cell_type": "code",
   "execution_count": 35,
   "id": "a45cfcae-c70d-44b8-bedd-00ad915fae07",
   "metadata": {},
   "outputs": [
    {
     "name": "stdout",
     "output_type": "stream",
     "text": [
      "Upper bound: 2023-12-01 00:00:00\n",
      "Lower bound: 2023-05-29 00:00:00\n",
      "FILTERED DF:      sector_price month_year       Date\n",
      "283     61.494994    06-2023 2023-06-01\n",
      "284     64.154887    07-2023 2023-07-01\n",
      "285     62.328205    08-2023 2023-08-01\n",
      "286     62.273780    09-2023 2023-09-01\n",
      "287     59.027903    10-2023 2023-10-01\n",
      "288     61.550075    11-2023 2023-11-01\n",
      "289     64.527148    12-2023 2023-12-01\n",
      "Upper bound: 2023-12-01 00:00:00\n",
      "Lower bound: 2023-08-30 00:00:00\n",
      "FILTERED DF:      sector_price month_year       Date\n",
      "286     62.273780    09-2023 2023-09-01\n",
      "287     59.027903    10-2023 2023-10-01\n",
      "288     61.550075    11-2023 2023-11-01\n",
      "289     64.527148    12-2023 2023-12-01\n",
      "Upper bound: 2023-12-01 00:00:00\n",
      "Lower bound: 2023-10-29 00:00:00\n",
      "FILTERED DF:      sector_price month_year       Date\n",
      "288     61.550075    11-2023 2023-11-01\n",
      "289     64.527148    12-2023 2023-12-01\n"
     ]
    },
    {
     "data": {
      "text/html": [
       "<div>\n",
       "<style scoped>\n",
       "    .dataframe tbody tr th:only-of-type {\n",
       "        vertical-align: middle;\n",
       "    }\n",
       "\n",
       "    .dataframe tbody tr th {\n",
       "        vertical-align: top;\n",
       "    }\n",
       "\n",
       "    .dataframe thead th {\n",
       "        text-align: right;\n",
       "    }\n",
       "</style>\n",
       "<table border=\"1\" class=\"dataframe\">\n",
       "  <thead>\n",
       "    <tr style=\"text-align: right;\">\n",
       "      <th></th>\n",
       "      <th>Date</th>\n",
       "      <th>symbol</th>\n",
       "      <th>sector</th>\n",
       "      <th>interest_rate</th>\n",
       "      <th>treasury_yield</th>\n",
       "      <th>price_pct_change_last_six_months</th>\n",
       "      <th>price_pct_change_last_three_months</th>\n",
       "      <th>price_pct_change_last_month</th>\n",
       "      <th>price_volatility_last_six_months</th>\n",
       "      <th>price_volatility_last_three_months</th>\n",
       "      <th>...</th>\n",
       "      <th>operating_income_arctan_pct_change</th>\n",
       "      <th>payments_for_repurchase_of_equity_arctan_pct_change</th>\n",
       "      <th>proceeds_from_issuance_of_long_term_debt_and_capital_securities_net_arctan_pct_change</th>\n",
       "      <th>property_plant_equipment_arctan_pct_change</th>\n",
       "      <th>total_assets_arctan_pct_change</th>\n",
       "      <th>total_current_assets_arctan_pct_change</th>\n",
       "      <th>total_current_liabilities_arctan_pct_change</th>\n",
       "      <th>total_liabilities_arctan_pct_change</th>\n",
       "      <th>total_revenue_arctan_pct_change</th>\n",
       "      <th>total_shareholder_equity_arctan_pct_change</th>\n",
       "    </tr>\n",
       "  </thead>\n",
       "  <tbody>\n",
       "    <tr>\n",
       "      <th>0</th>\n",
       "      <td>2023-12-29 12:17:25.848656</td>\n",
       "      <td>MSFT</td>\n",
       "      <td>TECHNOLOGY</td>\n",
       "      <td>5.33</td>\n",
       "      <td>4.5</td>\n",
       "      <td>0.099371</td>\n",
       "      <td>0.13283</td>\n",
       "      <td>-0.010093</td>\n",
       "      <td>0.025152</td>\n",
       "      <td>0.026179</td>\n",
       "      <td>...</td>\n",
       "      <td>0.108462</td>\n",
       "      <td>-0.151872</td>\n",
       "      <td>0.0</td>\n",
       "      <td>0.071614</td>\n",
       "      <td>0.081882</td>\n",
       "      <td>0.125941</td>\n",
       "      <td>0.19567</td>\n",
       "      <td>0.093615</td>\n",
       "      <td>0.006648</td>\n",
       "      <td>0.070153</td>\n",
       "    </tr>\n",
       "  </tbody>\n",
       "</table>\n",
       "<p>1 rows × 37 columns</p>\n",
       "</div>"
      ],
      "text/plain": [
       "                        Date symbol      sector  interest_rate  \\\n",
       "0 2023-12-29 12:17:25.848656   MSFT  TECHNOLOGY           5.33   \n",
       "\n",
       "   treasury_yield  price_pct_change_last_six_months  \\\n",
       "0             4.5                          0.099371   \n",
       "\n",
       "   price_pct_change_last_three_months  price_pct_change_last_month  \\\n",
       "0                             0.13283                    -0.010093   \n",
       "\n",
       "   price_volatility_last_six_months  price_volatility_last_three_months  ...  \\\n",
       "0                          0.025152                            0.026179  ...   \n",
       "\n",
       "   operating_income_arctan_pct_change  \\\n",
       "0                            0.108462   \n",
       "\n",
       "   payments_for_repurchase_of_equity_arctan_pct_change  \\\n",
       "0                                          -0.151872     \n",
       "\n",
       "   proceeds_from_issuance_of_long_term_debt_and_capital_securities_net_arctan_pct_change  \\\n",
       "0                                                0.0                                       \n",
       "\n",
       "   property_plant_equipment_arctan_pct_change  total_assets_arctan_pct_change  \\\n",
       "0                                    0.071614                        0.081882   \n",
       "\n",
       "   total_current_assets_arctan_pct_change  \\\n",
       "0                                0.125941   \n",
       "\n",
       "   total_current_liabilities_arctan_pct_change  \\\n",
       "0                                      0.19567   \n",
       "\n",
       "   total_liabilities_arctan_pct_change  total_revenue_arctan_pct_change  \\\n",
       "0                             0.093615                         0.006648   \n",
       "\n",
       "   total_shareholder_equity_arctan_pct_change  \n",
       "0                                    0.070153  \n",
       "\n",
       "[1 rows x 37 columns]"
      ]
     },
     "execution_count": 35,
     "metadata": {},
     "output_type": "execute_result"
    }
   ],
   "source": [
    "get_stock_prediction_data_df('MSFT')"
   ]
  },
  {
   "cell_type": "code",
   "execution_count": 18,
   "id": "50704461-bd9f-4045-9309-e54be13ea6a4",
   "metadata": {},
   "outputs": [],
   "source": [
    "import joblib\n",
    "\n",
    "rf_three_months_model = joblib.load('/Users/orestis/MyProjects/InvestorAPI/analytics/machine_learning/price_prediction_with_fundamentals/ml_models/rf_three_months_prediction_model.joblib') "
   ]
  },
  {
   "cell_type": "code",
   "execution_count": 19,
   "id": "5e468a72-9165-46c8-89db-896df8fa6f33",
   "metadata": {},
   "outputs": [
    {
     "name": "stdout",
     "output_type": "stream",
     "text": [
      "Upper bound: 2023-12-01 00:00:00\n",
      "Lower bound: 2023-06-04 00:00:00\n",
      "FILTERED DF:      sector_price month_year       Date\n",
      "284     64.154887    07-2023 2023-07-01\n",
      "285     62.328205    08-2023 2023-08-01\n",
      "286     62.273780    09-2023 2023-09-01\n",
      "287     59.027903    10-2023 2023-10-01\n",
      "288     61.550075    11-2023 2023-11-01\n",
      "289     64.527148    12-2023 2023-12-01\n",
      "Upper bound: 2023-12-01 00:00:00\n",
      "Lower bound: 2023-09-02 00:00:00\n",
      "FILTERED DF:      sector_price month_year       Date\n",
      "287     59.027903    10-2023 2023-10-01\n",
      "288     61.550075    11-2023 2023-11-01\n",
      "289     64.527148    12-2023 2023-12-01\n",
      "Upper bound: 2023-12-01 00:00:00\n",
      "Lower bound: 2023-10-29 00:00:00\n",
      "FILTERED DF:      sector_price month_year       Date\n",
      "288     61.550075    11-2023 2023-11-01\n",
      "289     64.527148    12-2023 2023-12-01\n"
     ]
    },
    {
     "data": {
      "text/plain": [
       "array([[0.5, 0.5]])"
      ]
     },
     "execution_count": 19,
     "metadata": {},
     "output_type": "execute_result"
    }
   ],
   "source": [
    "msft_prediction_input = get_stock_prediction_data_df('MSFT')\n",
    "cols_to_drop = ['symbol', 'Date']\n",
    "rf_three_months_model.predict_proba(msft_prediction_input)"
   ]
  },
  {
   "cell_type": "code",
   "execution_count": 9,
   "id": "5408a538-1de4-4328-8785-908e520f7c10",
   "metadata": {},
   "outputs": [
    {
     "data": {
      "text/plain": [
       "[('columntransformer',\n",
       "  ColumnTransformer(remainder='passthrough',\n",
       "                    transformers=[('onehotencoder', OneHotEncoder(), ['sector'])])),\n",
       " ('randomforestclassifier', RandomForestClassifier())]"
      ]
     },
     "execution_count": 9,
     "metadata": {},
     "output_type": "execute_result"
    }
   ],
   "source": [
    "rf_three_months_model.steps"
   ]
  },
  {
   "cell_type": "code",
   "execution_count": 20,
   "id": "4a9d9695-793e-457f-ad8b-c3db27fb0d9d",
   "metadata": {},
   "outputs": [],
   "source": [
    "rf_classifier = rf_three_months_model.steps[1][1]"
   ]
  },
  {
   "cell_type": "code",
   "execution_count": 21,
   "id": "9fbccdb5-7ede-4a11-b45b-bdaf56f31683",
   "metadata": {},
   "outputs": [],
   "source": [
    "column_transformer = rf_three_months_model.steps[0][1]"
   ]
  },
  {
   "cell_type": "code",
   "execution_count": 59,
   "id": "0b72916e-4965-410a-85be-91426f0f4a9d",
   "metadata": {},
   "outputs": [
    {
     "data": {
      "text/html": [
       "<style>#sk-container-id-4 {color: black;}#sk-container-id-4 pre{padding: 0;}#sk-container-id-4 div.sk-toggleable {background-color: white;}#sk-container-id-4 label.sk-toggleable__label {cursor: pointer;display: block;width: 100%;margin-bottom: 0;padding: 0.3em;box-sizing: border-box;text-align: center;}#sk-container-id-4 label.sk-toggleable__label-arrow:before {content: \"▸\";float: left;margin-right: 0.25em;color: #696969;}#sk-container-id-4 label.sk-toggleable__label-arrow:hover:before {color: black;}#sk-container-id-4 div.sk-estimator:hover label.sk-toggleable__label-arrow:before {color: black;}#sk-container-id-4 div.sk-toggleable__content {max-height: 0;max-width: 0;overflow: hidden;text-align: left;background-color: #f0f8ff;}#sk-container-id-4 div.sk-toggleable__content pre {margin: 0.2em;color: black;border-radius: 0.25em;background-color: #f0f8ff;}#sk-container-id-4 input.sk-toggleable__control:checked~div.sk-toggleable__content {max-height: 200px;max-width: 100%;overflow: auto;}#sk-container-id-4 input.sk-toggleable__control:checked~label.sk-toggleable__label-arrow:before {content: \"▾\";}#sk-container-id-4 div.sk-estimator input.sk-toggleable__control:checked~label.sk-toggleable__label {background-color: #d4ebff;}#sk-container-id-4 div.sk-label input.sk-toggleable__control:checked~label.sk-toggleable__label {background-color: #d4ebff;}#sk-container-id-4 input.sk-hidden--visually {border: 0;clip: rect(1px 1px 1px 1px);clip: rect(1px, 1px, 1px, 1px);height: 1px;margin: -1px;overflow: hidden;padding: 0;position: absolute;width: 1px;}#sk-container-id-4 div.sk-estimator {font-family: monospace;background-color: #f0f8ff;border: 1px dotted black;border-radius: 0.25em;box-sizing: border-box;margin-bottom: 0.5em;}#sk-container-id-4 div.sk-estimator:hover {background-color: #d4ebff;}#sk-container-id-4 div.sk-parallel-item::after {content: \"\";width: 100%;border-bottom: 1px solid gray;flex-grow: 1;}#sk-container-id-4 div.sk-label:hover label.sk-toggleable__label {background-color: #d4ebff;}#sk-container-id-4 div.sk-serial::before {content: \"\";position: absolute;border-left: 1px solid gray;box-sizing: border-box;top: 0;bottom: 0;left: 50%;z-index: 0;}#sk-container-id-4 div.sk-serial {display: flex;flex-direction: column;align-items: center;background-color: white;padding-right: 0.2em;padding-left: 0.2em;position: relative;}#sk-container-id-4 div.sk-item {position: relative;z-index: 1;}#sk-container-id-4 div.sk-parallel {display: flex;align-items: stretch;justify-content: center;background-color: white;position: relative;}#sk-container-id-4 div.sk-item::before, #sk-container-id-4 div.sk-parallel-item::before {content: \"\";position: absolute;border-left: 1px solid gray;box-sizing: border-box;top: 0;bottom: 0;left: 50%;z-index: -1;}#sk-container-id-4 div.sk-parallel-item {display: flex;flex-direction: column;z-index: 1;position: relative;background-color: white;}#sk-container-id-4 div.sk-parallel-item:first-child::after {align-self: flex-end;width: 50%;}#sk-container-id-4 div.sk-parallel-item:last-child::after {align-self: flex-start;width: 50%;}#sk-container-id-4 div.sk-parallel-item:only-child::after {width: 0;}#sk-container-id-4 div.sk-dashed-wrapped {border: 1px dashed gray;margin: 0 0.4em 0.5em 0.4em;box-sizing: border-box;padding-bottom: 0.4em;background-color: white;}#sk-container-id-4 div.sk-label label {font-family: monospace;font-weight: bold;display: inline-block;line-height: 1.2em;}#sk-container-id-4 div.sk-label-container {text-align: center;}#sk-container-id-4 div.sk-container {/* jupyter's `normalize.less` sets `[hidden] { display: none; }` but bootstrap.min.css set `[hidden] { display: none !important; }` so we also need the `!important` here to be able to override the default hidden behavior on the sphinx rendered scikit-learn.org. See: https://github.com/scikit-learn/scikit-learn/issues/21755 */display: inline-block !important;position: relative;}#sk-container-id-4 div.sk-text-repr-fallback {display: none;}</style><div id=\"sk-container-id-4\" class=\"sk-top-container\"><div class=\"sk-text-repr-fallback\"><pre>ColumnTransformer(remainder=&#x27;passthrough&#x27;,\n",
       "                  transformers=[(&#x27;onehotencoder&#x27;, OneHotEncoder(), [&#x27;sector&#x27;])])</pre><b>In a Jupyter environment, please rerun this cell to show the HTML representation or trust the notebook. <br />On GitHub, the HTML representation is unable to render, please try loading this page with nbviewer.org.</b></div><div class=\"sk-container\" hidden><div class=\"sk-item sk-dashed-wrapped\"><div class=\"sk-label-container\"><div class=\"sk-label sk-toggleable\"><input class=\"sk-toggleable__control sk-hidden--visually\" id=\"sk-estimator-id-10\" type=\"checkbox\" ><label for=\"sk-estimator-id-10\" class=\"sk-toggleable__label sk-toggleable__label-arrow\">ColumnTransformer</label><div class=\"sk-toggleable__content\"><pre>ColumnTransformer(remainder=&#x27;passthrough&#x27;,\n",
       "                  transformers=[(&#x27;onehotencoder&#x27;, OneHotEncoder(), [&#x27;sector&#x27;])])</pre></div></div></div><div class=\"sk-parallel\"><div class=\"sk-parallel-item\"><div class=\"sk-item\"><div class=\"sk-label-container\"><div class=\"sk-label sk-toggleable\"><input class=\"sk-toggleable__control sk-hidden--visually\" id=\"sk-estimator-id-11\" type=\"checkbox\" ><label for=\"sk-estimator-id-11\" class=\"sk-toggleable__label sk-toggleable__label-arrow\">onehotencoder</label><div class=\"sk-toggleable__content\"><pre>[&#x27;sector&#x27;]</pre></div></div></div><div class=\"sk-serial\"><div class=\"sk-item\"><div class=\"sk-estimator sk-toggleable\"><input class=\"sk-toggleable__control sk-hidden--visually\" id=\"sk-estimator-id-12\" type=\"checkbox\" ><label for=\"sk-estimator-id-12\" class=\"sk-toggleable__label sk-toggleable__label-arrow\">OneHotEncoder</label><div class=\"sk-toggleable__content\"><pre>OneHotEncoder()</pre></div></div></div></div></div></div><div class=\"sk-parallel-item\"><div class=\"sk-item\"><div class=\"sk-label-container\"><div class=\"sk-label sk-toggleable\"><input class=\"sk-toggleable__control sk-hidden--visually\" id=\"sk-estimator-id-13\" type=\"checkbox\" ><label for=\"sk-estimator-id-13\" class=\"sk-toggleable__label sk-toggleable__label-arrow\">remainder</label><div class=\"sk-toggleable__content\"><pre>[&#x27;interest_rate&#x27;, &#x27;treasury_yield&#x27;, &#x27;price_pct_change_last_six_months&#x27;, &#x27;price_pct_change_last_three_months&#x27;, &#x27;price_pct_change_last_month&#x27;, &#x27;price_volatility_last_six_months&#x27;, &#x27;price_volatility_last_three_months&#x27;, &#x27;price_volatility_last_month&#x27;, &#x27;sector_pct_change_last_six_months&#x27;, &#x27;sector_pct_change_last_three_months&#x27;, &#x27;sector_pct_change_last_month&#x27;, &#x27;capital_expenditures_arctan_pct_change&#x27;, &#x27;cash_and_cash_equivalents_at_carrying_value_arctan_pct_change&#x27;, &#x27;cashflow_from_financing_arctan_pct_change&#x27;, &#x27;cashflow_from_investment_arctan_pct_change&#x27;, &#x27;current_net_receivables_arctan_pct_change&#x27;, &#x27;dividend_payout_arctan_pct_change&#x27;, &#x27;ebitda_arctan_pct_change&#x27;, &#x27;gross_profit_arctan_pct_change&#x27;, &#x27;inventory_arctan_pct_change&#x27;, &#x27;long_term_debt_arctan_pct_change&#x27;, &#x27;net_income_arctan_pct_change&#x27;, &#x27;net_interest_income_arctan_pct_change&#x27;, &#x27;operating_cashflow_arctan_pct_change&#x27;, &#x27;operating_income_arctan_pct_change&#x27;, &#x27;payments_for_repurchase_of_equity_arctan_pct_change&#x27;, &#x27;proceeds_from_issuance_of_long_term_debt_and_capital_securities_net_arctan_pct_change&#x27;, &#x27;property_plant_equipment_arctan_pct_change&#x27;, &#x27;total_assets_arctan_pct_change&#x27;, &#x27;total_current_assets_arctan_pct_change&#x27;, &#x27;total_current_liabilities_arctan_pct_change&#x27;, &#x27;total_liabilities_arctan_pct_change&#x27;, &#x27;total_revenue_arctan_pct_change&#x27;, &#x27;total_shareholder_equity_arctan_pct_change&#x27;]</pre></div></div></div><div class=\"sk-serial\"><div class=\"sk-item\"><div class=\"sk-estimator sk-toggleable\"><input class=\"sk-toggleable__control sk-hidden--visually\" id=\"sk-estimator-id-14\" type=\"checkbox\" ><label for=\"sk-estimator-id-14\" class=\"sk-toggleable__label sk-toggleable__label-arrow\">passthrough</label><div class=\"sk-toggleable__content\"><pre>passthrough</pre></div></div></div></div></div></div></div></div></div></div>"
      ],
      "text/plain": [
       "ColumnTransformer(remainder='passthrough',\n",
       "                  transformers=[('onehotencoder', OneHotEncoder(), ['sector'])])"
      ]
     },
     "execution_count": 59,
     "metadata": {},
     "output_type": "execute_result"
    }
   ],
   "source": [
    "column_transformer"
   ]
  },
  {
   "cell_type": "code",
   "execution_count": 48,
   "id": "fb11d925-aba0-4601-bee3-d11c5f641ef7",
   "metadata": {},
   "outputs": [
    {
     "data": {
      "text/html": [
       "<style>#sk-container-id-3 {color: black;}#sk-container-id-3 pre{padding: 0;}#sk-container-id-3 div.sk-toggleable {background-color: white;}#sk-container-id-3 label.sk-toggleable__label {cursor: pointer;display: block;width: 100%;margin-bottom: 0;padding: 0.3em;box-sizing: border-box;text-align: center;}#sk-container-id-3 label.sk-toggleable__label-arrow:before {content: \"▸\";float: left;margin-right: 0.25em;color: #696969;}#sk-container-id-3 label.sk-toggleable__label-arrow:hover:before {color: black;}#sk-container-id-3 div.sk-estimator:hover label.sk-toggleable__label-arrow:before {color: black;}#sk-container-id-3 div.sk-toggleable__content {max-height: 0;max-width: 0;overflow: hidden;text-align: left;background-color: #f0f8ff;}#sk-container-id-3 div.sk-toggleable__content pre {margin: 0.2em;color: black;border-radius: 0.25em;background-color: #f0f8ff;}#sk-container-id-3 input.sk-toggleable__control:checked~div.sk-toggleable__content {max-height: 200px;max-width: 100%;overflow: auto;}#sk-container-id-3 input.sk-toggleable__control:checked~label.sk-toggleable__label-arrow:before {content: \"▾\";}#sk-container-id-3 div.sk-estimator input.sk-toggleable__control:checked~label.sk-toggleable__label {background-color: #d4ebff;}#sk-container-id-3 div.sk-label input.sk-toggleable__control:checked~label.sk-toggleable__label {background-color: #d4ebff;}#sk-container-id-3 input.sk-hidden--visually {border: 0;clip: rect(1px 1px 1px 1px);clip: rect(1px, 1px, 1px, 1px);height: 1px;margin: -1px;overflow: hidden;padding: 0;position: absolute;width: 1px;}#sk-container-id-3 div.sk-estimator {font-family: monospace;background-color: #f0f8ff;border: 1px dotted black;border-radius: 0.25em;box-sizing: border-box;margin-bottom: 0.5em;}#sk-container-id-3 div.sk-estimator:hover {background-color: #d4ebff;}#sk-container-id-3 div.sk-parallel-item::after {content: \"\";width: 100%;border-bottom: 1px solid gray;flex-grow: 1;}#sk-container-id-3 div.sk-label:hover label.sk-toggleable__label {background-color: #d4ebff;}#sk-container-id-3 div.sk-serial::before {content: \"\";position: absolute;border-left: 1px solid gray;box-sizing: border-box;top: 0;bottom: 0;left: 50%;z-index: 0;}#sk-container-id-3 div.sk-serial {display: flex;flex-direction: column;align-items: center;background-color: white;padding-right: 0.2em;padding-left: 0.2em;position: relative;}#sk-container-id-3 div.sk-item {position: relative;z-index: 1;}#sk-container-id-3 div.sk-parallel {display: flex;align-items: stretch;justify-content: center;background-color: white;position: relative;}#sk-container-id-3 div.sk-item::before, #sk-container-id-3 div.sk-parallel-item::before {content: \"\";position: absolute;border-left: 1px solid gray;box-sizing: border-box;top: 0;bottom: 0;left: 50%;z-index: -1;}#sk-container-id-3 div.sk-parallel-item {display: flex;flex-direction: column;z-index: 1;position: relative;background-color: white;}#sk-container-id-3 div.sk-parallel-item:first-child::after {align-self: flex-end;width: 50%;}#sk-container-id-3 div.sk-parallel-item:last-child::after {align-self: flex-start;width: 50%;}#sk-container-id-3 div.sk-parallel-item:only-child::after {width: 0;}#sk-container-id-3 div.sk-dashed-wrapped {border: 1px dashed gray;margin: 0 0.4em 0.5em 0.4em;box-sizing: border-box;padding-bottom: 0.4em;background-color: white;}#sk-container-id-3 div.sk-label label {font-family: monospace;font-weight: bold;display: inline-block;line-height: 1.2em;}#sk-container-id-3 div.sk-label-container {text-align: center;}#sk-container-id-3 div.sk-container {/* jupyter's `normalize.less` sets `[hidden] { display: none; }` but bootstrap.min.css set `[hidden] { display: none !important; }` so we also need the `!important` here to be able to override the default hidden behavior on the sphinx rendered scikit-learn.org. See: https://github.com/scikit-learn/scikit-learn/issues/21755 */display: inline-block !important;position: relative;}#sk-container-id-3 div.sk-text-repr-fallback {display: none;}</style><div id=\"sk-container-id-3\" class=\"sk-top-container\"><div class=\"sk-text-repr-fallback\"><pre>RandomForestClassifier()</pre><b>In a Jupyter environment, please rerun this cell to show the HTML representation or trust the notebook. <br />On GitHub, the HTML representation is unable to render, please try loading this page with nbviewer.org.</b></div><div class=\"sk-container\" hidden><div class=\"sk-item\"><div class=\"sk-estimator sk-toggleable\"><input class=\"sk-toggleable__control sk-hidden--visually\" id=\"sk-estimator-id-9\" type=\"checkbox\" checked><label for=\"sk-estimator-id-9\" class=\"sk-toggleable__label sk-toggleable__label-arrow\">RandomForestClassifier</label><div class=\"sk-toggleable__content\"><pre>RandomForestClassifier()</pre></div></div></div></div></div>"
      ],
      "text/plain": [
       "RandomForestClassifier()"
      ]
     },
     "execution_count": 48,
     "metadata": {},
     "output_type": "execute_result"
    }
   ],
   "source": [
    "rf_classifier"
   ]
  },
  {
   "cell_type": "code",
   "execution_count": 22,
   "id": "a9d368df-c379-487c-a319-167f0d98437e",
   "metadata": {},
   "outputs": [
    {
     "name": "stderr",
     "output_type": "stream",
     "text": [
      "IProgress not found. Please update jupyter and ipywidgets. See https://ipywidgets.readthedocs.io/en/stable/user_install.html\n"
     ]
    }
   ],
   "source": [
    "import shap"
   ]
  },
  {
   "cell_type": "code",
   "execution_count": 23,
   "id": "9f97a0b7-947f-413d-8674-861166f6ee66",
   "metadata": {},
   "outputs": [],
   "source": [
    "explainer = shap.TreeExplainer(rf_classifier)"
   ]
  },
  {
   "cell_type": "code",
   "execution_count": 42,
   "id": "7635a570",
   "metadata": {},
   "outputs": [
    {
     "data": {
      "text/plain": [
       "array([0.48518086, 0.51481914])"
      ]
     },
     "execution_count": 42,
     "metadata": {},
     "output_type": "execute_result"
    }
   ],
   "source": [
    "explainer.expected_value"
   ]
  },
  {
   "cell_type": "code",
   "execution_count": 24,
   "id": "d77d3225-1cd9-47c9-97e1-a0f289d69913",
   "metadata": {},
   "outputs": [
    {
     "name": "stdout",
     "output_type": "stream",
     "text": [
      "Upper bound: 2023-12-01 00:00:00\n",
      "Lower bound: 2023-06-04 00:00:00\n",
      "FILTERED DF:      sector_price month_year       Date\n",
      "284     64.154887    07-2023 2023-07-01\n",
      "285     62.328205    08-2023 2023-08-01\n",
      "286     62.273780    09-2023 2023-09-01\n",
      "287     59.027903    10-2023 2023-10-01\n",
      "288     61.550075    11-2023 2023-11-01\n",
      "289     64.527148    12-2023 2023-12-01\n",
      "Upper bound: 2023-12-01 00:00:00\n",
      "Lower bound: 2023-09-02 00:00:00\n",
      "FILTERED DF:      sector_price month_year       Date\n",
      "287     59.027903    10-2023 2023-10-01\n",
      "288     61.550075    11-2023 2023-11-01\n",
      "289     64.527148    12-2023 2023-12-01\n",
      "Upper bound: 2023-12-01 00:00:00\n",
      "Lower bound: 2023-10-29 00:00:00\n",
      "FILTERED DF:      sector_price month_year       Date\n",
      "288     61.550075    11-2023 2023-11-01\n",
      "289     64.527148    12-2023 2023-12-01\n"
     ]
    },
    {
     "data": {
      "text/plain": [
       "array([[0.5, 0.5]])"
      ]
     },
     "execution_count": 24,
     "metadata": {},
     "output_type": "execute_result"
    }
   ],
   "source": [
    "msft_prediction_input = get_stock_prediction_data_df('MSFT')\n",
    "cols_to_drop = ['symbol', 'Date']\n",
    "msft_prediction_input.drop(cols_to_drop, axis=1, inplace=True)\n",
    "rf_three_months_model.predict_proba(msft_prediction_input)"
   ]
  },
  {
   "cell_type": "code",
   "execution_count": 25,
   "id": "20fc703e-6bf4-4c5c-acbf-2ea98d5514b4",
   "metadata": {},
   "outputs": [],
   "source": [
    "shap_values = explainer.shap_values(column_transformer.transform(msft_prediction_input))"
   ]
  },
  {
   "cell_type": "code",
   "execution_count": 26,
   "id": "ba697391-0bcf-4f74-a856-01c6809b9849",
   "metadata": {},
   "outputs": [
    {
     "data": {
      "text/plain": [
       "[array([[ 1.17393919e-04,  1.29604756e-03, -9.94309598e-04,\n",
       "          6.07546240e-05,  3.18502722e-04, -8.21728956e-03,\n",
       "          3.28638899e-05,  1.09051239e-02,  8.98179554e-03,\n",
       "         -3.68548615e-03,  1.01374019e-02, -8.52643027e-03,\n",
       "          3.24074527e-03,  1.19837483e-03, -9.24884043e-03,\n",
       "          1.11860928e-03,  1.90129004e-02, -9.76179757e-03,\n",
       "          2.40121704e-03, -4.18581484e-03, -3.15976999e-03,\n",
       "          1.65796103e-03,  6.80192343e-03,  5.03895516e-04,\n",
       "         -3.00784129e-03,  1.01648513e-03, -7.34159401e-04,\n",
       "         -5.14793973e-03, -3.92277583e-03,  2.48228363e-03,\n",
       "         -2.20453010e-03, -3.83691861e-04, -6.73731987e-04,\n",
       "         -1.06060665e-04,  1.18782835e-02, -4.43263053e-05,\n",
       "         -3.98634084e-03,  1.10635774e-03,  7.85847524e-04,\n",
       "          5.82467819e-03, -8.06916573e-03]]),\n",
       " array([[-1.17393919e-04, -1.29604756e-03,  9.94309598e-04,\n",
       "         -6.07546240e-05, -3.18502722e-04,  8.21728956e-03,\n",
       "         -3.28638899e-05, -1.09051239e-02, -8.98179554e-03,\n",
       "          3.68548615e-03, -1.01374019e-02,  8.52643027e-03,\n",
       "         -3.24074527e-03, -1.19837483e-03,  9.24884043e-03,\n",
       "         -1.11860928e-03, -1.90129004e-02,  9.76179757e-03,\n",
       "         -2.40121704e-03,  4.18581484e-03,  3.15976999e-03,\n",
       "         -1.65796103e-03, -6.80192343e-03, -5.03895516e-04,\n",
       "          3.00784129e-03, -1.01648513e-03,  7.34159401e-04,\n",
       "          5.14793973e-03,  3.92277583e-03, -2.48228363e-03,\n",
       "          2.20453010e-03,  3.83691861e-04,  6.73731987e-04,\n",
       "          1.06060665e-04, -1.18782835e-02,  4.43263053e-05,\n",
       "          3.98634084e-03, -1.10635774e-03, -7.85847524e-04,\n",
       "         -5.82467819e-03,  8.06916573e-03]])]"
      ]
     },
     "execution_count": 26,
     "metadata": {},
     "output_type": "execute_result"
    }
   ],
   "source": [
    "shap_values"
   ]
  },
  {
   "cell_type": "code",
   "execution_count": 27,
   "id": "c5337a7c-bb31-436e-9eb6-93d7be62f7e3",
   "metadata": {},
   "outputs": [],
   "source": [
    "features = column_transformer.get_feature_names_out()"
   ]
  },
  {
   "cell_type": "code",
   "execution_count": 85,
   "id": "6078e357-2370-41cc-ad6c-932a665c7044",
   "metadata": {},
   "outputs": [
    {
     "data": {
      "text/plain": [
       "41"
      ]
     },
     "execution_count": 85,
     "metadata": {},
     "output_type": "execute_result"
    }
   ],
   "source": [
    "len(features)"
   ]
  },
  {
   "cell_type": "code",
   "execution_count": 23,
   "id": "65dde05c",
   "metadata": {},
   "outputs": [
    {
     "data": {
      "text/plain": [
       "array(['onehotencoder__sector_ENERGY & TRANSPORTATION',\n",
       "       'onehotencoder__sector_FINANCE',\n",
       "       'onehotencoder__sector_LIFE SCIENCES',\n",
       "       'onehotencoder__sector_MANUFACTURING',\n",
       "       'onehotencoder__sector_REAL ESTATE & CONSTRUCTION',\n",
       "       'onehotencoder__sector_TECHNOLOGY',\n",
       "       'onehotencoder__sector_TRADE & SERVICES',\n",
       "       'remainder__interest_rate', 'remainder__treasury_yield',\n",
       "       'remainder__price_pct_change_last_six_months',\n",
       "       'remainder__price_pct_change_last_three_months',\n",
       "       'remainder__price_pct_change_last_month',\n",
       "       'remainder__price_volatility_last_six_months',\n",
       "       'remainder__price_volatility_last_three_months',\n",
       "       'remainder__price_volatility_last_month',\n",
       "       'remainder__sector_pct_change_last_six_months',\n",
       "       'remainder__sector_pct_change_last_three_months',\n",
       "       'remainder__sector_pct_change_last_month',\n",
       "       'remainder__capital_expenditures_arctan_pct_change',\n",
       "       'remainder__cash_and_cash_equivalents_at_carrying_value_arctan_pct_change',\n",
       "       'remainder__cashflow_from_financing_arctan_pct_change',\n",
       "       'remainder__cashflow_from_investment_arctan_pct_change',\n",
       "       'remainder__current_net_receivables_arctan_pct_change',\n",
       "       'remainder__dividend_payout_arctan_pct_change',\n",
       "       'remainder__ebitda_arctan_pct_change',\n",
       "       'remainder__gross_profit_arctan_pct_change',\n",
       "       'remainder__inventory_arctan_pct_change',\n",
       "       'remainder__long_term_debt_arctan_pct_change',\n",
       "       'remainder__net_income_arctan_pct_change',\n",
       "       'remainder__net_interest_income_arctan_pct_change',\n",
       "       'remainder__operating_cashflow_arctan_pct_change',\n",
       "       'remainder__operating_income_arctan_pct_change',\n",
       "       'remainder__payments_for_repurchase_of_equity_arctan_pct_change',\n",
       "       'remainder__proceeds_from_issuance_of_long_term_debt_and_capital_securities_net_arctan_pct_change',\n",
       "       'remainder__property_plant_equipment_arctan_pct_change',\n",
       "       'remainder__total_assets_arctan_pct_change',\n",
       "       'remainder__total_current_assets_arctan_pct_change',\n",
       "       'remainder__total_current_liabilities_arctan_pct_change',\n",
       "       'remainder__total_liabilities_arctan_pct_change',\n",
       "       'remainder__total_revenue_arctan_pct_change',\n",
       "       'remainder__total_shareholder_equity_arctan_pct_change'],\n",
       "      dtype=object)"
      ]
     },
     "execution_count": 23,
     "metadata": {},
     "output_type": "execute_result"
    }
   ],
   "source": [
    "features"
   ]
  },
  {
   "cell_type": "code",
   "execution_count": 22,
   "id": "ba48453e",
   "metadata": {},
   "outputs": [
    {
     "data": {
      "text/plain": [
       "41"
      ]
     },
     "execution_count": 22,
     "metadata": {},
     "output_type": "execute_result"
    }
   ],
   "source": [
    "len(shap_values[0][0])"
   ]
  },
  {
   "cell_type": "code",
   "execution_count": 53,
   "id": "e2a170c7",
   "metadata": {},
   "outputs": [],
   "source": [
    "features_with_shap_values = list()\n",
    "\n",
    "for i in range(len(features)):\n",
    "    feature_name = features[i]\n",
    "    shap_value = shap_values[0][0][i]\n",
    "    features_with_shap_values.append((feature_name, shap_value))"
   ]
  },
  {
   "cell_type": "code",
   "execution_count": 62,
   "id": "3125acbc",
   "metadata": {},
   "outputs": [
    {
     "data": {
      "text/plain": [
       "0    0.101141\n",
       "Name: price_pct_change_last_month, dtype: float64"
      ]
     },
     "execution_count": 62,
     "metadata": {},
     "output_type": "execute_result"
    }
   ],
   "source": [
    "msft_prediction_input['price_pct_change_last_month']"
   ]
  },
  {
   "cell_type": "code",
   "execution_count": 55,
   "id": "628380ba",
   "metadata": {},
   "outputs": [
    {
     "data": {
      "text/plain": [
       "[('remainder__sector_pct_change_last_three_months', 0.05417185440993333),\n",
       " ('remainder__treasury_yield', 0.029443205003004392),\n",
       " ('remainder__price_pct_change_last_three_months', 0.013772966873656306),\n",
       " ('remainder__total_shareholder_equity_arctan_pct_change',\n",
       "  0.01232456886379678),\n",
       " ('remainder__price_pct_change_last_month', 0.0077761790088713865),\n",
       " ('remainder__total_current_assets_arctan_pct_change', 0.005883434100945105),\n",
       " ('remainder__sector_pct_change_last_month', 0.004852036438226585),\n",
       " ('remainder__price_volatility_last_three_months', 0.004718055225106918),\n",
       " ('remainder__net_interest_income_arctan_pct_change', 0.00461440916046685),\n",
       " ('remainder__price_volatility_last_six_months', 0.004524897026619105),\n",
       " ('remainder__interest_rate', 0.003739077406934326),\n",
       " ('remainder__cashflow_from_investment_arctan_pct_change',\n",
       "  0.002247110629168423),\n",
       " ('remainder__dividend_payout_arctan_pct_change', 0.0020758999709469808),\n",
       " ('remainder__total_current_liabilities_arctan_pct_change',\n",
       "  0.0020693922627338913),\n",
       " ('remainder__price_pct_change_last_six_months', 0.0017217783000102644),\n",
       " ('onehotencoder__sector_TECHNOLOGY', 0.0015945402421490833),\n",
       " ('onehotencoder__sector_TRADE & SERVICES', 0.001413093424463612),\n",
       " ('remainder__sector_pct_change_last_six_months', 0.0012487454139969518),\n",
       " ('onehotencoder__sector_FINANCE', 0.0009628880549679345),\n",
       " ('onehotencoder__sector_MANUFACTURING', 0.0007435517180118452),\n",
       " ('remainder__operating_cashflow_arctan_pct_change', 0.0004622781829688219),\n",
       " ('onehotencoder__sector_REAL ESTATE & CONSTRUCTION', 0.0003269491230137403),\n",
       " ('remainder__long_term_debt_arctan_pct_change', 0.00023922552725751242),\n",
       " ('remainder__total_liabilities_arctan_pct_change', -3.071889243996047e-05),\n",
       " ('remainder__inventory_arctan_pct_change', -0.00011484686891163446),\n",
       " ('remainder__total_assets_arctan_pct_change', -0.00022200883814773423),\n",
       " ('remainder__cash_and_cash_equivalents_at_carrying_value_arctan_pct_change',\n",
       "  -0.00023810936807034945),\n",
       " ('remainder__proceeds_from_issuance_of_long_term_debt_and_capital_securities_net_arctan_pct_change',\n",
       "  -0.000484210899796323),\n",
       " ('remainder__cashflow_from_financing_arctan_pct_change',\n",
       "  -0.0005429126544128157),\n",
       " ('onehotencoder__sector_ENERGY & TRANSPORTATION', -0.000837991844726964),\n",
       " ('remainder__operating_income_arctan_pct_change', -0.001094031490527355),\n",
       " ('remainder__capital_expenditures_arctan_pct_change', -0.0011552612594720251),\n",
       " ('onehotencoder__sector_LIFE SCIENCES', -0.0012100201060108512),\n",
       " ('remainder__property_plant_equipment_arctan_pct_change',\n",
       "  -0.0017184463701212479),\n",
       " ('remainder__gross_profit_arctan_pct_change', -0.003369429793104737),\n",
       " ('remainder__net_income_arctan_pct_change', -0.0034492678714783927),\n",
       " ('remainder__payments_for_repurchase_of_equity_arctan_pct_change',\n",
       "  -0.00472080512677731),\n",
       " ('remainder__ebitda_arctan_pct_change', -0.005216688132925312),\n",
       " ('remainder__current_net_receivables_arctan_pct_change',\n",
       "  -0.005360691104163016),\n",
       " ('remainder__price_volatility_last_month', -0.00728493103527023),\n",
       " ('remainder__total_revenue_arctan_pct_change', -0.009056620264077804)]"
      ]
     },
     "execution_count": 55,
     "metadata": {},
     "output_type": "execute_result"
    }
   ],
   "source": [
    "sorted(features_with_shap_values, key=lambda x: x[1], reverse=True)"
   ]
  },
  {
   "cell_type": "code",
   "execution_count": 56,
   "id": "9907bd34",
   "metadata": {},
   "outputs": [
    {
     "data": {
      "text/plain": [
       "[('remainder__total_revenue_arctan_pct_change', -0.009056620264077804),\n",
       " ('remainder__price_volatility_last_month', -0.00728493103527023),\n",
       " ('remainder__current_net_receivables_arctan_pct_change',\n",
       "  -0.005360691104163016),\n",
       " ('remainder__ebitda_arctan_pct_change', -0.005216688132925312),\n",
       " ('remainder__payments_for_repurchase_of_equity_arctan_pct_change',\n",
       "  -0.00472080512677731),\n",
       " ('remainder__net_income_arctan_pct_change', -0.0034492678714783927),\n",
       " ('remainder__gross_profit_arctan_pct_change', -0.003369429793104737),\n",
       " ('remainder__property_plant_equipment_arctan_pct_change',\n",
       "  -0.0017184463701212479),\n",
       " ('onehotencoder__sector_LIFE SCIENCES', -0.0012100201060108512),\n",
       " ('remainder__capital_expenditures_arctan_pct_change', -0.0011552612594720251),\n",
       " ('remainder__operating_income_arctan_pct_change', -0.001094031490527355),\n",
       " ('onehotencoder__sector_ENERGY & TRANSPORTATION', -0.000837991844726964),\n",
       " ('remainder__cashflow_from_financing_arctan_pct_change',\n",
       "  -0.0005429126544128157),\n",
       " ('remainder__proceeds_from_issuance_of_long_term_debt_and_capital_securities_net_arctan_pct_change',\n",
       "  -0.000484210899796323),\n",
       " ('remainder__cash_and_cash_equivalents_at_carrying_value_arctan_pct_change',\n",
       "  -0.00023810936807034945),\n",
       " ('remainder__total_assets_arctan_pct_change', -0.00022200883814773423),\n",
       " ('remainder__inventory_arctan_pct_change', -0.00011484686891163446),\n",
       " ('remainder__total_liabilities_arctan_pct_change', -3.071889243996047e-05),\n",
       " ('remainder__long_term_debt_arctan_pct_change', 0.00023922552725751242),\n",
       " ('onehotencoder__sector_REAL ESTATE & CONSTRUCTION', 0.0003269491230137403),\n",
       " ('remainder__operating_cashflow_arctan_pct_change', 0.0004622781829688219),\n",
       " ('onehotencoder__sector_MANUFACTURING', 0.0007435517180118452),\n",
       " ('onehotencoder__sector_FINANCE', 0.0009628880549679345),\n",
       " ('remainder__sector_pct_change_last_six_months', 0.0012487454139969518),\n",
       " ('onehotencoder__sector_TRADE & SERVICES', 0.001413093424463612),\n",
       " ('onehotencoder__sector_TECHNOLOGY', 0.0015945402421490833),\n",
       " ('remainder__price_pct_change_last_six_months', 0.0017217783000102644),\n",
       " ('remainder__total_current_liabilities_arctan_pct_change',\n",
       "  0.0020693922627338913),\n",
       " ('remainder__dividend_payout_arctan_pct_change', 0.0020758999709469808),\n",
       " ('remainder__cashflow_from_investment_arctan_pct_change',\n",
       "  0.002247110629168423),\n",
       " ('remainder__interest_rate', 0.003739077406934326),\n",
       " ('remainder__price_volatility_last_six_months', 0.004524897026619105),\n",
       " ('remainder__net_interest_income_arctan_pct_change', 0.00461440916046685),\n",
       " ('remainder__price_volatility_last_three_months', 0.004718055225106918),\n",
       " ('remainder__sector_pct_change_last_month', 0.004852036438226585),\n",
       " ('remainder__total_current_assets_arctan_pct_change', 0.005883434100945105),\n",
       " ('remainder__price_pct_change_last_month', 0.0077761790088713865),\n",
       " ('remainder__total_shareholder_equity_arctan_pct_change',\n",
       "  0.01232456886379678),\n",
       " ('remainder__price_pct_change_last_three_months', 0.013772966873656306),\n",
       " ('remainder__treasury_yield', 0.029443205003004392),\n",
       " ('remainder__sector_pct_change_last_three_months', 0.05417185440993333)]"
      ]
     },
     "execution_count": 56,
     "metadata": {},
     "output_type": "execute_result"
    }
   ],
   "source": [
    "sorted(features_with_shap_values, key=lambda x: x[1], reverse=False)"
   ]
  },
  {
   "cell_type": "code",
   "execution_count": 28,
   "id": "d4c55c69-8964-4489-b7b8-a46478839969",
   "metadata": {},
   "outputs": [
    {
     "data": {
      "image/png": "[encoded data removed]",
      "text/plain": [
       "<Figure size 800x950 with 1 Axes>"
      ]
     },
     "metadata": {},
     "output_type": "display_data"
    }
   ],
   "source": [
    "shap.summary_plot(shap_values, feature_names=features)"
   ]
  },
  {
   "cell_type": "code",
   "execution_count": null,
   "id": "b9d8add7-908c-4633-a5d7-f159cd233165",
   "metadata": {},
   "outputs": [],
   "source": []
  }
 ],
 "metadata": {
  "kernelspec": {
   "display_name": "Python 3 (ipykernel)",
   "language": "python",
   "name": "python3"
  },
  "language_info": {
   "codemirror_mode": {
    "name": "ipython",
    "version": 3
   },
   "file_extension": ".py",
   "mimetype": "text/x-python",
   "name": "python",
   "nbconvert_exporter": "python",
   "pygments_lexer": "ipython3",
   "version": "3.11.0"
  }
 },
 "nbformat": 4,
 "nbformat_minor": 5
}
